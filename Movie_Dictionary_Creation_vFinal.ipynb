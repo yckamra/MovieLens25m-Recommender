{
  "nbformat": 4,
  "nbformat_minor": 0,
  "metadata": {
    "colab": {
      "provenance": [],
      "machine_shape": "hm",
      "authorship_tag": "ABX9TyP6lkKkP5g2YTilvgxbMmn2",
      "include_colab_link": true
    },
    "kernelspec": {
      "name": "python3",
      "display_name": "Python 3"
    },
    "language_info": {
      "name": "python"
    }
  },
  "cells": [
    {
      "cell_type": "markdown",
      "metadata": {
        "id": "view-in-github",
        "colab_type": "text"
      },
      "source": [
        "<a href=\"https://colab.research.google.com/github/yckamra/MovieLens25m-Recommender/blob/main/Movie_Dictionary_Creation_vFinal.ipynb\" target=\"_parent\"><img src=\"https://colab.research.google.com/assets/colab-badge.svg\" alt=\"Open In Colab\"/></a>"
      ]
    },
    {
      "cell_type": "code",
      "execution_count": null,
      "metadata": {
        "colab": {
          "base_uri": "https://localhost:8080/"
        },
        "id": "Ciqj5JsNa6_W",
        "outputId": "e85cf00b-f851-44c7-d00f-f0c0d6acd029"
      },
      "outputs": [
        {
          "output_type": "stream",
          "name": "stdout",
          "text": [
            "Installing project dependencies...\n",
            "Requirement already satisfied: numpy in /usr/local/lib/python3.11/dist-packages (2.0.2)\n",
            "Requirement already satisfied: pandas in /usr/local/lib/python3.11/dist-packages (2.2.2)\n",
            "Requirement already satisfied: scipy in /usr/local/lib/python3.11/dist-packages (1.15.3)\n",
            "Requirement already satisfied: scikit-learn in /usr/local/lib/python3.11/dist-packages (1.6.1)\n",
            "Requirement already satisfied: python-dateutil>=2.8.2 in /usr/local/lib/python3.11/dist-packages (from pandas) (2.9.0.post0)\n",
            "Requirement already satisfied: pytz>=2020.1 in /usr/local/lib/python3.11/dist-packages (from pandas) (2025.2)\n",
            "Requirement already satisfied: tzdata>=2022.7 in /usr/local/lib/python3.11/dist-packages (from pandas) (2025.2)\n",
            "Requirement already satisfied: joblib>=1.2.0 in /usr/local/lib/python3.11/dist-packages (from scikit-learn) (1.5.1)\n",
            "Requirement already satisfied: threadpoolctl>=3.1.0 in /usr/local/lib/python3.11/dist-packages (from scikit-learn) (3.6.0)\n",
            "Requirement already satisfied: six>=1.5 in /usr/local/lib/python3.11/dist-packages (from python-dateutil>=2.8.2->pandas) (1.17.0)\n",
            "Collecting implicit\n",
            "  Downloading implicit-0.7.2-cp311-cp311-manylinux2014_x86_64.whl.metadata (6.1 kB)\n",
            "Requirement already satisfied: numpy>=1.17.0 in /usr/local/lib/python3.11/dist-packages (from implicit) (2.0.2)\n",
            "Requirement already satisfied: scipy>=0.16 in /usr/local/lib/python3.11/dist-packages (from implicit) (1.15.3)\n",
            "Requirement already satisfied: tqdm>=4.27 in /usr/local/lib/python3.11/dist-packages (from implicit) (4.67.1)\n",
            "Requirement already satisfied: threadpoolctl in /usr/local/lib/python3.11/dist-packages (from implicit) (3.6.0)\n",
            "Downloading implicit-0.7.2-cp311-cp311-manylinux2014_x86_64.whl (8.9 MB)\n",
            "\u001b[2K   \u001b[90m━━━━━━━━━━━━━━━━━━━━━━━━━━━━━━━━━━━━━━━━\u001b[0m \u001b[32m8.9/8.9 MB\u001b[0m \u001b[31m92.9 MB/s\u001b[0m eta \u001b[36m0:00:00\u001b[0m\n",
            "\u001b[?25hInstalling collected packages: implicit\n",
            "Successfully installed implicit-0.7.2\n",
            "Dependencies installed successfully.\n"
          ]
        }
      ],
      "source": [
        "print(\"Installing project dependencies...\")\n",
        "!pip install numpy pandas scipy scikit-learn # Basic libraries we want\n",
        "!pip install implicit # Installs implicit library for matrix factorization\n",
        "#!pip install torch\n",
        "print(\"Dependencies installed successfully.\")"
      ]
    },
    {
      "cell_type": "code",
      "source": [
        "from google.colab import auth\n",
        "from google.cloud import storage\n",
        "import zipfile\n",
        "import os\n",
        "import pickle\n",
        "import pandas as pd\n",
        "import numpy as np\n",
        "import implicit\n",
        "import json"
      ],
      "metadata": {
        "id": "nmxju1u7bEfI"
      },
      "execution_count": null,
      "outputs": []
    },
    {
      "cell_type": "code",
      "source": [
        "auth.authenticate_user()\n",
        "\n",
        "!gcloud config set project movielens-recommender-451017\n",
        "\n",
        "!gsutil cp gs://movielens-data/data.zip /content/"
      ],
      "metadata": {
        "colab": {
          "base_uri": "https://localhost:8080/"
        },
        "id": "R9IChx6ZbIXB",
        "outputId": "03353ccb-8ed8-46b7-b492-6fc894bdefc7"
      },
      "execution_count": null,
      "outputs": [
        {
          "output_type": "stream",
          "name": "stdout",
          "text": [
            "Updated property [core/project].\n",
            "Copying gs://movielens-data/data.zip...\n",
            "==> NOTE: You are downloading one or more large file(s), which would\n",
            "run significantly faster if you enabled sliced object downloads. This\n",
            "feature is enabled by default but requires that compiled crcmod be\n",
            "installed (see \"gsutil help crcmod\").\n",
            "\n",
            "- [1 files][262.6 MiB/262.6 MiB]                                                \n",
            "Operation completed over 1 objects/262.6 MiB.                                    \n"
          ]
        }
      ]
    },
    {
      "cell_type": "markdown",
      "source": [
        "TMDb dataset: https://www.kaggle.com/datasets/tmdb/tmdb-movie-metadata?select=tmdb_5000_movies.csv\n",
        "\n",
        "Big TMDB dataset: https://www.kaggle.com/datasets/asaniczka/tmdb-movies-dataset-2023-930k-movies/data\n",
        "\n",
        "MovieLens dataset: https://www.kaggle.com/datasets/garymk/movielens-25m-dataset"
      ],
      "metadata": {
        "id": "BNIMqCN0clcU"
      }
    },
    {
      "cell_type": "code",
      "source": [
        "!ls -lh /content/"
      ],
      "metadata": {
        "colab": {
          "base_uri": "https://localhost:8080/"
        },
        "id": "vHAK2WCbbLCF",
        "outputId": "d7c0e301-6385-465b-98e5-f75b3c59aea9"
      },
      "execution_count": null,
      "outputs": [
        {
          "output_type": "stream",
          "name": "stdout",
          "text": [
            "total 263M\n",
            "-rw-r--r-- 1 root root 263M Jun 16 18:23 data.zip\n",
            "drwxr-xr-x 1 root root 4.0K Jun 13 13:36 sample_data\n"
          ]
        }
      ]
    },
    {
      "cell_type": "code",
      "source": [
        "zip_path = \"/content/data.zip\" # File name\n",
        "extract_to = \"/content/data/\"  # Where to extract files\n",
        "\n",
        "# Create directory if it doesn't exist\n",
        "os.makedirs(extract_to, exist_ok=True)\n",
        "\n",
        "# Unzip the file\n",
        "with zipfile.ZipFile(zip_path, \"r\") as zip_ref:\n",
        "    zip_ref.extractall(extract_to)\n",
        "\n",
        "print(\"Extraction complete! Files are in:\", extract_to)\n",
        "!ls -lh /content/data/"
      ],
      "metadata": {
        "colab": {
          "base_uri": "https://localhost:8080/"
        },
        "id": "z3tsP4dpbNsp",
        "outputId": "919f358f-6443-4045-813c-9611e74b1af3"
      },
      "execution_count": null,
      "outputs": [
        {
          "output_type": "stream",
          "name": "stdout",
          "text": [
            "Extraction complete! Files are in: /content/data/\n",
            "total 8.0K\n",
            "drwxr-xr-x 4 root root 4.0K Jun 16 18:23 data\n",
            "drwxr-xr-x 3 root root 4.0K Jun 16 18:23 __MACOSX\n"
          ]
        }
      ]
    },
    {
      "cell_type": "code",
      "source": [
        "!ls -lh /content/data/data/ml-25m"
      ],
      "metadata": {
        "colab": {
          "base_uri": "https://localhost:8080/"
        },
        "id": "8-hI7KhI-mz0",
        "outputId": "5432cf12-320d-4da1-b5e0-3ad0bbaeca68"
      },
      "execution_count": null,
      "outputs": [
        {
          "output_type": "stream",
          "name": "stdout",
          "text": [
            "total 1.1G\n",
            "-rw-r--r-- 1 root root 416M Jun 16 18:23 genome-scores.csv\n",
            "-rw-r--r-- 1 root root  18K Jun 16 18:23 genome-tags.csv\n",
            "-rw-r--r-- 1 root root 1.4M Jun 16 18:23 links.csv\n",
            "-rw-r--r-- 1 root root 2.9M Jun 16 18:23 movies.csv\n",
            "-rw-r--r-- 1 root root 647M Jun 16 18:23 ratings.csv\n",
            "-rw-r--r-- 1 root root  11K Jun 16 18:23 README.txt\n",
            "-rw-r--r-- 1 root root  38M Jun 16 18:23 tags.csv\n"
          ]
        }
      ]
    },
    {
      "cell_type": "code",
      "source": [
        "genome_scores_CSV = \"/content/data/data/ml-25m/genome-scores.csv\"\n",
        "genome_tags_CSV = \"/content/data/data/ml-25m/genome-tags.csv\"\n",
        "links_CSV = \"/content/data/data/ml-25m/links.csv\"\n",
        "movies_CSV = \"/content/data/data/ml-25m/movies.csv\"\n",
        "ratings_CSV = \"/content/data/data/ml-25m/ratings.csv\"\n",
        "tags_CSV = \"/content/data/data/ml-25m/tags.csv\""
      ],
      "metadata": {
        "id": "Ox-l1-D3bSRX"
      },
      "execution_count": null,
      "outputs": []
    },
    {
      "cell_type": "code",
      "source": [
        "class Movie:\n",
        "  # Items in self:\n",
        "  #     ID\n",
        "  #     name\n",
        "  #     genre_list\n",
        "  #     tag_list\n",
        "  #     number_of_ratings -- total amount this movies has been rated\n",
        "  #     sum_of_ratings -- summation of all the ratings from all users for this movie\n",
        "  #     year\n",
        "  #     imdbId\n",
        "  #     tmdbId\n",
        "  #     actors_list\n",
        "  #     tmdb_tag_list\n",
        "\n",
        "  def __init__(self):\n",
        "    self.ID = None\n",
        "    self.title = None\n",
        "    self.genre_list = []\n",
        "    self.tag_list = []\n",
        "    self.number_of_ratings = 0\n",
        "    self.sum_of_ratings = 0\n",
        "    self.year = None\n",
        "    self.imdbId = None\n",
        "    self.tmdbId = None\n",
        "    self.actors_list = []\n",
        "    self.tmdb_tag_list = []\n",
        "\n",
        "  def set_tmdb_tag_list(self, tags):\n",
        "    self.tmdb_tag_list = tags\n",
        "\n",
        "  def add_to_tmdb_tag_list(self, tags):\n",
        "    self.tmdb_tag_list = self.tmdb_tag_list + tags\n",
        "\n",
        "  def get_tmdb_tag_list(self):\n",
        "    return self.tmdb_tag_list\n",
        "\n",
        "  def set_actors_list(self, actors_list):\n",
        "    self.actors_list = actors_list\n",
        "\n",
        "  def add_actor_to_actors_list(self, actor):\n",
        "    self.actors_list.append(actor)\n",
        "\n",
        "  def get_actors_list(self):\n",
        "    return self.actors_list\n",
        "\n",
        "  def set_imdbId(self, imbdId):\n",
        "    self.imbdId = imbdId\n",
        "\n",
        "  def get_imdbId(self):\n",
        "    return self.imdbId\n",
        "\n",
        "  def set_tmdbId(self, tmdbId):\n",
        "    self.tmdbId = tmdbId\n",
        "\n",
        "  def get_tmdbId(self):\n",
        "    return self.tmdbId\n",
        "\n",
        "  def set_year(self, year):\n",
        "    self.year = year\n",
        "\n",
        "  def get_year(self):\n",
        "    return self.year\n",
        "\n",
        "  def get_tag_list(self):\n",
        "    return self.tag_list\n",
        "\n",
        "  def add_tag_to_tag_list(self, tag):\n",
        "    self.tag_list.append(tag)\n",
        "\n",
        "  def get_ID(self):\n",
        "    return self.ID\n",
        "\n",
        "  def set_ID(self, ID):\n",
        "    self.ID = ID\n",
        "\n",
        "  def set_title(self, title):\n",
        "    self.title = title\n",
        "\n",
        "  def get_title(self):\n",
        "    return self.title\n",
        "\n",
        "  def set_genre_list(self, genre_list):\n",
        "    self.genre_list = genre_list\n",
        "\n",
        "  def add_genre_to_genre_list(self, genre):\n",
        "    self.genre_list.append(genre)\n",
        "\n",
        "  def get_genre_list(self):\n",
        "    return self.genre_list\n",
        "\n",
        "  def get_number_of_ratings(self):\n",
        "    return self.number_of_ratings\n",
        "\n",
        "  def set_number_of_ratings(self, number):\n",
        "    self.number_of_ratings = number\n",
        "\n",
        "  def add_to_number_of_ratings(self):\n",
        "    self.number_of_ratings += 1\n",
        "\n",
        "  def get_sum_of_ratings(self):\n",
        "    return self.sum_of_ratings\n",
        "\n",
        "  def set_sum_of_ratings(self, number):\n",
        "    self.sum_of_ratings = number\n",
        "\n",
        "  def add_rating_to_sum_of_ratings(self, rating):\n",
        "    self.sum_of_ratings += rating\n",
        "\n",
        "  def calculate_average_rating(self):\n",
        "    if self.number_of_ratings == 0:\n",
        "      return 0\n",
        "    else:\n",
        "      return self.sum_of_ratings / self.number_of_ratings"
      ],
      "metadata": {
        "id": "nIOyFe8ebTil"
      },
      "execution_count": null,
      "outputs": []
    },
    {
      "cell_type": "code",
      "source": [
        "# Load ratings data\n",
        "ratings_path = ratings_CSV\n",
        "ratings_df = pd.read_csv(ratings_path)\n",
        "\n",
        "print(ratings_df)\n",
        "\n",
        "# Load movies data\n",
        "movies_path = movies_CSV\n",
        "movies_df = pd.read_csv(movies_path)\n",
        "\n",
        "print(movies_df)\n",
        "\n",
        "# Load tags data\n",
        "tags_path = tags_CSV\n",
        "tags_df = pd.read_csv(tags_path)\n",
        "\n",
        "print(tags_df)\n",
        "\n",
        "# Load links data\n",
        "links_path = links_CSV\n",
        "links_df = pd.read_csv(links_path)\n",
        "\n",
        "print(links_df)"
      ],
      "metadata": {
        "colab": {
          "base_uri": "https://localhost:8080/"
        },
        "id": "mMsERZR-bXDn",
        "outputId": "54572546-d63f-4dc3-8efc-9e22d2e05d30"
      },
      "execution_count": null,
      "outputs": [
        {
          "output_type": "stream",
          "name": "stdout",
          "text": [
            "          userId  movieId  rating   timestamp\n",
            "0              1      296     5.0  1147880044\n",
            "1              1      306     3.5  1147868817\n",
            "2              1      307     5.0  1147868828\n",
            "3              1      665     5.0  1147878820\n",
            "4              1      899     3.5  1147868510\n",
            "...          ...      ...     ...         ...\n",
            "25000090  162541    50872     4.5  1240953372\n",
            "25000091  162541    55768     2.5  1240951998\n",
            "25000092  162541    56176     2.0  1240950697\n",
            "25000093  162541    58559     4.0  1240953434\n",
            "25000094  162541    63876     5.0  1240952515\n",
            "\n",
            "[25000095 rows x 4 columns]\n",
            "       movieId                               title  \\\n",
            "0            1                    Toy Story (1995)   \n",
            "1            2                      Jumanji (1995)   \n",
            "2            3             Grumpier Old Men (1995)   \n",
            "3            4            Waiting to Exhale (1995)   \n",
            "4            5  Father of the Bride Part II (1995)   \n",
            "...        ...                                 ...   \n",
            "62418   209157                           We (2018)   \n",
            "62419   209159           Window of the Soul (2001)   \n",
            "62420   209163                    Bad Poems (2018)   \n",
            "62421   209169                 A Girl Thing (2001)   \n",
            "62422   209171      Women of Devil's Island (1962)   \n",
            "\n",
            "                                            genres  \n",
            "0      Adventure|Animation|Children|Comedy|Fantasy  \n",
            "1                       Adventure|Children|Fantasy  \n",
            "2                                   Comedy|Romance  \n",
            "3                             Comedy|Drama|Romance  \n",
            "4                                           Comedy  \n",
            "...                                            ...  \n",
            "62418                                        Drama  \n",
            "62419                                  Documentary  \n",
            "62420                                 Comedy|Drama  \n",
            "62421                           (no genres listed)  \n",
            "62422                       Action|Adventure|Drama  \n",
            "\n",
            "[62423 rows x 3 columns]\n",
            "         userId  movieId                  tag   timestamp\n",
            "0             3      260              classic  1439472355\n",
            "1             3      260               sci-fi  1439472256\n",
            "2             4     1732          dark comedy  1573943598\n",
            "3             4     1732       great dialogue  1573943604\n",
            "4             4     7569     so bad it's good  1573943455\n",
            "...         ...      ...                  ...         ...\n",
            "1093355  162521    66934  Neil Patrick Harris  1427311611\n",
            "1093356  162521   103341     cornetto trilogy  1427311259\n",
            "1093357  162534   189169               comedy  1527518175\n",
            "1093358  162534   189169             disabled  1527518181\n",
            "1093359  162534   189169              robbery  1527518193\n",
            "\n",
            "[1093360 rows x 4 columns]\n",
            "       movieId   imdbId    tmdbId\n",
            "0            1   114709     862.0\n",
            "1            2   113497    8844.0\n",
            "2            3   113228   15602.0\n",
            "3            4   114885   31357.0\n",
            "4            5   113041   11862.0\n",
            "...        ...      ...       ...\n",
            "62418   209157  6671244  499546.0\n",
            "62419   209159   297986   63407.0\n",
            "62420   209163  6755366  553036.0\n",
            "62421   209169   249603  162892.0\n",
            "62422   209171    55323   79513.0\n",
            "\n",
            "[62423 rows x 3 columns]\n"
          ]
        }
      ]
    },
    {
      "cell_type": "code",
      "source": [
        "def parse_genres(genre_string):\n",
        "  genre_list = genre_string.split('|')\n",
        "  return genre_list\n",
        "\n",
        "def parse_year_from_title(title): # Split title of movie from the year of release from the MovieLens data\n",
        "  length_of_title = len(title)\n",
        "\n",
        "def create_all_movies_dictionary(movies_df, ratings_df, tags_df, links_df): # TODO: SPLIT year from title and CREATE genre one-hot encoded vector\n",
        "  all_movies_dictionary = {}\n",
        "  for index, row in ratings_df.iterrows():\n",
        "    if row[\"movieId\"] not in all_movies_dictionary:\n",
        "      all_movies_dictionary[row[\"movieId\"]] = Movie()\n",
        "    all_movies_dictionary[row[\"movieId\"]].add_to_number_of_ratings()\n",
        "    all_movies_dictionary[row[\"movieId\"]].add_rating_to_sum_of_ratings(row[\"rating\"])\n",
        "  for index, row in movies_df.iterrows():\n",
        "    if row[\"movieId\"] not in all_movies_dictionary:\n",
        "      all_movies_dictionary[row[\"movieId\"]] = Movie()\n",
        "    all_movies_dictionary[row[\"movieId\"]].set_title(row[\"title\"])\n",
        "    all_movies_dictionary[row[\"movieId\"]].set_ID(row[\"movieId\"])\n",
        "    all_movies_dictionary[row[\"movieId\"]].set_genre_list(parse_genres(row[\"genres\"]))\n",
        "  for index, row in tags_df.iterrows():\n",
        "    if row[\"movieId\"] not in all_movies_dictionary:\n",
        "      all_movies_dictionary[row[\"movieId\"]] = Movie()\n",
        "    all_movies_dictionary[row[\"movieId\"]].add_tag_to_tag_list(row[\"tag\"])\n",
        "  for index, row in links_df.iterrows():\n",
        "    if row[\"movieId\"] not in all_movies_dictionary:\n",
        "      all_movies_dictionary[row[\"movieId\"]] = Movie()\n",
        "    if pd.isna(row[\"imdbId\"]) or row[\"imdbId\"] == '':\n",
        "      # do nothing\n",
        "      pass\n",
        "    else:\n",
        "      all_movies_dictionary[row[\"movieId\"]].set_imdbId(row[\"imdbId\"])\n",
        "    if pd.isna(row[\"tmdbId\"]) or row[\"tmdbId\"] == '':\n",
        "      # do nothing\n",
        "      pass\n",
        "    else:\n",
        "      all_movies_dictionary[row[\"movieId\"]].set_tmdbId(row[\"tmdbId\"])\n",
        "\n",
        "  return all_movies_dictionary"
      ],
      "metadata": {
        "id": "MrEkxjVrbaDY"
      },
      "execution_count": null,
      "outputs": []
    },
    {
      "cell_type": "code",
      "source": [
        "allMovies = create_all_movies_dictionary(movies_df, ratings_df, tags_df, links_df)"
      ],
      "metadata": {
        "id": "4nIhBoyIfLqQ"
      },
      "execution_count": null,
      "outputs": []
    },
    {
      "cell_type": "code",
      "source": [
        "the_ID = 6\n",
        "print(f\"movieId: {allMovies[the_ID].get_ID()}\")\n",
        "print(f\"title: {allMovies[the_ID].get_title()}\")\n",
        "print(f\"genre_list: {allMovies[the_ID].get_genre_list()}\")\n",
        "print(f\"average_rating: {allMovies[the_ID].calculate_average_rating()}\")\n",
        "print(f\"total_number_of_ratings: {allMovies[the_ID].get_number_of_ratings()}\")\n",
        "print(f\"MovieLens_tags: {allMovies[the_ID].get_tag_list()}\")"
      ],
      "metadata": {
        "colab": {
          "base_uri": "https://localhost:8080/"
        },
        "id": "4vuefl1Ybcq8",
        "outputId": "4ca7c509-5d33-46a2-cbd2-04997b3e8176"
      },
      "execution_count": null,
      "outputs": [
        {
          "output_type": "stream",
          "name": "stdout",
          "text": [
            "movieId: 6\n",
            "title: Heat (1995)\n",
            "genre_list: ['Action', 'Crime', 'Thriller']\n",
            "average_rating: 3.854908898649748\n",
            "total_number_of_ratings: 24588\n",
            "MovieLens_tags: ['imdb top 250', 'great acting', 'realistic action', 'suspense', 'Al Pacino', 'atmospheric', 'bank robbery', 'crime', 'great acting', 'realistic action', 'Robert De Niro', 'suspense', 'tense', 'Val Kilmer', 'bank job', 'bank robbery', 'crime', 'dialogue', 'heist', 'heist movie', 'long', 'Al Pacino', 'atmospheric', 'realistic action', 'Robert De Niro', 'bank robbery', 'Los Angeles', 'realistic action', 'Al Pacino', 'atmospheric', 'Michael Mann', 'realistic action', 'Robert De Niro', 'visceral', 'atmospheric', 'bleak', 'slick', 'somber', 'tense', 'visceral', 'witty', 'bank job', 'betrayal', 'cat and mouse', 'chase', 'crime epic', 'criminal mastermind', 'cult film', 'detective', 'ex-con', 'gang', 'heist', 'heist movie', 'honor', 'loner', 'los angeles', 'murder', 'neo-noir', 'obsession', 'one last job', 'robbery', 'suspense', 'thief', 'atmospheric', 'realistic action', 'Al Pacino', 'imdb top 250', 'Robert De Niro', 'crime', 'suspense', 'Recommendz Top Pick', 'Al Pacino', 'bank robbery', 'great acting', 'gunfight', 'long', 'realistic action', 'Robert De Niro', 'suspense', 'tense', '1', 'Al Pacino', 'crime', 'great acting', 'realistic action', 'suspense', 'tense', 'imdb top 250', 'Al Pacino', 'great acting', 'Robert De Niro', 'suspense', 'Val Kilmer', 'Al Pacino', 'dialogue', 'gunfight', 'overrated', 'philosophy', 'Al Pacino', 'bank robbery', 'crime', 'great acting', 'Natalie Portman', 'realistic action', 'Robert De Niro', 'soundtrack', 'suspense', 'tense', 'Val Kilmer', 'al pacino', 'electronic soundtrack', 'robert de niro', 'slow paced', 'blu-ray', 'mine', 'Al Pacino', 'atmospheric', 'crime', 'great acting', 'realistic', 'realistic action', 'Robert De Niro', 'suspense', 'tense', 'cliched', 'dumbed down', 'hollywoodization', 'lame', 'crime', 'suspense', '7.5-FilmAffinity', 'es un poc de lo de sempre', 'Al Pacino', 'long', 'Natalie Portman', 'overrated', 'Robert De Niro', 'too long', 'overrated', 'atmospheric', 'bank robbery', 'crime', 'dialogue', 'great acting', 'philosophy', 'tense', 'long', 'tense', 'realistic action', 'Al Pacino', 'philosophy', 'long', 'overrated', 'too long', 'realistic action', 'Al Pacino', 'Ashley Judd', 'Bechdel Test:Fail', 'bleak', 'dialogue', 'ensemble cast', 'gunfight', 'long', 'overrated', 'police', 'relationships', 'Robert De Niro', 'too long', 'Al Pacino', 'great acting', 'realistic action', 'Al Pacino', 'crime', 'gunfight', 'Michael Mann', 'realistic action', 'Robert De Niro', 'suspense', 'tense', 'Al Pacino', 'great acting', 'Robert De Niro', 'Al Pacino', 'atmospheric', 'crime', 'great acting', 'long', 'Michael Mann', 'realistic', 'realistic action', 'Robert De Niro', 'suspense', 'tense', 'Al Pacino', 'atmospheric', 'crime', 'dialogue', 'great acting', 'gunfight', 'realistic action', 'Robert De Niro', 'suspense', 'tense', 'Al Pacino', 'atmospheric', 'Robert De Niro', 'suspense', 'tense', 'individualism', 'realistic', 'Michael Mann', 'bank robbery', 'crime', 'heists', 'relationships', 'too long', 'atmospheric', 'bank robbery', 'complex characters', 'crime', 'dialogue', 'great acting', 'gunfight', 'heist movie', 'realistic', 'realistic action', 'suspense', 'tense', 'visceral', 'setting:LA', 'who cares DVDs', 'bleak', 'dialogue', 'long', 'overrated', 'too long', 'imdb top 250', 'Natalie Portman', 'Val Kilmer', 'CLV', 'Action', 'Al Pacino', 'Crime', 'Heist', 'Jon Voight', 'Los Angeles', 'Michael Mann', 'Natalie Portman', 'Realistic', 'Robert De Niro', 'Third Act Problems', 'Val Kilmer', 'Al Pacino', 'atmospheric', 'Robert De Niro', 'realistic action', 'Al Pacino Vs Robert De Niro', 'authentic gunfights', 'great acting', 'realistic action', 'suspense', 'Al Pacino', 'great acting', 'realistic action', 'Robert De Niro', 'Val Kilmer', 'In The Nucleus', 'btaege', 'atmospheric', 'philosophy', 'slow paced', 'tense', 'Al Pacino', 'atmospheric', 'bank robbery', 'crime', 'dialogue', 'great acting', 'gunfight', 'HD MKV', 'imdb top 250', 'long', 'Los Angeles', 'Michael Mann', 'Natalie Portman', 'philosophy', 'police', 'realistic', 'realistic action', 'Robert De Niro', 'suspense', 'tense', 'Val Kilmer', \"Can't remember\", 'Al Pacino', 'bank robbery', 'realistic action', 'Al Pacino', 'Robert De Niro', 'seen 2011', 'atmospheric', 'complex characters', 'synthesizer soundtrack', 'understated', 'long', 'overrated', 'Top 10 ever', 'netflix queue', 'Al Pacino', 'Natalie Portman', 'Robert De Niro', 'suspense', 'adultery', 'Al Pacino', 'atmospheric', 'bank robbery', 'career criminal', 'crime', 'great acting', 'gunfight', 'guns', 'Los Angeles', 'Michael Mann', 'Natalie Portman', 'police', 'professionals', 'real life', 'realistic', 'realistic action', 'relationships', 'Robert De Niro', 'suicide', 'suspense', 'Val Kilmer', 'violent', 'visceral', 'need to own', 'Al Pacino', 'Michael Mann', 'Natalie Portman', 'Robert De Niro', 'Val Kilmer', 'Al Pacino', 'atmospheric', 'complex characters', 'dialogue', 'great acting', 'long', 'Los Angeles', 'Michael Mann', 'philosophy', 'realistic action', 'Robert De Niro', 'Val Kilmer', 'Al Pacino', 'crime', 'great acting', 'Natalie Portman', 'Robert De Niro', 'suspense', 'atmospheric', 'dialogue', 'atmospheric', 'bank robbery', 'gunfight', 'realistic action', 'tense', 'Al Pacino', 'Mary Kircher', 'Natalie Portman', 'Robert De Niro', 'Val Kilmer', 'Viviane Vives', 'overrated', 'Al Pacino', 'overrated', 'Robert De Niro', 'Al Pacino', 'crime', 'Robert De Niro', 'Al Pacino', 'dialogue', 'great acting', 'long', 'realistic action', 'Robert De Niro', 'Al Pacino', 'Natalie Portman', 'Al Pacino', 'bank robbery', 'dialogue', 'Robert De Niro', 'suspense', 'overrated', 'Al Pacino', 'authentic gunfights', 'great acting', 'gunfight', 'Val Kilmer', 'Bibliothek', 'Al Pacino', 'atmospheric', 'bank robbery', 'career criminal', 'crime', 'dialogue', 'great acting', 'gunfight', 'Natalie Portman', 'realistic', 'realistic action', 'Robert De Niro', 'suspense', 'tense', 'visceral', \"Tumey's DVDs\", 'vontatott', 'heist', 'Al Pacino', 'atmospheric', 'complex characters', 'crime', 'great acting', 'realistic action', 'Robert De Niro', 'suspense', 'tense', 'long', 'Al Pacino', 'amazing cast', 'Ashley Judd', 'bank robbery', 'career criminal', 'dialogue', 'great acting', 'Michael Mann', 'Natalie Portman', 'realistic action', 'Robert De Niro', 'Val Kilmer', 'great acting', 'suspense', 'tense', 'Captivating', 'philosophy', 'realistic', 'realistic action', 'dialogue', 'gunfight', 'realistic action', 'Bank Heist', 'Want', 'Al Pacino', 'Robert De Niro', 'action', 'Al Pacino', 'Robert De Niro', 'suspense', 'Al Pacino', 'Robert De Niro', 'Al Pacino', 'bank robbery', 'great acting', 'gunfight', 'philosophy', 'realistic action', 'Robert De Niro', 'suspense', 'tense', 'realistic', 'Al Pacino', 'authenticity', 'great acting', 'Robert De Niro', 'visceral', 'Al Pacino', 'atmospheric', 'complex characters', 'crime', 'dialogue', 'Los Angeles', 'Michael Mann', 'realistic action', 'Robert De Niro', 'suspense', 'tense', 'atmospheric', 'bank robbery', 'dialogue', 'gunfight', 'heist', 'long', 'Al and Robert', 'too long', 'atmospheric', 'realistic', 'suspense', 'adultery', 'Al Pacino', 'amazing cast', 'Ashley Judd', 'atmospheric', 'Bank Heist', 'bank job', 'bank robbery', 'betrayal', 'Captivating', 'career criminal', 'cat and mouse', 'chase', 'complex characters', 'crime', 'crime epic', 'criminal mastermind', 'detective', 'dialogue', 'electronic soundtrack', 'ensemble cast', 'ex-con', 'gang', 'great acting', 'gunfight', 'heist', 'heist movie', 'heists', 'Jon Voight', 'loner', 'long', 'Los Angeles', 'male-female relationship', 'Mary Kircher', 'Michael Mann', 'murder', 'Natalie Portman', 'neo-noir', 'obsession', 'ONE LAST HEIST', 'one last job', 'police', 'professionals', 'realistic', 'realistic action', 'relationships', 'robbery', 'Robert De Niro', 'somber', 'suicide', 'suspense', 'synthesizer soundtrack', 'teenage girl', 'tense', 'thief', 'thieves', 'tragic end', 'Val Kilmer', 'violent', 'visceral', 'Viviane Vives', 'Al Pacino', 'atmospheric', 'crime', 'great acting', 'Robert De Niro', 'great acting', 'Michael Mann', 'atmospheric', 'bank robbery', 'crime', 'dialogue', 'great acting', 'Michael Mann', 'realistic action', 'suspense', 'Al Pacino', 'Michael Mann', 'Robert De Niro', 'long', 'adultery', 'Al Pacino', 'atmospheric', 'bank robbery', 'Bechdel Test:Fail', 'bleak', 'career criminal', 'dialogue', 'gunfight', 'guns', 'loner', 'long', 'Los Angeles', 'male-female relationship', 'Michael Mann', 'ONE LAST HEIST', 'overrated', 'philosophy', 'police', 'R', 'R:language', 'R:violence', 'realistic action', 'Recommendz Top Pick', 'Robert De Niro', 'Seen 2010', 'slick', 'somber', 'teenage girl', 'tense', 'thieves', 'tough guy', 'Val Kilmer', 'visceral', 'atmospheric', 'complex characters', 'crime', 'dialogue', 'great acting', 'police', 'realistic', 'realistic action', 'suspense', 'tense']\n"
          ]
        }
      ]
    },
    {
      "cell_type": "code",
      "source": [
        "!ls -lh /content/data/data/TMDb-data"
      ],
      "metadata": {
        "colab": {
          "base_uri": "https://localhost:8080/"
        },
        "id": "G2W8B_Uy4N6K",
        "outputId": "5e20de50-eae2-49aa-f7b9-48d16022b421"
      },
      "execution_count": null,
      "outputs": [
        {
          "output_type": "stream",
          "name": "stdout",
          "text": [
            "total 44M\n",
            "-rw-r--r-- 1 root root  39M Jun 16 18:23 tmdb_5000_credits.csv\n",
            "-rw-r--r-- 1 root root 5.5M Jun 16 18:23 tmdb_5000_movies.csv\n"
          ]
        }
      ]
    },
    {
      "cell_type": "code",
      "source": [
        "tmdb_credits_CSV = \"/content/data/data/TMDb-data/tmdb_5000_credits.csv\"\n",
        "tmdb_movies_CSV = \"/content/data/data/TMDb-data/tmdb_5000_movies.csv\""
      ],
      "metadata": {
        "id": "8SwqfvBW_GcQ"
      },
      "execution_count": null,
      "outputs": []
    },
    {
      "cell_type": "code",
      "source": [
        "tmdb_credits_path = tmdb_credits_CSV\n",
        "tmdb_credits_df = pd.read_csv(tmdb_credits_path)\n",
        "\n",
        "#print(tmdb_credits_df.head())\n",
        "\n",
        "tmdb_movies_path = tmdb_movies_CSV\n",
        "tmdb_movies_df = pd.read_csv(tmdb_movies_path)\n",
        "\n",
        "#print(tmdb_movies_df.head())"
      ],
      "metadata": {
        "id": "JxvwJUk7_Xod"
      },
      "execution_count": null,
      "outputs": []
    },
    {
      "cell_type": "code",
      "source": [
        "def parse_json_column_to_names(json_str):\n",
        "\n",
        "  if pd.isna(json_str) or not isinstance(json_str, str):\n",
        "      return [] # Return empty list for missing or non-string values\n",
        "  try:\n",
        "      # Parse the JSON string into a Python list of dictionaries\n",
        "      list_of_dicts = json.loads(json_str)\n",
        "      # Extract the 'name' from each dictionary in the list\n",
        "      return [d['name'] for d in list_of_dicts if 'name' in d]\n",
        "  except json.JSONDecodeError:\n",
        "      print(f\"Warning: Could not decode JSON string: {json_str[:50]}...\") # Print a snippet\n",
        "      return [] # Return empty list for malformed JSON"
      ],
      "metadata": {
        "id": "a8lsRkb__uhm"
      },
      "execution_count": null,
      "outputs": []
    },
    {
      "cell_type": "code",
      "source": [
        "tmdb_movies_df['parsed_genres'] = tmdb_movies_df['genres'].apply(parse_json_column_to_names)\n",
        "tmdb_movies_df['parsed_keywords'] = tmdb_movies_df['keywords'].apply(parse_json_column_to_names)"
      ],
      "metadata": {
        "id": "zZX6i7bLEXjg"
      },
      "execution_count": null,
      "outputs": []
    },
    {
      "cell_type": "code",
      "source": [
        "print(tmdb_movies_df.head())"
      ],
      "metadata": {
        "colab": {
          "base_uri": "https://localhost:8080/"
        },
        "id": "4ekR6jNkEc11",
        "outputId": "a873f479-ab44-45ad-b847-556ab63e548c"
      },
      "execution_count": null,
      "outputs": [
        {
          "output_type": "stream",
          "name": "stdout",
          "text": [
            "      budget                                             genres  \\\n",
            "0  237000000  [{\"id\": 28, \"name\": \"Action\"}, {\"id\": 12, \"nam...   \n",
            "1  300000000  [{\"id\": 12, \"name\": \"Adventure\"}, {\"id\": 14, \"...   \n",
            "2  245000000  [{\"id\": 28, \"name\": \"Action\"}, {\"id\": 12, \"nam...   \n",
            "3  250000000  [{\"id\": 28, \"name\": \"Action\"}, {\"id\": 80, \"nam...   \n",
            "4  260000000  [{\"id\": 28, \"name\": \"Action\"}, {\"id\": 12, \"nam...   \n",
            "\n",
            "                                       homepage      id  \\\n",
            "0                   http://www.avatarmovie.com/   19995   \n",
            "1  http://disney.go.com/disneypictures/pirates/     285   \n",
            "2   http://www.sonypictures.com/movies/spectre/  206647   \n",
            "3            http://www.thedarkknightrises.com/   49026   \n",
            "4          http://movies.disney.com/john-carter   49529   \n",
            "\n",
            "                                            keywords original_language  \\\n",
            "0  [{\"id\": 1463, \"name\": \"culture clash\"}, {\"id\":...                en   \n",
            "1  [{\"id\": 270, \"name\": \"ocean\"}, {\"id\": 726, \"na...                en   \n",
            "2  [{\"id\": 470, \"name\": \"spy\"}, {\"id\": 818, \"name...                en   \n",
            "3  [{\"id\": 849, \"name\": \"dc comics\"}, {\"id\": 853,...                en   \n",
            "4  [{\"id\": 818, \"name\": \"based on novel\"}, {\"id\":...                en   \n",
            "\n",
            "                             original_title  \\\n",
            "0                                    Avatar   \n",
            "1  Pirates of the Caribbean: At World's End   \n",
            "2                                   Spectre   \n",
            "3                     The Dark Knight Rises   \n",
            "4                               John Carter   \n",
            "\n",
            "                                            overview  popularity  \\\n",
            "0  In the 22nd century, a paraplegic Marine is di...  150.437577   \n",
            "1  Captain Barbossa, long believed to be dead, ha...  139.082615   \n",
            "2  A cryptic message from Bond’s past sends him o...  107.376788   \n",
            "3  Following the death of District Attorney Harve...  112.312950   \n",
            "4  John Carter is a war-weary, former military ca...   43.926995   \n",
            "\n",
            "                                production_companies  ...     revenue runtime  \\\n",
            "0  [{\"name\": \"Ingenious Film Partners\", \"id\": 289...  ...  2787965087   162.0   \n",
            "1  [{\"name\": \"Walt Disney Pictures\", \"id\": 2}, {\"...  ...   961000000   169.0   \n",
            "2  [{\"name\": \"Columbia Pictures\", \"id\": 5}, {\"nam...  ...   880674609   148.0   \n",
            "3  [{\"name\": \"Legendary Pictures\", \"id\": 923}, {\"...  ...  1084939099   165.0   \n",
            "4        [{\"name\": \"Walt Disney Pictures\", \"id\": 2}]  ...   284139100   132.0   \n",
            "\n",
            "                                    spoken_languages    status  \\\n",
            "0  [{\"iso_639_1\": \"en\", \"name\": \"English\"}, {\"iso...  Released   \n",
            "1           [{\"iso_639_1\": \"en\", \"name\": \"English\"}]  Released   \n",
            "2  [{\"iso_639_1\": \"fr\", \"name\": \"Fran\\u00e7ais\"},...  Released   \n",
            "3           [{\"iso_639_1\": \"en\", \"name\": \"English\"}]  Released   \n",
            "4           [{\"iso_639_1\": \"en\", \"name\": \"English\"}]  Released   \n",
            "\n",
            "                                          tagline  \\\n",
            "0                     Enter the World of Pandora.   \n",
            "1  At the end of the world, the adventure begins.   \n",
            "2                           A Plan No One Escapes   \n",
            "3                                 The Legend Ends   \n",
            "4            Lost in our world, found in another.   \n",
            "\n",
            "                                      title vote_average vote_count  \\\n",
            "0                                    Avatar          7.2      11800   \n",
            "1  Pirates of the Caribbean: At World's End          6.9       4500   \n",
            "2                                   Spectre          6.3       4466   \n",
            "3                     The Dark Knight Rises          7.6       9106   \n",
            "4                               John Carter          6.1       2124   \n",
            "\n",
            "                                   parsed_genres  \\\n",
            "0  [Action, Adventure, Fantasy, Science Fiction]   \n",
            "1                   [Adventure, Fantasy, Action]   \n",
            "2                     [Action, Adventure, Crime]   \n",
            "3               [Action, Crime, Drama, Thriller]   \n",
            "4           [Action, Adventure, Science Fiction]   \n",
            "\n",
            "                                     parsed_keywords  \n",
            "0  [culture clash, future, space war, space colon...  \n",
            "1  [ocean, drug abuse, exotic island, east india ...  \n",
            "2  [spy, based on novel, secret agent, sequel, mi...  \n",
            "3  [dc comics, crime fighter, terrorist, secret i...  \n",
            "4  [based on novel, mars, medallion, space travel...  \n",
            "\n",
            "[5 rows x 22 columns]\n"
          ]
        }
      ]
    },
    {
      "cell_type": "code",
      "source": [
        "def create_tmdbId_to_movieId_dictionary(links_df):\n",
        "  dict = {}\n",
        "  for index, row in links_df.iterrows():\n",
        "    if pd.isna(row[\"tmdbId\"]) or row[\"tmdbId\"] == '':\n",
        "      pass\n",
        "    else:\n",
        "      dict[row[\"tmdbId\"]] = row[\"movieId\"]\n",
        "  return dict\n",
        "\n",
        "def populate_movies_with_tmdb_tags(tmdb_movies_df, allMovies, tmdbId_to_movieId_dictionary): # If a movie is not in MovieLens, we should add it and give it a movieId\n",
        "  miss_count = 0\n",
        "  for index, row in tmdb_movies_df.iterrows():\n",
        "    if row[\"id\"] not in tmdbId_to_movieId_dictionary:\n",
        "      miss_count += 1\n",
        "      pass\n",
        "    else:\n",
        "      allMovies[tmdbId_to_movieId_dictionary[row[\"id\"]]].set_tmdb_tag_list(row[\"parsed_keywords\"])\n",
        "  print(miss_count)"
      ],
      "metadata": {
        "id": "TrfYbd4kE-Dy"
      },
      "execution_count": null,
      "outputs": []
    },
    {
      "cell_type": "code",
      "source": [
        "tmdbId_to_movieId_dictionary = create_tmdbId_to_movieId_dictionary(links_df)\n",
        "populate_movies_with_tmdb_tags(tmdb_movies_df, allMovies, tmdbId_to_movieId_dictionary)"
      ],
      "metadata": {
        "colab": {
          "base_uri": "https://localhost:8080/"
        },
        "id": "y45fkSZ7RV30",
        "outputId": "85ca897f-3bde-4730-c31e-65e167f8fe60"
      },
      "execution_count": null,
      "outputs": [
        {
          "output_type": "stream",
          "name": "stdout",
          "text": [
            "205\n"
          ]
        }
      ]
    },
    {
      "cell_type": "code",
      "source": [
        "print(allMovies[1].get_tmdb_tag_list())"
      ],
      "metadata": {
        "colab": {
          "base_uri": "https://localhost:8080/"
        },
        "id": "xihLvDR-THFj",
        "outputId": "7a7409c9-b3f2-49e3-f829-0eb93951e1a5"
      },
      "execution_count": null,
      "outputs": [
        {
          "output_type": "stream",
          "name": "stdout",
          "text": [
            "['jealousy', 'toy', 'boy', 'friendship', 'friends', 'rivalry', 'boy next door', 'new toy', 'toy comes to life']\n"
          ]
        }
      ]
    },
    {
      "cell_type": "code",
      "source": [
        "print(tmdb_movies_df[\"parsed_keywords\"].iloc[2])"
      ],
      "metadata": {
        "colab": {
          "base_uri": "https://localhost:8080/"
        },
        "id": "bJp2g0EZbIm_",
        "outputId": "df7543f2-208d-41a5-ddeb-51a05d34bf28"
      },
      "execution_count": null,
      "outputs": [
        {
          "output_type": "stream",
          "name": "stdout",
          "text": [
            "['spy', 'based on novel', 'secret agent', 'sequel', 'mi6', 'british secret service', 'united kingdom']\n"
          ]
        }
      ]
    },
    {
      "cell_type": "code",
      "source": [
        "def popularity_based_recommendation(movie_dictionary):\n",
        "  list_of_movies = []\n",
        "  list_of_popularity = []\n",
        "  for key in movie_dictionary:\n",
        "    list_of_movies.append(movie_dictionary[key].get_ID())\n",
        "    list_of_popularity.append(movie_dictionary[key].calculate_average_rating())\n",
        "  combined = zip(list_of_popularity, list_of_movies)\n",
        "  sorted_pairs = sorted(combined, reverse=True)\n",
        "  sorted_popularity, sorted_movies = zip(*sorted_pairs)\n",
        "  return sorted_movies # Returns the movie IDs in descending order (most popular first)\n",
        "\n",
        "def weighted_rating_popularity_based_recommendation(movie_dictionary, threshold): # Weighted Rating: WR = (v/(v+m))R + (m/(v+m))C, threshold should be ratings_df.groupby('movieId').size().quantile(0.80) so higher threshold is typically advised (ie. 20)\n",
        "  number_of_ratings = 0\n",
        "  sum_of_ratings = 0\n",
        "  for key in movie_dictionary:\n",
        "    if movie_dictionary[key].get_number_of_ratings() != 0:\n",
        "      number_of_ratings += movie_dictionary[key].get_number_of_ratings()\n",
        "      sum_of_ratings += movie_dictionary[key].get_sum_of_ratings()\n",
        "\n",
        "  global_mean_rating = sum_of_ratings / number_of_ratings\n",
        "  list_of_movies = []\n",
        "  list_of_weighted_popularity = []\n",
        "\n",
        "  for key in movie_dictionary:\n",
        "    list_of_movies.append(movie_dictionary[key].get_ID()) # Add movie ID to list in order to return back to user\n",
        "    curr_movie_num_ratings = movie_dictionary[key].get_number_of_ratings() # Get the current movie's number of ratings\n",
        "    min_num_of_votes_threshold = threshold # The number of ratings a movie needs to be considered and not just averaged out\n",
        "    curr_movie_average_rating = movie_dictionary[key].calculate_average_rating()\n",
        "    weighted_rating = ((curr_movie_num_ratings / (curr_movie_num_ratings + min_num_of_votes_threshold)) * curr_movie_average_rating) + ((min_num_of_votes_threshold / (curr_movie_num_ratings + min_num_of_votes_threshold)) * global_mean_rating)\n",
        "    list_of_weighted_popularity.append(weighted_rating)\n",
        "\n",
        "  combined = zip(list_of_weighted_popularity, list_of_movies)\n",
        "  sorted_pairs = sorted(combined, reverse=True)\n",
        "  sorted_weighted_popularity, sorted_movies = zip(*sorted_pairs)\n",
        "\n",
        "  return sorted_movies # Returns the movie IDs in descending order (most popular first)"
      ],
      "metadata": {
        "id": "KaMudUVQsmAO"
      },
      "execution_count": null,
      "outputs": []
    },
    {
      "cell_type": "code",
      "source": [
        "print(\"-----Popularity Model-----\")\n",
        "movies_recommended = popularity_based_recommendation(allMovies)\n",
        "sneak_peak_popularity = movies_recommended[:10]\n",
        "for ID in sneak_peak_popularity:\n",
        "  print(f\"title: {allMovies[ID].get_title()}\")\n",
        "  print(f\"number of ratings: {allMovies[ID].get_number_of_ratings()}\")\n",
        "  print(f\"average rating: {allMovies[ID].calculate_average_rating()}\\n\")\n",
        "\n",
        "print(\"-----Weighted Popularity Model-----\")\n",
        "movies_recommended_weighted = weighted_rating_popularity_based_recommendation(allMovies, 20)\n",
        "sneak_peak_weighted_popularity = movies_recommended_weighted[:10]\n",
        "for ID in sneak_peak_weighted_popularity:\n",
        "  print(f\"title: {allMovies[ID].get_title()}\")\n",
        "  print(f\"number of ratings: {allMovies[ID].get_number_of_ratings()}\")\n",
        "  print(f\"average rating: {allMovies[ID].calculate_average_rating()}\\n\")"
      ],
      "metadata": {
        "colab": {
          "base_uri": "https://localhost:8080/"
        },
        "id": "WciQ6dKCp-zL",
        "outputId": "b3bd1c3c-bcd3-468b-d14b-b5fb88b68369"
      },
      "execution_count": null,
      "outputs": [
        {
          "output_type": "stream",
          "name": "stdout",
          "text": [
            "-----Popularity Model-----\n",
            "title: Santosh Subramaniam (2008)\n",
            "number of ratings: 1\n",
            "average rating: 5.0\n",
            "\n",
            "title: Screen Play (1992)\n",
            "number of ratings: 1\n",
            "average rating: 5.0\n",
            "\n",
            "title: Zana (2019)\n",
            "number of ratings: 1\n",
            "average rating: 5.0\n",
            "\n",
            "title: Punk the Capital: Building a Sound Movement\n",
            "number of ratings: 1\n",
            "average rating: 5.0\n",
            "\n",
            "title: Kaithi (2019)\n",
            "number of ratings: 2\n",
            "average rating: 5.0\n",
            "\n",
            "title: War (2019)\n",
            "number of ratings: 1\n",
            "average rating: 5.0\n",
            "\n",
            "title: Rolli and the Golden Key (2013)\n",
            "number of ratings: 1\n",
            "average rating: 5.0\n",
            "\n",
            "title: The Head (2004)\n",
            "number of ratings: 1\n",
            "average rating: 5.0\n",
            "\n",
            "title: Everything Is Terrible! Presents: The Great Satan (2017)\n",
            "number of ratings: 1\n",
            "average rating: 5.0\n",
            "\n",
            "title: The Fallen of World War II (2015)\n",
            "number of ratings: 1\n",
            "average rating: 5.0\n",
            "\n",
            "-----Weighted Popularity Model-----\n",
            "title: Planet Earth II (2016)\n",
            "number of ratings: 1124\n",
            "average rating: 4.483096085409253\n",
            "\n",
            "title: Planet Earth (2006)\n",
            "number of ratings: 1747\n",
            "average rating: 4.464796794504865\n",
            "\n",
            "title: Shawshank Redemption, The (1994)\n",
            "number of ratings: 81482\n",
            "average rating: 4.413576004516335\n",
            "\n",
            "title: Band of Brothers (2001)\n",
            "number of ratings: 1356\n",
            "average rating: 4.398598820058997\n",
            "\n",
            "title: Godfather, The (1972)\n",
            "number of ratings: 52498\n",
            "average rating: 4.324336165187245\n",
            "\n",
            "title: Usual Suspects, The (1995)\n",
            "number of ratings: 55366\n",
            "average rating: 4.284353213163313\n",
            "\n",
            "title: Cosmos\n",
            "number of ratings: 277\n",
            "average rating: 4.3267148014440435\n",
            "\n",
            "title: Blue Planet II (2017)\n",
            "number of ratings: 659\n",
            "average rating: 4.289833080424886\n",
            "\n",
            "title: Godfather: Part II, The (1974)\n",
            "number of ratings: 34188\n",
            "average rating: 4.2617585117585115\n",
            "\n",
            "title: Seven Samurai (Shichinin no samurai) (1954)\n",
            "number of ratings: 13367\n",
            "average rating: 4.25476920775043\n",
            "\n"
          ]
        }
      ]
    },
    {
      "cell_type": "code",
      "source": [
        "def check_on_ratings(allMovies):\n",
        "  number_of_missing_ratings = 0\n",
        "  for key in allMovies:\n",
        "    if allMovies[key].get_number_of_ratings() == 0:\n",
        "      number_of_missing_ratings += 1\n",
        "  return number_of_missing_ratings\n",
        "\n",
        "print(f\"movies without a rating: {check_on_ratings(allMovies)}\")"
      ],
      "metadata": {
        "colab": {
          "base_uri": "https://localhost:8080/"
        },
        "id": "iIp01YKEDtG6",
        "outputId": "c5f32c8f-11be-485b-d9fd-135c85623729"
      },
      "execution_count": null,
      "outputs": [
        {
          "output_type": "stream",
          "name": "stdout",
          "text": [
            "movies without a rating: 3376\n"
          ]
        }
      ]
    },
    {
      "cell_type": "code",
      "source": [
        "# Saving dictionary to .plk pickle format\n",
        "file_path = 'allMovies_data.pkl'\n",
        "with open(file_path, 'wb') as f: # 'wb' means write in binary mode\n",
        "    pickle.dump(allMovies, f)\n",
        "print(f\"Movie dictionary saved to {file_path}\")\n",
        "\n",
        "# Loading pickle file\n",
        "with open(file_path, 'rb') as f: # 'rb' means read in binary mode\n",
        "    allMovies = pickle.load(f)\n",
        "print(f\"\\nMovie dictionary loaded from {file_path}\")\n",
        "\n",
        "# Verify loaded data\n",
        "print(f\"Loaded movie '1' title: {allMovies[1].get_genre_list()}\")"
      ],
      "metadata": {
        "colab": {
          "base_uri": "https://localhost:8080/"
        },
        "id": "AH_Pn-3ho_18",
        "outputId": "df53ed39-5a58-4adc-87f5-9de633ff2f02"
      },
      "execution_count": null,
      "outputs": [
        {
          "output_type": "stream",
          "name": "stdout",
          "text": [
            "Movie dictionary saved to allMovies_data.pkl\n",
            "\n",
            "Movie dictionary loaded from allMovies_data.pkl\n",
            "Loaded movie '1' title: ['Adventure', 'Animation', 'Children', 'Comedy', 'Fantasy']\n"
          ]
        }
      ]
    },
    {
      "cell_type": "code",
      "source": [
        "from google.cloud import storage\n",
        "def save_dict_to_gcs(dictionary_to_save: dict, bucket_name: str, destination_blob_name: str):\n",
        "    try:\n",
        "        auth.authenticate_user()\n",
        "        print(\"Authenticated to Google Cloud.\")\n",
        "    except Exception as e:\n",
        "        print(f\"Could not authenticate user (may be running outside Colab or already authenticated): {e}\")\n",
        "\n",
        "    client = storage.Client()\n",
        "    bucket = client.bucket(bucket_name)\n",
        "    blob = bucket.blob(destination_blob_name)\n",
        "\n",
        "    # Pickle the dictionary into a bytes object\n",
        "    pickled_data = pickle.dumps(dictionary_to_save)\n",
        "\n",
        "    # Upload the bytes object to GCS\n",
        "    # 'upload_from_string' will overwrite if the blob exists, or create it if new.\n",
        "    blob.upload_from_string(pickled_data, content_type='application/octet-stream')\n",
        "\n",
        "    print(f\"Dictionary successfully saved to gs://{bucket_name}/{destination_blob_name}\")"
      ],
      "metadata": {
        "id": "tW0fJEEp7h1K"
      },
      "execution_count": null,
      "outputs": []
    },
    {
      "cell_type": "code",
      "source": [
        "bucket_name = \"movielens-data\"\n",
        "blob_name = \"allMovies_data.pkl\"\n",
        "save_dict_to_gcs(allMovies, bucket_name, blob_name)"
      ],
      "metadata": {
        "colab": {
          "base_uri": "https://localhost:8080/"
        },
        "id": "91Wlh2368Qn_",
        "outputId": "4f49c04d-f6db-4286-a9ca-2ea6f60c1df9"
      },
      "execution_count": null,
      "outputs": [
        {
          "output_type": "stream",
          "name": "stdout",
          "text": [
            "Authenticated to Google Cloud.\n",
            "Dictionary successfully saved to gs://movielens-data/allMovies_data.pkl\n"
          ]
        }
      ]
    }
  ]
}