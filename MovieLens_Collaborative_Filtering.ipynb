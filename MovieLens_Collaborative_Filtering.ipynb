{
  "nbformat": 4,
  "nbformat_minor": 0,
  "metadata": {
    "colab": {
      "provenance": [],
      "machine_shape": "hm",
      "authorship_tag": "ABX9TyOySHX3Mh/F+eF36kqybhO0",
      "include_colab_link": true
    },
    "kernelspec": {
      "name": "python3",
      "display_name": "Python 3"
    },
    "language_info": {
      "name": "python"
    },
    "widgets": {
      "application/vnd.jupyter.widget-state+json": {
        "8fdbe0cdc97e44cba557d4ee4c553ea1": {
          "model_module": "@jupyter-widgets/controls",
          "model_name": "HBoxModel",
          "model_module_version": "1.5.0",
          "state": {
            "_dom_classes": [],
            "_model_module": "@jupyter-widgets/controls",
            "_model_module_version": "1.5.0",
            "_model_name": "HBoxModel",
            "_view_count": null,
            "_view_module": "@jupyter-widgets/controls",
            "_view_module_version": "1.5.0",
            "_view_name": "HBoxView",
            "box_style": "",
            "children": [
              "IPY_MODEL_cdbf909230ee46f783162ebb58f3e392",
              "IPY_MODEL_ed66b9515ec143e0918d81709f7d2ff2",
              "IPY_MODEL_6ac71f578f8e465193feb8c3a17e8dd0"
            ],
            "layout": "IPY_MODEL_3b76177fa1ba407caf2fbd1446ed42b7"
          }
        },
        "cdbf909230ee46f783162ebb58f3e392": {
          "model_module": "@jupyter-widgets/controls",
          "model_name": "HTMLModel",
          "model_module_version": "1.5.0",
          "state": {
            "_dom_classes": [],
            "_model_module": "@jupyter-widgets/controls",
            "_model_module_version": "1.5.0",
            "_model_name": "HTMLModel",
            "_view_count": null,
            "_view_module": "@jupyter-widgets/controls",
            "_view_module_version": "1.5.0",
            "_view_name": "HTMLView",
            "description": "",
            "description_tooltip": null,
            "layout": "IPY_MODEL_6874cf244aeb47f19590f9d94f7e3d9f",
            "placeholder": "​",
            "style": "IPY_MODEL_8e471ebd66a7439693e6613da2aaffd9",
            "value": "100%"
          }
        },
        "ed66b9515ec143e0918d81709f7d2ff2": {
          "model_module": "@jupyter-widgets/controls",
          "model_name": "FloatProgressModel",
          "model_module_version": "1.5.0",
          "state": {
            "_dom_classes": [],
            "_model_module": "@jupyter-widgets/controls",
            "_model_module_version": "1.5.0",
            "_model_name": "FloatProgressModel",
            "_view_count": null,
            "_view_module": "@jupyter-widgets/controls",
            "_view_module_version": "1.5.0",
            "_view_name": "ProgressView",
            "bar_style": "success",
            "description": "",
            "description_tooltip": null,
            "layout": "IPY_MODEL_b50e0cac98b34ca8be8d6f690d033b94",
            "max": 20,
            "min": 0,
            "orientation": "horizontal",
            "style": "IPY_MODEL_22cb3dc015bf47cf84d0dcab3a4bce6e",
            "value": 20
          }
        },
        "6ac71f578f8e465193feb8c3a17e8dd0": {
          "model_module": "@jupyter-widgets/controls",
          "model_name": "HTMLModel",
          "model_module_version": "1.5.0",
          "state": {
            "_dom_classes": [],
            "_model_module": "@jupyter-widgets/controls",
            "_model_module_version": "1.5.0",
            "_model_name": "HTMLModel",
            "_view_count": null,
            "_view_module": "@jupyter-widgets/controls",
            "_view_module_version": "1.5.0",
            "_view_name": "HTMLView",
            "description": "",
            "description_tooltip": null,
            "layout": "IPY_MODEL_bcbe0c1b696943c6b04e2a0daf687aae",
            "placeholder": "​",
            "style": "IPY_MODEL_a556e6562cb549eab1c6e1f6ccbbbf2c",
            "value": " 20/20 [02:29&lt;00:00,  7.57s/it, loss=0.00305]"
          }
        },
        "3b76177fa1ba407caf2fbd1446ed42b7": {
          "model_module": "@jupyter-widgets/base",
          "model_name": "LayoutModel",
          "model_module_version": "1.2.0",
          "state": {
            "_model_module": "@jupyter-widgets/base",
            "_model_module_version": "1.2.0",
            "_model_name": "LayoutModel",
            "_view_count": null,
            "_view_module": "@jupyter-widgets/base",
            "_view_module_version": "1.2.0",
            "_view_name": "LayoutView",
            "align_content": null,
            "align_items": null,
            "align_self": null,
            "border": null,
            "bottom": null,
            "display": null,
            "flex": null,
            "flex_flow": null,
            "grid_area": null,
            "grid_auto_columns": null,
            "grid_auto_flow": null,
            "grid_auto_rows": null,
            "grid_column": null,
            "grid_gap": null,
            "grid_row": null,
            "grid_template_areas": null,
            "grid_template_columns": null,
            "grid_template_rows": null,
            "height": null,
            "justify_content": null,
            "justify_items": null,
            "left": null,
            "margin": null,
            "max_height": null,
            "max_width": null,
            "min_height": null,
            "min_width": null,
            "object_fit": null,
            "object_position": null,
            "order": null,
            "overflow": null,
            "overflow_x": null,
            "overflow_y": null,
            "padding": null,
            "right": null,
            "top": null,
            "visibility": null,
            "width": null
          }
        },
        "6874cf244aeb47f19590f9d94f7e3d9f": {
          "model_module": "@jupyter-widgets/base",
          "model_name": "LayoutModel",
          "model_module_version": "1.2.0",
          "state": {
            "_model_module": "@jupyter-widgets/base",
            "_model_module_version": "1.2.0",
            "_model_name": "LayoutModel",
            "_view_count": null,
            "_view_module": "@jupyter-widgets/base",
            "_view_module_version": "1.2.0",
            "_view_name": "LayoutView",
            "align_content": null,
            "align_items": null,
            "align_self": null,
            "border": null,
            "bottom": null,
            "display": null,
            "flex": null,
            "flex_flow": null,
            "grid_area": null,
            "grid_auto_columns": null,
            "grid_auto_flow": null,
            "grid_auto_rows": null,
            "grid_column": null,
            "grid_gap": null,
            "grid_row": null,
            "grid_template_areas": null,
            "grid_template_columns": null,
            "grid_template_rows": null,
            "height": null,
            "justify_content": null,
            "justify_items": null,
            "left": null,
            "margin": null,
            "max_height": null,
            "max_width": null,
            "min_height": null,
            "min_width": null,
            "object_fit": null,
            "object_position": null,
            "order": null,
            "overflow": null,
            "overflow_x": null,
            "overflow_y": null,
            "padding": null,
            "right": null,
            "top": null,
            "visibility": null,
            "width": null
          }
        },
        "8e471ebd66a7439693e6613da2aaffd9": {
          "model_module": "@jupyter-widgets/controls",
          "model_name": "DescriptionStyleModel",
          "model_module_version": "1.5.0",
          "state": {
            "_model_module": "@jupyter-widgets/controls",
            "_model_module_version": "1.5.0",
            "_model_name": "DescriptionStyleModel",
            "_view_count": null,
            "_view_module": "@jupyter-widgets/base",
            "_view_module_version": "1.2.0",
            "_view_name": "StyleView",
            "description_width": ""
          }
        },
        "b50e0cac98b34ca8be8d6f690d033b94": {
          "model_module": "@jupyter-widgets/base",
          "model_name": "LayoutModel",
          "model_module_version": "1.2.0",
          "state": {
            "_model_module": "@jupyter-widgets/base",
            "_model_module_version": "1.2.0",
            "_model_name": "LayoutModel",
            "_view_count": null,
            "_view_module": "@jupyter-widgets/base",
            "_view_module_version": "1.2.0",
            "_view_name": "LayoutView",
            "align_content": null,
            "align_items": null,
            "align_self": null,
            "border": null,
            "bottom": null,
            "display": null,
            "flex": null,
            "flex_flow": null,
            "grid_area": null,
            "grid_auto_columns": null,
            "grid_auto_flow": null,
            "grid_auto_rows": null,
            "grid_column": null,
            "grid_gap": null,
            "grid_row": null,
            "grid_template_areas": null,
            "grid_template_columns": null,
            "grid_template_rows": null,
            "height": null,
            "justify_content": null,
            "justify_items": null,
            "left": null,
            "margin": null,
            "max_height": null,
            "max_width": null,
            "min_height": null,
            "min_width": null,
            "object_fit": null,
            "object_position": null,
            "order": null,
            "overflow": null,
            "overflow_x": null,
            "overflow_y": null,
            "padding": null,
            "right": null,
            "top": null,
            "visibility": null,
            "width": null
          }
        },
        "22cb3dc015bf47cf84d0dcab3a4bce6e": {
          "model_module": "@jupyter-widgets/controls",
          "model_name": "ProgressStyleModel",
          "model_module_version": "1.5.0",
          "state": {
            "_model_module": "@jupyter-widgets/controls",
            "_model_module_version": "1.5.0",
            "_model_name": "ProgressStyleModel",
            "_view_count": null,
            "_view_module": "@jupyter-widgets/base",
            "_view_module_version": "1.2.0",
            "_view_name": "StyleView",
            "bar_color": null,
            "description_width": ""
          }
        },
        "bcbe0c1b696943c6b04e2a0daf687aae": {
          "model_module": "@jupyter-widgets/base",
          "model_name": "LayoutModel",
          "model_module_version": "1.2.0",
          "state": {
            "_model_module": "@jupyter-widgets/base",
            "_model_module_version": "1.2.0",
            "_model_name": "LayoutModel",
            "_view_count": null,
            "_view_module": "@jupyter-widgets/base",
            "_view_module_version": "1.2.0",
            "_view_name": "LayoutView",
            "align_content": null,
            "align_items": null,
            "align_self": null,
            "border": null,
            "bottom": null,
            "display": null,
            "flex": null,
            "flex_flow": null,
            "grid_area": null,
            "grid_auto_columns": null,
            "grid_auto_flow": null,
            "grid_auto_rows": null,
            "grid_column": null,
            "grid_gap": null,
            "grid_row": null,
            "grid_template_areas": null,
            "grid_template_columns": null,
            "grid_template_rows": null,
            "height": null,
            "justify_content": null,
            "justify_items": null,
            "left": null,
            "margin": null,
            "max_height": null,
            "max_width": null,
            "min_height": null,
            "min_width": null,
            "object_fit": null,
            "object_position": null,
            "order": null,
            "overflow": null,
            "overflow_x": null,
            "overflow_y": null,
            "padding": null,
            "right": null,
            "top": null,
            "visibility": null,
            "width": null
          }
        },
        "a556e6562cb549eab1c6e1f6ccbbbf2c": {
          "model_module": "@jupyter-widgets/controls",
          "model_name": "DescriptionStyleModel",
          "model_module_version": "1.5.0",
          "state": {
            "_model_module": "@jupyter-widgets/controls",
            "_model_module_version": "1.5.0",
            "_model_name": "DescriptionStyleModel",
            "_view_count": null,
            "_view_module": "@jupyter-widgets/base",
            "_view_module_version": "1.2.0",
            "_view_name": "StyleView",
            "description_width": ""
          }
        },
        "62dba8da88504ea78b14fcef0daf2d2e": {
          "model_module": "@jupyter-widgets/controls",
          "model_name": "HBoxModel",
          "model_module_version": "1.5.0",
          "state": {
            "_dom_classes": [],
            "_model_module": "@jupyter-widgets/controls",
            "_model_module_version": "1.5.0",
            "_model_name": "HBoxModel",
            "_view_count": null,
            "_view_module": "@jupyter-widgets/controls",
            "_view_module_version": "1.5.0",
            "_view_name": "HBoxView",
            "box_style": "",
            "children": [
              "IPY_MODEL_067652a77d864b3ea574163d4f726e2c",
              "IPY_MODEL_e37a1a7a31434b18a63e18c9d95b3701",
              "IPY_MODEL_1cb409caa7e446f6a0ba787fa86829a0"
            ],
            "layout": "IPY_MODEL_0c8c6d6409a440739f304dce9fcc2960"
          }
        },
        "067652a77d864b3ea574163d4f726e2c": {
          "model_module": "@jupyter-widgets/controls",
          "model_name": "HTMLModel",
          "model_module_version": "1.5.0",
          "state": {
            "_dom_classes": [],
            "_model_module": "@jupyter-widgets/controls",
            "_model_module_version": "1.5.0",
            "_model_name": "HTMLModel",
            "_view_count": null,
            "_view_module": "@jupyter-widgets/controls",
            "_view_module_version": "1.5.0",
            "_view_name": "HTMLView",
            "description": "",
            "description_tooltip": null,
            "layout": "IPY_MODEL_5ef77e0efa9645e3b9a1e1a6bc25fa62",
            "placeholder": "​",
            "style": "IPY_MODEL_a0da361ad36242b0916353c769d494b5",
            "value": "100%"
          }
        },
        "e37a1a7a31434b18a63e18c9d95b3701": {
          "model_module": "@jupyter-widgets/controls",
          "model_name": "FloatProgressModel",
          "model_module_version": "1.5.0",
          "state": {
            "_dom_classes": [],
            "_model_module": "@jupyter-widgets/controls",
            "_model_module_version": "1.5.0",
            "_model_name": "FloatProgressModel",
            "_view_count": null,
            "_view_module": "@jupyter-widgets/controls",
            "_view_module_version": "1.5.0",
            "_view_name": "ProgressView",
            "bar_style": "success",
            "description": "",
            "description_tooltip": null,
            "layout": "IPY_MODEL_27d45fd92f164a1b9956285d9f45cd77",
            "max": 162532,
            "min": 0,
            "orientation": "horizontal",
            "style": "IPY_MODEL_7042f718de944d40ac87fc55ee4a9b6d",
            "value": 162532
          }
        },
        "1cb409caa7e446f6a0ba787fa86829a0": {
          "model_module": "@jupyter-widgets/controls",
          "model_name": "HTMLModel",
          "model_module_version": "1.5.0",
          "state": {
            "_dom_classes": [],
            "_model_module": "@jupyter-widgets/controls",
            "_model_module_version": "1.5.0",
            "_model_name": "HTMLModel",
            "_view_count": null,
            "_view_module": "@jupyter-widgets/controls",
            "_view_module_version": "1.5.0",
            "_view_name": "HTMLView",
            "description": "",
            "description_tooltip": null,
            "layout": "IPY_MODEL_691bcc3082c54b7ba612108be7efdf64",
            "placeholder": "​",
            "style": "IPY_MODEL_6860f5775aa84f7c8b569986afd59b85",
            "value": " 162532/162532 [00:37&lt;00:00, 3760.78it/s]"
          }
        },
        "0c8c6d6409a440739f304dce9fcc2960": {
          "model_module": "@jupyter-widgets/base",
          "model_name": "LayoutModel",
          "model_module_version": "1.2.0",
          "state": {
            "_model_module": "@jupyter-widgets/base",
            "_model_module_version": "1.2.0",
            "_model_name": "LayoutModel",
            "_view_count": null,
            "_view_module": "@jupyter-widgets/base",
            "_view_module_version": "1.2.0",
            "_view_name": "LayoutView",
            "align_content": null,
            "align_items": null,
            "align_self": null,
            "border": null,
            "bottom": null,
            "display": null,
            "flex": null,
            "flex_flow": null,
            "grid_area": null,
            "grid_auto_columns": null,
            "grid_auto_flow": null,
            "grid_auto_rows": null,
            "grid_column": null,
            "grid_gap": null,
            "grid_row": null,
            "grid_template_areas": null,
            "grid_template_columns": null,
            "grid_template_rows": null,
            "height": null,
            "justify_content": null,
            "justify_items": null,
            "left": null,
            "margin": null,
            "max_height": null,
            "max_width": null,
            "min_height": null,
            "min_width": null,
            "object_fit": null,
            "object_position": null,
            "order": null,
            "overflow": null,
            "overflow_x": null,
            "overflow_y": null,
            "padding": null,
            "right": null,
            "top": null,
            "visibility": null,
            "width": null
          }
        },
        "5ef77e0efa9645e3b9a1e1a6bc25fa62": {
          "model_module": "@jupyter-widgets/base",
          "model_name": "LayoutModel",
          "model_module_version": "1.2.0",
          "state": {
            "_model_module": "@jupyter-widgets/base",
            "_model_module_version": "1.2.0",
            "_model_name": "LayoutModel",
            "_view_count": null,
            "_view_module": "@jupyter-widgets/base",
            "_view_module_version": "1.2.0",
            "_view_name": "LayoutView",
            "align_content": null,
            "align_items": null,
            "align_self": null,
            "border": null,
            "bottom": null,
            "display": null,
            "flex": null,
            "flex_flow": null,
            "grid_area": null,
            "grid_auto_columns": null,
            "grid_auto_flow": null,
            "grid_auto_rows": null,
            "grid_column": null,
            "grid_gap": null,
            "grid_row": null,
            "grid_template_areas": null,
            "grid_template_columns": null,
            "grid_template_rows": null,
            "height": null,
            "justify_content": null,
            "justify_items": null,
            "left": null,
            "margin": null,
            "max_height": null,
            "max_width": null,
            "min_height": null,
            "min_width": null,
            "object_fit": null,
            "object_position": null,
            "order": null,
            "overflow": null,
            "overflow_x": null,
            "overflow_y": null,
            "padding": null,
            "right": null,
            "top": null,
            "visibility": null,
            "width": null
          }
        },
        "a0da361ad36242b0916353c769d494b5": {
          "model_module": "@jupyter-widgets/controls",
          "model_name": "DescriptionStyleModel",
          "model_module_version": "1.5.0",
          "state": {
            "_model_module": "@jupyter-widgets/controls",
            "_model_module_version": "1.5.0",
            "_model_name": "DescriptionStyleModel",
            "_view_count": null,
            "_view_module": "@jupyter-widgets/base",
            "_view_module_version": "1.2.0",
            "_view_name": "StyleView",
            "description_width": ""
          }
        },
        "27d45fd92f164a1b9956285d9f45cd77": {
          "model_module": "@jupyter-widgets/base",
          "model_name": "LayoutModel",
          "model_module_version": "1.2.0",
          "state": {
            "_model_module": "@jupyter-widgets/base",
            "_model_module_version": "1.2.0",
            "_model_name": "LayoutModel",
            "_view_count": null,
            "_view_module": "@jupyter-widgets/base",
            "_view_module_version": "1.2.0",
            "_view_name": "LayoutView",
            "align_content": null,
            "align_items": null,
            "align_self": null,
            "border": null,
            "bottom": null,
            "display": null,
            "flex": null,
            "flex_flow": null,
            "grid_area": null,
            "grid_auto_columns": null,
            "grid_auto_flow": null,
            "grid_auto_rows": null,
            "grid_column": null,
            "grid_gap": null,
            "grid_row": null,
            "grid_template_areas": null,
            "grid_template_columns": null,
            "grid_template_rows": null,
            "height": null,
            "justify_content": null,
            "justify_items": null,
            "left": null,
            "margin": null,
            "max_height": null,
            "max_width": null,
            "min_height": null,
            "min_width": null,
            "object_fit": null,
            "object_position": null,
            "order": null,
            "overflow": null,
            "overflow_x": null,
            "overflow_y": null,
            "padding": null,
            "right": null,
            "top": null,
            "visibility": null,
            "width": null
          }
        },
        "7042f718de944d40ac87fc55ee4a9b6d": {
          "model_module": "@jupyter-widgets/controls",
          "model_name": "ProgressStyleModel",
          "model_module_version": "1.5.0",
          "state": {
            "_model_module": "@jupyter-widgets/controls",
            "_model_module_version": "1.5.0",
            "_model_name": "ProgressStyleModel",
            "_view_count": null,
            "_view_module": "@jupyter-widgets/base",
            "_view_module_version": "1.2.0",
            "_view_name": "StyleView",
            "bar_color": null,
            "description_width": ""
          }
        },
        "691bcc3082c54b7ba612108be7efdf64": {
          "model_module": "@jupyter-widgets/base",
          "model_name": "LayoutModel",
          "model_module_version": "1.2.0",
          "state": {
            "_model_module": "@jupyter-widgets/base",
            "_model_module_version": "1.2.0",
            "_model_name": "LayoutModel",
            "_view_count": null,
            "_view_module": "@jupyter-widgets/base",
            "_view_module_version": "1.2.0",
            "_view_name": "LayoutView",
            "align_content": null,
            "align_items": null,
            "align_self": null,
            "border": null,
            "bottom": null,
            "display": null,
            "flex": null,
            "flex_flow": null,
            "grid_area": null,
            "grid_auto_columns": null,
            "grid_auto_flow": null,
            "grid_auto_rows": null,
            "grid_column": null,
            "grid_gap": null,
            "grid_row": null,
            "grid_template_areas": null,
            "grid_template_columns": null,
            "grid_template_rows": null,
            "height": null,
            "justify_content": null,
            "justify_items": null,
            "left": null,
            "margin": null,
            "max_height": null,
            "max_width": null,
            "min_height": null,
            "min_width": null,
            "object_fit": null,
            "object_position": null,
            "order": null,
            "overflow": null,
            "overflow_x": null,
            "overflow_y": null,
            "padding": null,
            "right": null,
            "top": null,
            "visibility": null,
            "width": null
          }
        },
        "6860f5775aa84f7c8b569986afd59b85": {
          "model_module": "@jupyter-widgets/controls",
          "model_name": "DescriptionStyleModel",
          "model_module_version": "1.5.0",
          "state": {
            "_model_module": "@jupyter-widgets/controls",
            "_model_module_version": "1.5.0",
            "_model_name": "DescriptionStyleModel",
            "_view_count": null,
            "_view_module": "@jupyter-widgets/base",
            "_view_module_version": "1.2.0",
            "_view_name": "StyleView",
            "description_width": ""
          }
        },
        "3380acd0ab7949fc90c2f8c70b740bb7": {
          "model_module": "@jupyter-widgets/controls",
          "model_name": "HBoxModel",
          "model_module_version": "1.5.0",
          "state": {
            "_dom_classes": [],
            "_model_module": "@jupyter-widgets/controls",
            "_model_module_version": "1.5.0",
            "_model_name": "HBoxModel",
            "_view_count": null,
            "_view_module": "@jupyter-widgets/controls",
            "_view_module_version": "1.5.0",
            "_view_name": "HBoxView",
            "box_style": "",
            "children": [
              "IPY_MODEL_b44db203fb2843e388556839c76e8d18",
              "IPY_MODEL_658f94f7053749a3b963049a99218857",
              "IPY_MODEL_72a08046571b4bdb873b39d2920e58bf"
            ],
            "layout": "IPY_MODEL_f5bd9fac1f6948fe9d26a2f06f3cf1a0"
          }
        },
        "b44db203fb2843e388556839c76e8d18": {
          "model_module": "@jupyter-widgets/controls",
          "model_name": "HTMLModel",
          "model_module_version": "1.5.0",
          "state": {
            "_dom_classes": [],
            "_model_module": "@jupyter-widgets/controls",
            "_model_module_version": "1.5.0",
            "_model_name": "HTMLModel",
            "_view_count": null,
            "_view_module": "@jupyter-widgets/controls",
            "_view_module_version": "1.5.0",
            "_view_name": "HTMLView",
            "description": "",
            "description_tooltip": null,
            "layout": "IPY_MODEL_a06e5f76f29f4475ae7f360ac8e6a126",
            "placeholder": "​",
            "style": "IPY_MODEL_1e38a8b061a34e0ca84a1928b540663f",
            "value": "100%"
          }
        },
        "658f94f7053749a3b963049a99218857": {
          "model_module": "@jupyter-widgets/controls",
          "model_name": "FloatProgressModel",
          "model_module_version": "1.5.0",
          "state": {
            "_dom_classes": [],
            "_model_module": "@jupyter-widgets/controls",
            "_model_module_version": "1.5.0",
            "_model_name": "FloatProgressModel",
            "_view_count": null,
            "_view_module": "@jupyter-widgets/controls",
            "_view_module_version": "1.5.0",
            "_view_name": "ProgressView",
            "bar_style": "success",
            "description": "",
            "description_tooltip": null,
            "layout": "IPY_MODEL_c43877462aed4494aaec2b7b3eb702e4",
            "max": 162532,
            "min": 0,
            "orientation": "horizontal",
            "style": "IPY_MODEL_7ba2143fa52a4d8396188dbafc95b2e5",
            "value": 162532
          }
        },
        "72a08046571b4bdb873b39d2920e58bf": {
          "model_module": "@jupyter-widgets/controls",
          "model_name": "HTMLModel",
          "model_module_version": "1.5.0",
          "state": {
            "_dom_classes": [],
            "_model_module": "@jupyter-widgets/controls",
            "_model_module_version": "1.5.0",
            "_model_name": "HTMLModel",
            "_view_count": null,
            "_view_module": "@jupyter-widgets/controls",
            "_view_module_version": "1.5.0",
            "_view_name": "HTMLView",
            "description": "",
            "description_tooltip": null,
            "layout": "IPY_MODEL_38d15b43b7594b47b3903b1c42e6b380",
            "placeholder": "​",
            "style": "IPY_MODEL_f7a993a54ed2443d9b33a218555d8f19",
            "value": " 162532/162532 [00:37&lt;00:00, 4426.88it/s]"
          }
        },
        "f5bd9fac1f6948fe9d26a2f06f3cf1a0": {
          "model_module": "@jupyter-widgets/base",
          "model_name": "LayoutModel",
          "model_module_version": "1.2.0",
          "state": {
            "_model_module": "@jupyter-widgets/base",
            "_model_module_version": "1.2.0",
            "_model_name": "LayoutModel",
            "_view_count": null,
            "_view_module": "@jupyter-widgets/base",
            "_view_module_version": "1.2.0",
            "_view_name": "LayoutView",
            "align_content": null,
            "align_items": null,
            "align_self": null,
            "border": null,
            "bottom": null,
            "display": null,
            "flex": null,
            "flex_flow": null,
            "grid_area": null,
            "grid_auto_columns": null,
            "grid_auto_flow": null,
            "grid_auto_rows": null,
            "grid_column": null,
            "grid_gap": null,
            "grid_row": null,
            "grid_template_areas": null,
            "grid_template_columns": null,
            "grid_template_rows": null,
            "height": null,
            "justify_content": null,
            "justify_items": null,
            "left": null,
            "margin": null,
            "max_height": null,
            "max_width": null,
            "min_height": null,
            "min_width": null,
            "object_fit": null,
            "object_position": null,
            "order": null,
            "overflow": null,
            "overflow_x": null,
            "overflow_y": null,
            "padding": null,
            "right": null,
            "top": null,
            "visibility": null,
            "width": null
          }
        },
        "a06e5f76f29f4475ae7f360ac8e6a126": {
          "model_module": "@jupyter-widgets/base",
          "model_name": "LayoutModel",
          "model_module_version": "1.2.0",
          "state": {
            "_model_module": "@jupyter-widgets/base",
            "_model_module_version": "1.2.0",
            "_model_name": "LayoutModel",
            "_view_count": null,
            "_view_module": "@jupyter-widgets/base",
            "_view_module_version": "1.2.0",
            "_view_name": "LayoutView",
            "align_content": null,
            "align_items": null,
            "align_self": null,
            "border": null,
            "bottom": null,
            "display": null,
            "flex": null,
            "flex_flow": null,
            "grid_area": null,
            "grid_auto_columns": null,
            "grid_auto_flow": null,
            "grid_auto_rows": null,
            "grid_column": null,
            "grid_gap": null,
            "grid_row": null,
            "grid_template_areas": null,
            "grid_template_columns": null,
            "grid_template_rows": null,
            "height": null,
            "justify_content": null,
            "justify_items": null,
            "left": null,
            "margin": null,
            "max_height": null,
            "max_width": null,
            "min_height": null,
            "min_width": null,
            "object_fit": null,
            "object_position": null,
            "order": null,
            "overflow": null,
            "overflow_x": null,
            "overflow_y": null,
            "padding": null,
            "right": null,
            "top": null,
            "visibility": null,
            "width": null
          }
        },
        "1e38a8b061a34e0ca84a1928b540663f": {
          "model_module": "@jupyter-widgets/controls",
          "model_name": "DescriptionStyleModel",
          "model_module_version": "1.5.0",
          "state": {
            "_model_module": "@jupyter-widgets/controls",
            "_model_module_version": "1.5.0",
            "_model_name": "DescriptionStyleModel",
            "_view_count": null,
            "_view_module": "@jupyter-widgets/base",
            "_view_module_version": "1.2.0",
            "_view_name": "StyleView",
            "description_width": ""
          }
        },
        "c43877462aed4494aaec2b7b3eb702e4": {
          "model_module": "@jupyter-widgets/base",
          "model_name": "LayoutModel",
          "model_module_version": "1.2.0",
          "state": {
            "_model_module": "@jupyter-widgets/base",
            "_model_module_version": "1.2.0",
            "_model_name": "LayoutModel",
            "_view_count": null,
            "_view_module": "@jupyter-widgets/base",
            "_view_module_version": "1.2.0",
            "_view_name": "LayoutView",
            "align_content": null,
            "align_items": null,
            "align_self": null,
            "border": null,
            "bottom": null,
            "display": null,
            "flex": null,
            "flex_flow": null,
            "grid_area": null,
            "grid_auto_columns": null,
            "grid_auto_flow": null,
            "grid_auto_rows": null,
            "grid_column": null,
            "grid_gap": null,
            "grid_row": null,
            "grid_template_areas": null,
            "grid_template_columns": null,
            "grid_template_rows": null,
            "height": null,
            "justify_content": null,
            "justify_items": null,
            "left": null,
            "margin": null,
            "max_height": null,
            "max_width": null,
            "min_height": null,
            "min_width": null,
            "object_fit": null,
            "object_position": null,
            "order": null,
            "overflow": null,
            "overflow_x": null,
            "overflow_y": null,
            "padding": null,
            "right": null,
            "top": null,
            "visibility": null,
            "width": null
          }
        },
        "7ba2143fa52a4d8396188dbafc95b2e5": {
          "model_module": "@jupyter-widgets/controls",
          "model_name": "ProgressStyleModel",
          "model_module_version": "1.5.0",
          "state": {
            "_model_module": "@jupyter-widgets/controls",
            "_model_module_version": "1.5.0",
            "_model_name": "ProgressStyleModel",
            "_view_count": null,
            "_view_module": "@jupyter-widgets/base",
            "_view_module_version": "1.2.0",
            "_view_name": "StyleView",
            "bar_color": null,
            "description_width": ""
          }
        },
        "38d15b43b7594b47b3903b1c42e6b380": {
          "model_module": "@jupyter-widgets/base",
          "model_name": "LayoutModel",
          "model_module_version": "1.2.0",
          "state": {
            "_model_module": "@jupyter-widgets/base",
            "_model_module_version": "1.2.0",
            "_model_name": "LayoutModel",
            "_view_count": null,
            "_view_module": "@jupyter-widgets/base",
            "_view_module_version": "1.2.0",
            "_view_name": "LayoutView",
            "align_content": null,
            "align_items": null,
            "align_self": null,
            "border": null,
            "bottom": null,
            "display": null,
            "flex": null,
            "flex_flow": null,
            "grid_area": null,
            "grid_auto_columns": null,
            "grid_auto_flow": null,
            "grid_auto_rows": null,
            "grid_column": null,
            "grid_gap": null,
            "grid_row": null,
            "grid_template_areas": null,
            "grid_template_columns": null,
            "grid_template_rows": null,
            "height": null,
            "justify_content": null,
            "justify_items": null,
            "left": null,
            "margin": null,
            "max_height": null,
            "max_width": null,
            "min_height": null,
            "min_width": null,
            "object_fit": null,
            "object_position": null,
            "order": null,
            "overflow": null,
            "overflow_x": null,
            "overflow_y": null,
            "padding": null,
            "right": null,
            "top": null,
            "visibility": null,
            "width": null
          }
        },
        "f7a993a54ed2443d9b33a218555d8f19": {
          "model_module": "@jupyter-widgets/controls",
          "model_name": "DescriptionStyleModel",
          "model_module_version": "1.5.0",
          "state": {
            "_model_module": "@jupyter-widgets/controls",
            "_model_module_version": "1.5.0",
            "_model_name": "DescriptionStyleModel",
            "_view_count": null,
            "_view_module": "@jupyter-widgets/base",
            "_view_module_version": "1.2.0",
            "_view_name": "StyleView",
            "description_width": ""
          }
        },
        "69993a9d088c461fa62d324e959f281a": {
          "model_module": "@jupyter-widgets/controls",
          "model_name": "HBoxModel",
          "model_module_version": "1.5.0",
          "state": {
            "_dom_classes": [],
            "_model_module": "@jupyter-widgets/controls",
            "_model_module_version": "1.5.0",
            "_model_name": "HBoxModel",
            "_view_count": null,
            "_view_module": "@jupyter-widgets/controls",
            "_view_module_version": "1.5.0",
            "_view_name": "HBoxView",
            "box_style": "",
            "children": [
              "IPY_MODEL_8a9d138bf2c340f48274924ddd85f2d7",
              "IPY_MODEL_15737ffce2b7481c956b68d3852d7491",
              "IPY_MODEL_6b9ea23205f04c779d2065a53ccb4cbb"
            ],
            "layout": "IPY_MODEL_e8074803a87a466c9a54d6e158581e8b"
          }
        },
        "8a9d138bf2c340f48274924ddd85f2d7": {
          "model_module": "@jupyter-widgets/controls",
          "model_name": "HTMLModel",
          "model_module_version": "1.5.0",
          "state": {
            "_dom_classes": [],
            "_model_module": "@jupyter-widgets/controls",
            "_model_module_version": "1.5.0",
            "_model_name": "HTMLModel",
            "_view_count": null,
            "_view_module": "@jupyter-widgets/controls",
            "_view_module_version": "1.5.0",
            "_view_name": "HTMLView",
            "description": "",
            "description_tooltip": null,
            "layout": "IPY_MODEL_4eee28ecc0a044c6ab6c1687e297e3a8",
            "placeholder": "​",
            "style": "IPY_MODEL_c673de33f5724cf8a52bc70335057628",
            "value": "100%"
          }
        },
        "15737ffce2b7481c956b68d3852d7491": {
          "model_module": "@jupyter-widgets/controls",
          "model_name": "FloatProgressModel",
          "model_module_version": "1.5.0",
          "state": {
            "_dom_classes": [],
            "_model_module": "@jupyter-widgets/controls",
            "_model_module_version": "1.5.0",
            "_model_name": "FloatProgressModel",
            "_view_count": null,
            "_view_module": "@jupyter-widgets/controls",
            "_view_module_version": "1.5.0",
            "_view_name": "ProgressView",
            "bar_style": "success",
            "description": "",
            "description_tooltip": null,
            "layout": "IPY_MODEL_362fa340d1344b8db456bf5f5f4be115",
            "max": 162532,
            "min": 0,
            "orientation": "horizontal",
            "style": "IPY_MODEL_a4588ec616e04f3fb96cc305a84d5554",
            "value": 162532
          }
        },
        "6b9ea23205f04c779d2065a53ccb4cbb": {
          "model_module": "@jupyter-widgets/controls",
          "model_name": "HTMLModel",
          "model_module_version": "1.5.0",
          "state": {
            "_dom_classes": [],
            "_model_module": "@jupyter-widgets/controls",
            "_model_module_version": "1.5.0",
            "_model_name": "HTMLModel",
            "_view_count": null,
            "_view_module": "@jupyter-widgets/controls",
            "_view_module_version": "1.5.0",
            "_view_name": "HTMLView",
            "description": "",
            "description_tooltip": null,
            "layout": "IPY_MODEL_2045f00ca78e44b787159bac911af943",
            "placeholder": "​",
            "style": "IPY_MODEL_431affb27e8e4276aebdade07fe0bb3b",
            "value": " 162532/162532 [00:37&lt;00:00, 4356.15it/s]"
          }
        },
        "e8074803a87a466c9a54d6e158581e8b": {
          "model_module": "@jupyter-widgets/base",
          "model_name": "LayoutModel",
          "model_module_version": "1.2.0",
          "state": {
            "_model_module": "@jupyter-widgets/base",
            "_model_module_version": "1.2.0",
            "_model_name": "LayoutModel",
            "_view_count": null,
            "_view_module": "@jupyter-widgets/base",
            "_view_module_version": "1.2.0",
            "_view_name": "LayoutView",
            "align_content": null,
            "align_items": null,
            "align_self": null,
            "border": null,
            "bottom": null,
            "display": null,
            "flex": null,
            "flex_flow": null,
            "grid_area": null,
            "grid_auto_columns": null,
            "grid_auto_flow": null,
            "grid_auto_rows": null,
            "grid_column": null,
            "grid_gap": null,
            "grid_row": null,
            "grid_template_areas": null,
            "grid_template_columns": null,
            "grid_template_rows": null,
            "height": null,
            "justify_content": null,
            "justify_items": null,
            "left": null,
            "margin": null,
            "max_height": null,
            "max_width": null,
            "min_height": null,
            "min_width": null,
            "object_fit": null,
            "object_position": null,
            "order": null,
            "overflow": null,
            "overflow_x": null,
            "overflow_y": null,
            "padding": null,
            "right": null,
            "top": null,
            "visibility": null,
            "width": null
          }
        },
        "4eee28ecc0a044c6ab6c1687e297e3a8": {
          "model_module": "@jupyter-widgets/base",
          "model_name": "LayoutModel",
          "model_module_version": "1.2.0",
          "state": {
            "_model_module": "@jupyter-widgets/base",
            "_model_module_version": "1.2.0",
            "_model_name": "LayoutModel",
            "_view_count": null,
            "_view_module": "@jupyter-widgets/base",
            "_view_module_version": "1.2.0",
            "_view_name": "LayoutView",
            "align_content": null,
            "align_items": null,
            "align_self": null,
            "border": null,
            "bottom": null,
            "display": null,
            "flex": null,
            "flex_flow": null,
            "grid_area": null,
            "grid_auto_columns": null,
            "grid_auto_flow": null,
            "grid_auto_rows": null,
            "grid_column": null,
            "grid_gap": null,
            "grid_row": null,
            "grid_template_areas": null,
            "grid_template_columns": null,
            "grid_template_rows": null,
            "height": null,
            "justify_content": null,
            "justify_items": null,
            "left": null,
            "margin": null,
            "max_height": null,
            "max_width": null,
            "min_height": null,
            "min_width": null,
            "object_fit": null,
            "object_position": null,
            "order": null,
            "overflow": null,
            "overflow_x": null,
            "overflow_y": null,
            "padding": null,
            "right": null,
            "top": null,
            "visibility": null,
            "width": null
          }
        },
        "c673de33f5724cf8a52bc70335057628": {
          "model_module": "@jupyter-widgets/controls",
          "model_name": "DescriptionStyleModel",
          "model_module_version": "1.5.0",
          "state": {
            "_model_module": "@jupyter-widgets/controls",
            "_model_module_version": "1.5.0",
            "_model_name": "DescriptionStyleModel",
            "_view_count": null,
            "_view_module": "@jupyter-widgets/base",
            "_view_module_version": "1.2.0",
            "_view_name": "StyleView",
            "description_width": ""
          }
        },
        "362fa340d1344b8db456bf5f5f4be115": {
          "model_module": "@jupyter-widgets/base",
          "model_name": "LayoutModel",
          "model_module_version": "1.2.0",
          "state": {
            "_model_module": "@jupyter-widgets/base",
            "_model_module_version": "1.2.0",
            "_model_name": "LayoutModel",
            "_view_count": null,
            "_view_module": "@jupyter-widgets/base",
            "_view_module_version": "1.2.0",
            "_view_name": "LayoutView",
            "align_content": null,
            "align_items": null,
            "align_self": null,
            "border": null,
            "bottom": null,
            "display": null,
            "flex": null,
            "flex_flow": null,
            "grid_area": null,
            "grid_auto_columns": null,
            "grid_auto_flow": null,
            "grid_auto_rows": null,
            "grid_column": null,
            "grid_gap": null,
            "grid_row": null,
            "grid_template_areas": null,
            "grid_template_columns": null,
            "grid_template_rows": null,
            "height": null,
            "justify_content": null,
            "justify_items": null,
            "left": null,
            "margin": null,
            "max_height": null,
            "max_width": null,
            "min_height": null,
            "min_width": null,
            "object_fit": null,
            "object_position": null,
            "order": null,
            "overflow": null,
            "overflow_x": null,
            "overflow_y": null,
            "padding": null,
            "right": null,
            "top": null,
            "visibility": null,
            "width": null
          }
        },
        "a4588ec616e04f3fb96cc305a84d5554": {
          "model_module": "@jupyter-widgets/controls",
          "model_name": "ProgressStyleModel",
          "model_module_version": "1.5.0",
          "state": {
            "_model_module": "@jupyter-widgets/controls",
            "_model_module_version": "1.5.0",
            "_model_name": "ProgressStyleModel",
            "_view_count": null,
            "_view_module": "@jupyter-widgets/base",
            "_view_module_version": "1.2.0",
            "_view_name": "StyleView",
            "bar_color": null,
            "description_width": ""
          }
        },
        "2045f00ca78e44b787159bac911af943": {
          "model_module": "@jupyter-widgets/base",
          "model_name": "LayoutModel",
          "model_module_version": "1.2.0",
          "state": {
            "_model_module": "@jupyter-widgets/base",
            "_model_module_version": "1.2.0",
            "_model_name": "LayoutModel",
            "_view_count": null,
            "_view_module": "@jupyter-widgets/base",
            "_view_module_version": "1.2.0",
            "_view_name": "LayoutView",
            "align_content": null,
            "align_items": null,
            "align_self": null,
            "border": null,
            "bottom": null,
            "display": null,
            "flex": null,
            "flex_flow": null,
            "grid_area": null,
            "grid_auto_columns": null,
            "grid_auto_flow": null,
            "grid_auto_rows": null,
            "grid_column": null,
            "grid_gap": null,
            "grid_row": null,
            "grid_template_areas": null,
            "grid_template_columns": null,
            "grid_template_rows": null,
            "height": null,
            "justify_content": null,
            "justify_items": null,
            "left": null,
            "margin": null,
            "max_height": null,
            "max_width": null,
            "min_height": null,
            "min_width": null,
            "object_fit": null,
            "object_position": null,
            "order": null,
            "overflow": null,
            "overflow_x": null,
            "overflow_y": null,
            "padding": null,
            "right": null,
            "top": null,
            "visibility": null,
            "width": null
          }
        },
        "431affb27e8e4276aebdade07fe0bb3b": {
          "model_module": "@jupyter-widgets/controls",
          "model_name": "DescriptionStyleModel",
          "model_module_version": "1.5.0",
          "state": {
            "_model_module": "@jupyter-widgets/controls",
            "_model_module_version": "1.5.0",
            "_model_name": "DescriptionStyleModel",
            "_view_count": null,
            "_view_module": "@jupyter-widgets/base",
            "_view_module_version": "1.2.0",
            "_view_name": "StyleView",
            "description_width": ""
          }
        }
      }
    }
  },
  "cells": [
    {
      "cell_type": "markdown",
      "metadata": {
        "id": "view-in-github",
        "colab_type": "text"
      },
      "source": [
        "<a href=\"https://colab.research.google.com/github/yckamra/MovieLens25m-Recommender/blob/main/MovieLens_Collaborative_Filtering.ipynb\" target=\"_parent\"><img src=\"https://colab.research.google.com/assets/colab-badge.svg\" alt=\"Open In Colab\"/></a>"
      ]
    },
    {
      "cell_type": "code",
      "source": [
        "print(\"Installing project dependencies...\")\n",
        "!pip install numpy pandas scipy implicit scikit-learn # Basic libraries we want\n",
        "!pip install --upgrade \"implicit==0.7.2\" \"scipy==1.10.1\"\n",
        "#!pip install torch\n",
        "print(\"Dependencies installed successfully.\")"
      ],
      "metadata": {
        "colab": {
          "base_uri": "https://localhost:8080/"
        },
        "id": "32NmVGoMsKJL",
        "outputId": "82705d83-b68c-41ba-ed7b-17148790dd65"
      },
      "execution_count": 1,
      "outputs": [
        {
          "output_type": "stream",
          "name": "stdout",
          "text": [
            "Installing project dependencies...\n",
            "Requirement already satisfied: numpy in /usr/local/lib/python3.11/dist-packages (1.26.4)\n",
            "Requirement already satisfied: pandas in /usr/local/lib/python3.11/dist-packages (2.2.2)\n",
            "Requirement already satisfied: scipy in /usr/local/lib/python3.11/dist-packages (1.10.1)\n",
            "Requirement already satisfied: implicit in /usr/local/lib/python3.11/dist-packages (0.7.2)\n",
            "Requirement already satisfied: scikit-learn in /usr/local/lib/python3.11/dist-packages (1.6.1)\n",
            "Requirement already satisfied: python-dateutil>=2.8.2 in /usr/local/lib/python3.11/dist-packages (from pandas) (2.9.0.post0)\n",
            "Requirement already satisfied: pytz>=2020.1 in /usr/local/lib/python3.11/dist-packages (from pandas) (2025.2)\n",
            "Requirement already satisfied: tzdata>=2022.7 in /usr/local/lib/python3.11/dist-packages (from pandas) (2025.2)\n",
            "Requirement already satisfied: tqdm>=4.27 in /usr/local/lib/python3.11/dist-packages (from implicit) (4.67.1)\n",
            "Requirement already satisfied: threadpoolctl in /usr/local/lib/python3.11/dist-packages (from implicit) (3.6.0)\n",
            "Requirement already satisfied: joblib>=1.2.0 in /usr/local/lib/python3.11/dist-packages (from scikit-learn) (1.5.1)\n",
            "Requirement already satisfied: six>=1.5 in /usr/local/lib/python3.11/dist-packages (from python-dateutil>=2.8.2->pandas) (1.17.0)\n",
            "Requirement already satisfied: implicit==0.7.2 in /usr/local/lib/python3.11/dist-packages (0.7.2)\n",
            "Requirement already satisfied: scipy==1.10.1 in /usr/local/lib/python3.11/dist-packages (1.10.1)\n",
            "Requirement already satisfied: numpy>=1.17.0 in /usr/local/lib/python3.11/dist-packages (from implicit==0.7.2) (1.26.4)\n",
            "Requirement already satisfied: tqdm>=4.27 in /usr/local/lib/python3.11/dist-packages (from implicit==0.7.2) (4.67.1)\n",
            "Requirement already satisfied: threadpoolctl in /usr/local/lib/python3.11/dist-packages (from implicit==0.7.2) (3.6.0)\n",
            "Dependencies installed successfully.\n"
          ]
        }
      ]
    },
    {
      "cell_type": "code",
      "execution_count": 2,
      "metadata": {
        "id": "GbhcESHldBDk"
      },
      "outputs": [],
      "source": [
        "from google.colab import auth\n",
        "import zipfile\n",
        "import os\n",
        "import pandas as pd\n",
        "import numpy as np\n",
        "from sklearn.model_selection import train_test_split\n",
        "import implicit\n",
        "#import torch\n",
        "from sklearn.metrics.pairwise import cosine_similarity\n",
        "from scipy.sparse import coo_matrix, csr_matrix # Compressed Sparse Row\n",
        "from implicit.evaluation import precision_at_k, mean_average_precision_at_k, ndcg_at_k\n",
        "from google.cloud import storage\n",
        "import pickle"
      ]
    },
    {
      "cell_type": "code",
      "source": [
        "auth.authenticate_user()\n",
        "\n",
        "!gcloud config set project movielens-recommender-451017\n",
        "\n",
        "!gsutil cp gs://movielens-data/movielens_data.zip /content/"
      ],
      "metadata": {
        "colab": {
          "base_uri": "https://localhost:8080/"
        },
        "id": "etCajMZSdIE6",
        "outputId": "f16fba1f-fbf1-45aa-c460-6fdcd3d2b1d0"
      },
      "execution_count": 3,
      "outputs": [
        {
          "output_type": "stream",
          "name": "stdout",
          "text": [
            "Updated property [core/project].\n",
            "Copying gs://movielens-data/movielens_data.zip...\n",
            "==> NOTE: You are downloading one or more large file(s), which would\n",
            "run significantly faster if you enabled sliced object downloads. This\n",
            "feature is enabled by default but requires that compiled crcmod be\n",
            "installed (see \"gsutil help crcmod\").\n",
            "\n",
            "| [1 files][257.5 MiB/257.5 MiB]                                                \n",
            "Operation completed over 1 objects/257.5 MiB.                                    \n"
          ]
        }
      ]
    },
    {
      "cell_type": "markdown",
      "source": [
        "Dataset can be found at: https://www.kaggle.com/datasets/garymk/movielens-25m-dataset"
      ],
      "metadata": {
        "id": "IguZS0cTdR_j"
      }
    },
    {
      "cell_type": "code",
      "source": [
        "!ls -lh /content/"
      ],
      "metadata": {
        "colab": {
          "base_uri": "https://localhost:8080/"
        },
        "id": "LRjv3UhAdKU9",
        "outputId": "f1656b3a-fb47-48b8-9cf6-5cacb16ed415"
      },
      "execution_count": 4,
      "outputs": [
        {
          "output_type": "stream",
          "name": "stdout",
          "text": [
            "total 258M\n",
            "-rw-r--r-- 1 root root 258M Jun 29 12:50 movielens_data.zip\n",
            "drwxr-xr-x 1 root root 4.0K Jun 26 13:35 sample_data\n"
          ]
        }
      ]
    },
    {
      "cell_type": "code",
      "source": [
        "zip_path = \"/content/movielens_data.zip\"  # Change to your actual zip file name\n",
        "extract_to = \"/content/data/\"  # Where to extract files\n",
        "\n",
        "# Create directory if it doesn't exist\n",
        "os.makedirs(extract_to, exist_ok=True)\n",
        "\n",
        "# Unzip the file\n",
        "with zipfile.ZipFile(zip_path, \"r\") as zip_ref:\n",
        "    zip_ref.extractall(extract_to)\n",
        "\n",
        "print(\"Extraction complete! Files are in:\", extract_to)\n",
        "!ls -lh /content/data/ml-25m"
      ],
      "metadata": {
        "colab": {
          "base_uri": "https://localhost:8080/"
        },
        "id": "lwv85jWDdS2x",
        "outputId": "fbb5c0b9-0d8b-4ba9-9c95-b832e03dfedc"
      },
      "execution_count": 5,
      "outputs": [
        {
          "output_type": "stream",
          "name": "stdout",
          "text": [
            "Extraction complete! Files are in: /content/data/\n",
            "total 1.1G\n",
            "-rw-r--r-- 1 root root 416M Jun 29 12:50 genome-scores.csv\n",
            "-rw-r--r-- 1 root root  18K Jun 29 12:50 genome-tags.csv\n",
            "-rw-r--r-- 1 root root 1.4M Jun 29 12:50 links.csv\n",
            "-rw-r--r-- 1 root root 2.9M Jun 29 12:50 movies.csv\n",
            "-rw-r--r-- 1 root root 647M Jun 29 12:50 ratings.csv\n",
            "-rw-r--r-- 1 root root  11K Jun 29 12:50 README.txt\n",
            "-rw-r--r-- 1 root root  38M Jun 29 12:50 tags.csv\n"
          ]
        }
      ]
    },
    {
      "cell_type": "code",
      "source": [
        "genome_scores_CSV = \"/content/data/ml-25m/genome-scores.csv\"\n",
        "genome_tags_CSV = \"/content/data/ml-25m/genome-tags.csv\"\n",
        "links_CSV = \"/content/data/ml-25m/links.csv\"\n",
        "movies_CSV = \"/content/data/ml-25m/movies.csv\"\n",
        "ratings_CSV = \"/content/data/ml-25m/ratings.csv\"\n",
        "tags_CSV = \"/content/data/ml-25m/tags.csv\""
      ],
      "metadata": {
        "id": "mjxVguVKdZTB"
      },
      "execution_count": 6,
      "outputs": []
    },
    {
      "cell_type": "code",
      "source": [
        "class User:\n",
        "\n",
        "  def __init__(self, ID):\n",
        "    self.ID = ID\n",
        "    self.archtypes = []\n",
        "    self.favorite_actors = []\n",
        "    self.favorite_genres = []\n",
        "    self.favorite_tags = []\n",
        "    self.favorite_sub_genres = [] # ie. Dark Fantasy Epics or Feel-Good Romantic Comedies"
      ],
      "metadata": {
        "id": "XTyHiPuN1a5t"
      },
      "execution_count": 7,
      "outputs": []
    },
    {
      "cell_type": "code",
      "source": [
        "# Load ratings data\n",
        "ratings_path = ratings_CSV\n",
        "ratings_df = pd.read_csv(ratings_path)\n",
        "\n",
        "print(ratings_df)\n",
        "\n",
        "# Load movies data\n",
        "movies_path = movies_CSV\n",
        "movies_df = pd.read_csv(movies_path)\n",
        "\n",
        "print(movies_df)\n",
        "\n",
        "# Load tags data\n",
        "tags_path = tags_CSV\n",
        "tags_df = pd.read_csv(tags_path)\n",
        "\n",
        "print(tags_df)"
      ],
      "metadata": {
        "colab": {
          "base_uri": "https://localhost:8080/"
        },
        "id": "xTDpfbeU04JM",
        "outputId": "8190f689-12ef-4094-f72a-5ecd718d1257"
      },
      "execution_count": 8,
      "outputs": [
        {
          "output_type": "stream",
          "name": "stdout",
          "text": [
            "          userId  movieId  rating   timestamp\n",
            "0              1      296     5.0  1147880044\n",
            "1              1      306     3.5  1147868817\n",
            "2              1      307     5.0  1147868828\n",
            "3              1      665     5.0  1147878820\n",
            "4              1      899     3.5  1147868510\n",
            "...          ...      ...     ...         ...\n",
            "25000090  162541    50872     4.5  1240953372\n",
            "25000091  162541    55768     2.5  1240951998\n",
            "25000092  162541    56176     2.0  1240950697\n",
            "25000093  162541    58559     4.0  1240953434\n",
            "25000094  162541    63876     5.0  1240952515\n",
            "\n",
            "[25000095 rows x 4 columns]\n",
            "       movieId                               title  \\\n",
            "0            1                    Toy Story (1995)   \n",
            "1            2                      Jumanji (1995)   \n",
            "2            3             Grumpier Old Men (1995)   \n",
            "3            4            Waiting to Exhale (1995)   \n",
            "4            5  Father of the Bride Part II (1995)   \n",
            "...        ...                                 ...   \n",
            "62418   209157                           We (2018)   \n",
            "62419   209159           Window of the Soul (2001)   \n",
            "62420   209163                    Bad Poems (2018)   \n",
            "62421   209169                 A Girl Thing (2001)   \n",
            "62422   209171      Women of Devil's Island (1962)   \n",
            "\n",
            "                                            genres  \n",
            "0      Adventure|Animation|Children|Comedy|Fantasy  \n",
            "1                       Adventure|Children|Fantasy  \n",
            "2                                   Comedy|Romance  \n",
            "3                             Comedy|Drama|Romance  \n",
            "4                                           Comedy  \n",
            "...                                            ...  \n",
            "62418                                        Drama  \n",
            "62419                                  Documentary  \n",
            "62420                                 Comedy|Drama  \n",
            "62421                           (no genres listed)  \n",
            "62422                       Action|Adventure|Drama  \n",
            "\n",
            "[62423 rows x 3 columns]\n",
            "         userId  movieId                  tag   timestamp\n",
            "0             3      260              classic  1439472355\n",
            "1             3      260               sci-fi  1439472256\n",
            "2             4     1732          dark comedy  1573943598\n",
            "3             4     1732       great dialogue  1573943604\n",
            "4             4     7569     so bad it's good  1573943455\n",
            "...         ...      ...                  ...         ...\n",
            "1093355  162521    66934  Neil Patrick Harris  1427311611\n",
            "1093356  162521   103341     cornetto trilogy  1427311259\n",
            "1093357  162534   189169               comedy  1527518175\n",
            "1093358  162534   189169             disabled  1527518181\n",
            "1093359  162534   189169              robbery  1527518193\n",
            "\n",
            "[1093360 rows x 4 columns]\n"
          ]
        }
      ]
    },
    {
      "cell_type": "code",
      "source": [
        "# Sort by user\n",
        "ratings_df.sort_values('userId', inplace=True, ignore_index=True)\n",
        "\n",
        "# Count unique users and movies\n",
        "num_users = ratings_df[\"userId\"].nunique()\n",
        "num_movies = ratings_df[\"movieId\"].nunique()\n",
        "\n",
        "print(f\"Number of Unique Users: {num_users}\")\n",
        "print(f\"Number of Unique Movies: {num_movies}\")"
      ],
      "metadata": {
        "id": "luR5u_la0wWi",
        "colab": {
          "base_uri": "https://localhost:8080/"
        },
        "outputId": "16821bbb-3597-4ed1-a4b4-b88e04c4f26e"
      },
      "execution_count": 9,
      "outputs": [
        {
          "output_type": "stream",
          "name": "stdout",
          "text": [
            "Number of Unique Users: 162541\n",
            "Number of Unique Movies: 59047\n"
          ]
        }
      ]
    },
    {
      "cell_type": "markdown",
      "source": [
        "We will be using collaborative filtering for recommendations. A 2D matrix will be created for movie to user ratings with movies on x-axis and users on y-axis. For new users, we ask for a baseline amount of movies to get a starting vector, and then we use cosine similarity to find their similarity to existing users to recommend them movies. With more ratings, comes greater accuracy."
      ],
      "metadata": {
        "id": "fYfXiDXLsOpO"
      }
    },
    {
      "cell_type": "code",
      "source": [
        "#numpy_matrix = np.zeros((num_users, num_movies))\n",
        "#print(numpy_matrix)\n",
        "#print(numpy_matrix.shape)"
      ],
      "metadata": {
        "id": "oZBQruTBddqK"
      },
      "execution_count": 10,
      "outputs": []
    },
    {
      "cell_type": "markdown",
      "source": [
        "In order to map IDs of movies and users to the 2D matrix for collaborative filtering, we will use dictionaries to create key-value pairs between ID and index within the matrix."
      ],
      "metadata": {
        "id": "0NWMoOVuHJbU"
      }
    },
    {
      "cell_type": "code",
      "source": [
        "user_id_map = {}\n",
        "movie_id_map = {}\n",
        "user_index = 0\n",
        "movie_index = 0\n",
        "\n",
        "# Create user_id and movie_id to 2D matrix indices\n",
        "for user in ratings_df[\"userId\"]: # Use this for sparse matrix, not userId since users could be removed from dataset\n",
        "  if user not in user_id_map:\n",
        "    user_id_map[user] = user_index\n",
        "    user_index += 1\n",
        "\n",
        "for movie in ratings_df[\"movieId\"]:\n",
        "  if movie not in movie_id_map:\n",
        "    movie_id_map[movie] = movie_index\n",
        "    movie_index += 1"
      ],
      "metadata": {
        "id": "Hkh0j1qPvVhT"
      },
      "execution_count": 11,
      "outputs": []
    },
    {
      "cell_type": "markdown",
      "source": [
        "Notice below that we are populating a dense matrix, so if we have ~25 million cells to populate out of the ~9 billion from our 162,541 x 59047 matrix filled with zeroes, we are dealing with major sparcity problems and wasted memory. So below is just to later enjoy shorter train times and smaller matrices. Going forward we will be using a Compressed Sparse Row matrix. This will help in learning user and movie abstract feature matrices and cosine similarities."
      ],
      "metadata": {
        "id": "C3cgm5PCyWA6"
      }
    },
    {
      "cell_type": "code",
      "source": [
        "#from IPython.display import clear_output\n",
        "\n",
        "#iter = 0\n",
        "#percent_done = 0\n",
        "#total_rows = len(ratings_df)\n",
        "# Iterate over the rows of the DataFrame\n",
        "#for index, row in ratings_df.iterrows():\n",
        "    #user_index = user_id_map[row[\"userId\"]]\n",
        "    #movie_index = movie_id_map[row[\"movieId\"]]\n",
        "    #numpy_matrix[user_index, movie_index] = row[\"rating\"]\n",
        "    #if iter % int(total_rows / 100) == 0:\n",
        "      #clear_output(wait=True)\n",
        "      #print(f\"Percent of matrix populated with ratings: {percent_done}%\")\n",
        "      #percent_done += 1\n",
        "    #iter += 1"
      ],
      "metadata": {
        "id": "zexX8aolyMeE"
      },
      "execution_count": 12,
      "outputs": []
    },
    {
      "cell_type": "code",
      "source": [
        "#ratings_dataframe = pd.DataFrame(numpy_matrix)\n",
        "#print(ratings_dataframe.head())"
      ],
      "metadata": {
        "id": "KIgSo8-gLyAY"
      },
      "execution_count": 13,
      "outputs": []
    },
    {
      "cell_type": "code",
      "source": [
        "# Comparing the dataframe ratings to the original Kaggle dataset\n",
        "#print(f\"Original Rating: 4.0 Found Rating: {ratings_dataframe.loc[user_id_map[1], movie_id_map[8786]]}\")\n",
        "#print(f\"Original Rating: 2.0 Found Rating: {ratings_dataframe.loc[user_id_map[2], movie_id_map[480]]}\")\n",
        "#print(f\"Original Rating: 3.5 Found Rating: {ratings_dataframe.loc[user_id_map[3], movie_id_map[1270]]}\")\n",
        "#print(ratings_dataframe.shape)"
      ],
      "metadata": {
        "id": "QhE8yl1AedIi"
      },
      "execution_count": 14,
      "outputs": []
    },
    {
      "cell_type": "markdown",
      "source": [
        "Here I have created my own arrays for sparse matrix. We will use scipy in order to have more accurate conversions, but this gives us another option and removes the blackbox."
      ],
      "metadata": {
        "id": "w3TYULQMb50u"
      }
    },
    {
      "cell_type": "code",
      "source": [
        "def calculate_data_array(df):  # Numpy array of ratings\n",
        "  ratings_df = df\n",
        "  data = ratings_df[\"rating\"].to_numpy()\n",
        "  print(data)\n",
        "  return data\n",
        "\n",
        "def calculate_movie_indices(df):   # Numpy array of movie indices\n",
        "  ratings_df = df\n",
        "  indices = ratings_df[\"movieId\"].to_numpy()\n",
        "\n",
        "  for i in range(len(indices)):\n",
        "      indices[i] = movie_id_map[int(indices[i])]\n",
        "  print(indices)\n",
        "  return indices\n",
        "\n",
        "\n",
        "def calculate_indptr(df):   # Numpy array of pointers to indices\n",
        "  ratings_df = df\n",
        "  num_users = ratings_df[\"userId\"].nunique()\n",
        "  indptr = np.zeros(num_users + 1, dtype=int)\n",
        "  last_user = ratings_df[\"userId\"].iloc[0]\n",
        "  index_in_indptr = 1\n",
        "  iterator = 0\n",
        "\n",
        "  for i in range(len(ratings_df[\"userId\"])):\n",
        "    current_user = ratings_df[\"userId\"].iloc[iterator]\n",
        "    if current_user != last_user:\n",
        "      indptr[index_in_indptr] = iterator\n",
        "      index_in_indptr += 1\n",
        "      last_user = current_user\n",
        "    iterator += 1\n",
        "\n",
        "  indptr[index_in_indptr] = len(ratings_df[\"userId\"]) # This fills up the last indice\n",
        "\n",
        "  print(indptr)\n",
        "  return indptr\n",
        "\n",
        "#data = {'userId': [0, 0, 1, 2, 2, 2, 3]} # For testing\n",
        "#df = pd.DataFrame(data) # For testing\n",
        "#calculate_indptr(df) # For testing"
      ],
      "metadata": {
        "id": "U9Q3wmWtn9Bp"
      },
      "execution_count": 15,
      "outputs": []
    },
    {
      "cell_type": "code",
      "source": [
        "# Apply the maps to the DataFrame columns to get the 0-indexed row and column arrays\n",
        "row_indices = ratings_df['userId'].map(user_id_map).to_numpy()\n",
        "col_indices = ratings_df['movieId'].map(movie_id_map).to_numpy()\n",
        "data_values = ratings_df['rating'].to_numpy() # The actual ratings\n",
        "\n",
        "# Master COO matrix\n",
        "user_item_matrix_coo = coo_matrix(\n",
        "    (data_values, (row_indices, col_indices)),\n",
        "    shape=(num_users, num_movies)\n",
        ")\n",
        "\n",
        "# Master CSR matrix\n",
        "user_item_matrix_csr = user_item_matrix_coo.tocsr()\n",
        "\n",
        "# Split into train and test sets\n",
        "#(train_row_indices, test_row_indices,\n",
        "# train_col_indices, test_col_indices,\n",
        "# train_data_values, test_data_values) = train_test_split(\n",
        "#    row_indices,\n",
        "#    col_indices,\n",
        "#    data_values,\n",
        "#    test_size=0.3,\n",
        "#    random_state=42\n",
        "#)\n",
        "\n",
        "#print(train_row_indices)\n",
        "\n",
        "# Create the train COO Matrix\n",
        "#train_matrix_coo = coo_matrix(\n",
        "#    (train_data_values, (train_row_indices, train_col_indices)),\n",
        "#    shape=(num_users, num_movies)\n",
        "#)\n",
        "\n",
        "# Convert to CSR (Compressed Sparse Row) for the training set\n",
        "#train_matrix_csr = train_matrix_coo.tocsr()\n",
        "\n",
        "# Create the test COO Matrix\n",
        "#test_matrix_coo = coo_matrix(\n",
        "#    (test_data_values, (test_row_indices, test_col_indices)),\n",
        "#    shape=(num_users, num_movies)\n",
        "#)\n",
        "\n",
        "# Convert to CSR (Compressed Sparse Row) for the test set\n",
        "#test_matrix_csr = test_matrix_coo.tocsr()\n",
        "\n",
        "# Stack the row, col, value into tuples\n",
        "interactions = list(zip(row_indices, col_indices, data_values))\n",
        "\n",
        "# Use train_test_split on the full triplets\n",
        "train_data, test_data = train_test_split(interactions, test_size=0.3, random_state=42)\n",
        "\n",
        "# Separate the triplets again for matrix construction\n",
        "train_rows, train_cols, train_vals = zip(*train_data)\n",
        "test_rows, test_cols, test_vals = zip(*test_data)\n",
        "\n",
        "# Build sparse matrices\n",
        "train_matrix_csr = coo_matrix((train_vals, (train_rows, train_cols)), shape=(num_users, num_movies)).tocsr()\n",
        "test_matrix_csr = coo_matrix((test_vals, (test_rows, test_cols)), shape=(num_users, num_movies)).tocsr()"
      ],
      "metadata": {
        "id": "lECsL1DKqOtD"
      },
      "execution_count": 16,
      "outputs": []
    },
    {
      "cell_type": "markdown",
      "source": [
        "Notice below that the indice array is different than our function. This is because although the user indice array is sorted as the main sort, within each user's range--the subsection for each user--has their movie indices sorted as well."
      ],
      "metadata": {
        "id": "InSo2U69ezXE"
      }
    },
    {
      "cell_type": "code",
      "source": [
        "print(\"Converted to CSR Matrix.\")\n",
        "print(\"Train CSR Shape:\", train_matrix_csr.shape)\n",
        "print(\"Train CSR number of examples:\", train_matrix_csr.nnz)\n",
        "print(\"Train CSR data:\", train_matrix_csr.data)\n",
        "print(\"Train CSR indices (column indices):\", train_matrix_csr.indices)\n",
        "print(\"Train CSR indptr (pointers to row starts):\", train_matrix_csr.indptr)\n",
        "print(\"Test CSR Shape:\", test_matrix_csr.shape)\n",
        "print(\"Test CSR number of examples:\", test_matrix_csr.nnz)\n",
        "print(\"Test CSR data:\", test_matrix_csr.data)\n",
        "print(\"Test CSR indices (column indices):\", test_matrix_csr.indices)\n",
        "print(\"Test CSR indptr (pointers to row starts):\", test_matrix_csr.indptr)"
      ],
      "metadata": {
        "id": "zv2NovANwXVa",
        "colab": {
          "base_uri": "https://localhost:8080/"
        },
        "outputId": "572dd79c-e0d1-4c16-97e3-602f855ce2e7"
      },
      "execution_count": 24,
      "outputs": [
        {
          "output_type": "stream",
          "name": "stdout",
          "text": [
            "Converted to CSR Matrix.\n",
            "Train CSR Shape: (162541, 59047)\n",
            "Train CSR number of examples: 17500066\n",
            "Train CSR data: [5.  5.  3.5 ... 2.  3.  2.5]\n",
            "Train CSR indices (column indices): [    0     3     4 ... 12213 12780 14125]\n",
            "Train CSR indptr (pointers to row starts): [       0       55      188 ... 17499873 17499937 17500066]\n",
            "Test CSR Shape: (162541, 59047)\n",
            "Test CSR number of examples: 7500029\n",
            "Test CSR data: [2.5 4.  4.  ... 4.  4.  3.5]\n",
            "Test CSR indices (column indices): [   1    2   12 ... 3845 5693 6221]\n",
            "Test CSR indptr (pointers to row starts): [      0      15      66 ... 7499952 7499976 7500029]\n"
          ]
        }
      ]
    },
    {
      "cell_type": "code",
      "source": [
        "def get_cosine_similarity_userX_to_allUsers(userId, user_id_map, user_item_matrix_csr): # TODO: we need to remove the own user from its similarity array\n",
        "  user_index = user_id_map[userId]\n",
        "  target_user_vector = user_item_matrix_csr[user_index : user_index + 1]\n",
        "  return cosine_similarity(target_user_vector, user_item_matrix_csr)"
      ],
      "metadata": {
        "id": "Wp0ybBYsdnDB"
      },
      "execution_count": 25,
      "outputs": []
    },
    {
      "cell_type": "code",
      "source": [
        "print(get_cosine_similarity_userX_to_allUsers(1, user_id_map, train_matrix_csr))"
      ],
      "metadata": {
        "colab": {
          "base_uri": "https://localhost:8080/"
        },
        "id": "P6XgiHQGvbvy",
        "outputId": "7a241221-c5ad-4b90-f83e-f3b58db09764"
      },
      "execution_count": 26,
      "outputs": [
        {
          "output_type": "stream",
          "name": "stdout",
          "text": [
            "[[1.         0.04059364 0.03063487 ... 0.         0.01862104 0.06664523]]\n"
          ]
        }
      ]
    },
    {
      "cell_type": "markdown",
      "source": [
        "Our model for matrix factorization will be Alternating Least Squares (ALS)."
      ],
      "metadata": {
        "id": "qmDrPxXJ0bVP"
      }
    },
    {
      "cell_type": "code",
      "source": [
        "# Hyperparameters\n",
        "num_factors = 50       # Number of dimensions to learn\n",
        "regularization = 0.01  # L2 regularization\n",
        "num_iterations = 20    # Number of training iterations\n",
        "\n",
        "# ALS model\n",
        "matrix_factorization_model = implicit.als.AlternatingLeastSquares(\n",
        "    factors=num_factors,\n",
        "    regularization=regularization,\n",
        "    iterations=num_iterations,\n",
        "    random_state=42,\n",
        "    calculate_training_loss=True # Monitors loss\n",
        ")\n",
        "\n",
        "# Model will learn confidence of a user's interest in a movie and will not predict scores (0.5-5.0)\n",
        "# Larger confidence score, the more likely the user will like the movie\n",
        "matrix_factorization_model.fit(train_matrix_csr)\n",
        "\n",
        "# Store our user and movie abstract feature (latent) matrices\n",
        "user_factors = matrix_factorization_model.user_factors # Shape is num_users by num_factors\n",
        "item_factors = matrix_factorization_model.item_factors # Shape is num_items by num_factors\n",
        "\n",
        "print(\"ALS model training complete!\")\n",
        "print(f\"Learned User Factors Shape: {user_factors.shape}\")\n",
        "print(f\"Learned Movie Factors Shape: {item_factors.shape}\")"
      ],
      "metadata": {
        "colab": {
          "base_uri": "https://localhost:8080/",
          "height": 103,
          "referenced_widgets": [
            "8fdbe0cdc97e44cba557d4ee4c553ea1",
            "cdbf909230ee46f783162ebb58f3e392",
            "ed66b9515ec143e0918d81709f7d2ff2",
            "6ac71f578f8e465193feb8c3a17e8dd0",
            "3b76177fa1ba407caf2fbd1446ed42b7",
            "6874cf244aeb47f19590f9d94f7e3d9f",
            "8e471ebd66a7439693e6613da2aaffd9",
            "b50e0cac98b34ca8be8d6f690d033b94",
            "22cb3dc015bf47cf84d0dcab3a4bce6e",
            "bcbe0c1b696943c6b04e2a0daf687aae",
            "a556e6562cb549eab1c6e1f6ccbbbf2c"
          ]
        },
        "id": "_b6cRiIBx0Vj",
        "outputId": "45601895-9c68-4c32-e6de-59d3d793c4a9"
      },
      "execution_count": 32,
      "outputs": [
        {
          "output_type": "display_data",
          "data": {
            "text/plain": [
              "  0%|          | 0/20 [00:00<?, ?it/s]"
            ],
            "application/vnd.jupyter.widget-view+json": {
              "version_major": 2,
              "version_minor": 0,
              "model_id": "8fdbe0cdc97e44cba557d4ee4c553ea1"
            }
          },
          "metadata": {}
        },
        {
          "output_type": "stream",
          "name": "stdout",
          "text": [
            "ALS model training complete!\n",
            "Learned User Factors Shape: (162541, 50)\n",
            "Learned Movie Factors Shape: (59047, 50)\n"
          ]
        }
      ]
    },
    {
      "cell_type": "markdown",
      "source": [
        "Model 1:\n",
        "*   50 factors, 0.01 regularization, 20 num of iterations\n",
        "*   training loss: 0.00301\n",
        "*   Precision@20: 0.4536\n",
        "*   MAP@20: 0.2945\n",
        "*   NDCG@20: 0.4506\n",
        "\n",
        "Model 2:\n",
        "*   100 factors, 0.01 regularization, 20 num of iterations\n",
        "*   0.00278 loss on train\n",
        "*   Precision@20: 0.4388\n",
        "*   MAP@20: 0.2772\n",
        "*   NDCG@20: 0.4359\n",
        "\n"
      ],
      "metadata": {
        "id": "r_JotZ3-yUJX"
      }
    },
    {
      "cell_type": "code",
      "source": [
        "K = 20\n",
        "\n",
        "# Evaluate\n",
        "precision = precision_at_k(matrix_factorization_model, train_matrix_csr, test_matrix_csr, K=K)\n",
        "map_k = mean_average_precision_at_k(matrix_factorization_model, train_matrix_csr, test_matrix_csr, K=K)\n",
        "ndcg = ndcg_at_k(matrix_factorization_model, train_matrix_csr, test_matrix_csr, K=K)\n",
        "\n",
        "print(f\"Precision@{K}: {precision:.4f}\")\n",
        "print(f\"MAP@{K}: {map_k:.4f}\")\n",
        "print(f\"NDCG@{K}: {ndcg:.4f}\")"
      ],
      "metadata": {
        "id": "svilFQZA1F1X",
        "colab": {
          "base_uri": "https://localhost:8080/",
          "height": 167,
          "referenced_widgets": [
            "62dba8da88504ea78b14fcef0daf2d2e",
            "067652a77d864b3ea574163d4f726e2c",
            "e37a1a7a31434b18a63e18c9d95b3701",
            "1cb409caa7e446f6a0ba787fa86829a0",
            "0c8c6d6409a440739f304dce9fcc2960",
            "5ef77e0efa9645e3b9a1e1a6bc25fa62",
            "a0da361ad36242b0916353c769d494b5",
            "27d45fd92f164a1b9956285d9f45cd77",
            "7042f718de944d40ac87fc55ee4a9b6d",
            "691bcc3082c54b7ba612108be7efdf64",
            "6860f5775aa84f7c8b569986afd59b85",
            "3380acd0ab7949fc90c2f8c70b740bb7",
            "b44db203fb2843e388556839c76e8d18",
            "658f94f7053749a3b963049a99218857",
            "72a08046571b4bdb873b39d2920e58bf",
            "f5bd9fac1f6948fe9d26a2f06f3cf1a0",
            "a06e5f76f29f4475ae7f360ac8e6a126",
            "1e38a8b061a34e0ca84a1928b540663f",
            "c43877462aed4494aaec2b7b3eb702e4",
            "7ba2143fa52a4d8396188dbafc95b2e5",
            "38d15b43b7594b47b3903b1c42e6b380",
            "f7a993a54ed2443d9b33a218555d8f19",
            "69993a9d088c461fa62d324e959f281a",
            "8a9d138bf2c340f48274924ddd85f2d7",
            "15737ffce2b7481c956b68d3852d7491",
            "6b9ea23205f04c779d2065a53ccb4cbb",
            "e8074803a87a466c9a54d6e158581e8b",
            "4eee28ecc0a044c6ab6c1687e297e3a8",
            "c673de33f5724cf8a52bc70335057628",
            "362fa340d1344b8db456bf5f5f4be115",
            "a4588ec616e04f3fb96cc305a84d5554",
            "2045f00ca78e44b787159bac911af943",
            "431affb27e8e4276aebdade07fe0bb3b"
          ]
        },
        "outputId": "366c2a1f-9d3c-4a4c-e479-a8dbba8b80b5"
      },
      "execution_count": 34,
      "outputs": [
        {
          "output_type": "display_data",
          "data": {
            "text/plain": [
              "  0%|          | 0/162532 [00:00<?, ?it/s]"
            ],
            "application/vnd.jupyter.widget-view+json": {
              "version_major": 2,
              "version_minor": 0,
              "model_id": "62dba8da88504ea78b14fcef0daf2d2e"
            }
          },
          "metadata": {}
        },
        {
          "output_type": "display_data",
          "data": {
            "text/plain": [
              "  0%|          | 0/162532 [00:00<?, ?it/s]"
            ],
            "application/vnd.jupyter.widget-view+json": {
              "version_major": 2,
              "version_minor": 0,
              "model_id": "3380acd0ab7949fc90c2f8c70b740bb7"
            }
          },
          "metadata": {}
        },
        {
          "output_type": "display_data",
          "data": {
            "text/plain": [
              "  0%|          | 0/162532 [00:00<?, ?it/s]"
            ],
            "application/vnd.jupyter.widget-view+json": {
              "version_major": 2,
              "version_minor": 0,
              "model_id": "69993a9d088c461fa62d324e959f281a"
            }
          },
          "metadata": {}
        },
        {
          "output_type": "stream",
          "name": "stdout",
          "text": [
            "Precision@20: 0.4536\n",
            "MAP@20: 0.2945\n",
            "NDCG@20: 0.4506\n"
          ]
        }
      ]
    },
    {
      "cell_type": "code",
      "source": [
        "def save_to_gcs(thing_to_save, bucket_name: str, destination_blob_name: str):\n",
        "    try:\n",
        "        auth.authenticate_user()\n",
        "        print(\"Authenticated to Google Cloud.\")\n",
        "    except Exception as e:\n",
        "        print(f\"Could not authenticate user (may be running outside Colab or already authenticated): {e}\")\n",
        "\n",
        "    client = storage.Client()\n",
        "    bucket = client.bucket(bucket_name)\n",
        "    blob = bucket.blob(destination_blob_name)\n",
        "\n",
        "    # Pickle the object into a bytes object\n",
        "    pickled_data = pickle.dumps(thing_to_save)\n",
        "\n",
        "    # Upload object to GCS\n",
        "    blob.upload_from_string(pickled_data, content_type='application/octet-stream')\n",
        "\n",
        "    print(f\"Object successfully saved to gs://{bucket_name}/{destination_blob_name}\")"
      ],
      "metadata": {
        "id": "czq3SQmbJB_w"
      },
      "execution_count": 35,
      "outputs": []
    },
    {
      "cell_type": "code",
      "source": [
        "bucket_name = \"movielens-data\"\n",
        "\n",
        "blob_name = \"collaborative_filtering/user_id_map.pkl\"\n",
        "save_to_gcs(user_id_map, bucket_name, blob_name)\n",
        "\n",
        "blob_name = \"collaborative_filtering/movie_id_map.pkl\"\n",
        "save_to_gcs(movie_id_map, bucket_name, blob_name)\n",
        "\n",
        "blob_name = \"collaborative_filtering/user_item_matrix_csr.pkl\"\n",
        "save_to_gcs(user_item_matrix_csr, bucket_name, blob_name)\n",
        "\n",
        "blob_name = \"collaborative_filtering/train_matrix_csr.pkl\"\n",
        "save_to_gcs(train_matrix_csr, bucket_name, blob_name)\n",
        "\n",
        "blob_name = \"collaborative_filtering/test_matrix_csr.pkl\"\n",
        "save_to_gcs(test_matrix_csr, bucket_name, blob_name)\n",
        "\n",
        "blob_name = \"collaborative_filtering/matrix_factorization_model.pkl\"\n",
        "save_to_gcs(matrix_factorization_model, bucket_name, blob_name)"
      ],
      "metadata": {
        "colab": {
          "base_uri": "https://localhost:8080/"
        },
        "id": "tADZAk1vs38K",
        "outputId": "a2c1febf-ca55-48ef-cec6-64f389b20278"
      },
      "execution_count": 36,
      "outputs": [
        {
          "output_type": "stream",
          "name": "stdout",
          "text": [
            "Authenticated to Google Cloud.\n",
            "Object successfully saved to gs://movielens-data/collaborative_filtering/user_id_map.pkl\n",
            "Authenticated to Google Cloud.\n",
            "Object successfully saved to gs://movielens-data/collaborative_filtering/movie_id_map.pkl\n",
            "Authenticated to Google Cloud.\n",
            "Object successfully saved to gs://movielens-data/collaborative_filtering/user_item_matrix_csr.pkl\n",
            "Authenticated to Google Cloud.\n",
            "Object successfully saved to gs://movielens-data/collaborative_filtering/train_matrix_csr.pkl\n",
            "Authenticated to Google Cloud.\n",
            "Object successfully saved to gs://movielens-data/collaborative_filtering/test_matrix_csr.pkl\n",
            "Authenticated to Google Cloud.\n",
            "Object successfully saved to gs://movielens-data/collaborative_filtering/matrix_factorization_model.pkl\n"
          ]
        }
      ]
    },
    {
      "cell_type": "code",
      "source": [],
      "metadata": {
        "id": "-NZKX1_bv1zG"
      },
      "execution_count": null,
      "outputs": []
    }
  ]
}