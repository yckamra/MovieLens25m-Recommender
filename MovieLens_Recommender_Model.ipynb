{
  "nbformat": 4,
  "nbformat_minor": 0,
  "metadata": {
    "colab": {
      "provenance": [],
      "authorship_tag": "ABX9TyOObFaBcRaPB4i6AYojz3NF",
      "include_colab_link": true
    },
    "kernelspec": {
      "name": "python3",
      "display_name": "Python 3"
    },
    "language_info": {
      "name": "python"
    }
  },
  "cells": [
    {
      "cell_type": "markdown",
      "metadata": {
        "id": "view-in-github",
        "colab_type": "text"
      },
      "source": [
        "<a href=\"https://colab.research.google.com/github/yckamra/MovieLens25m-Recommender/blob/main/MovieLens_Recommender_Model.ipynb\" target=\"_parent\"><img src=\"https://colab.research.google.com/assets/colab-badge.svg\" alt=\"Open In Colab\"/></a>"
      ]
    },
    {
      "cell_type": "code",
      "execution_count": 1,
      "metadata": {
        "id": "GbhcESHldBDk"
      },
      "outputs": [],
      "source": [
        "from google.colab import auth\n",
        "import zipfile\n",
        "import os\n",
        "import pandas as pd"
      ]
    },
    {
      "cell_type": "code",
      "source": [
        "auth.authenticate_user()\n",
        "\n",
        "!gcloud config set project movielens-recommender-451017\n",
        "\n",
        "!gsutil cp gs://movielens-data/movielens_data.zip /content/"
      ],
      "metadata": {
        "colab": {
          "base_uri": "https://localhost:8080/"
        },
        "id": "etCajMZSdIE6",
        "outputId": "1c23bf65-c0d5-49bd-db50-516ec5208707"
      },
      "execution_count": 2,
      "outputs": [
        {
          "output_type": "stream",
          "name": "stdout",
          "text": [
            "Updated property [core/project].\n",
            "Copying gs://movielens-data/movielens_data.zip...\n",
            "==> NOTE: You are downloading one or more large file(s), which would\n",
            "run significantly faster if you enabled sliced object downloads. This\n",
            "feature is enabled by default but requires that compiled crcmod be\n",
            "installed (see \"gsutil help crcmod\").\n",
            "\n",
            "/ [1 files][257.5 MiB/257.5 MiB]                                                \n",
            "Operation completed over 1 objects/257.5 MiB.                                    \n"
          ]
        }
      ]
    },
    {
      "cell_type": "markdown",
      "source": [
        "Dataset can be found at: https://www.kaggle.com/datasets/garymk/movielens-25m-dataset"
      ],
      "metadata": {
        "id": "IguZS0cTdR_j"
      }
    },
    {
      "cell_type": "code",
      "source": [
        "!ls -lh /content/"
      ],
      "metadata": {
        "colab": {
          "base_uri": "https://localhost:8080/"
        },
        "id": "LRjv3UhAdKU9",
        "outputId": "d7da09f5-f084-472d-9e4c-4976bbe38482"
      },
      "execution_count": 3,
      "outputs": [
        {
          "output_type": "stream",
          "name": "stdout",
          "text": [
            "total 258M\n",
            "-rw-r--r-- 1 root root 258M May 19 16:51 movielens_data.zip\n",
            "drwxr-xr-x 1 root root 4.0K May 14 13:38 sample_data\n"
          ]
        }
      ]
    },
    {
      "cell_type": "code",
      "source": [
        "zip_path = \"/content/movielens_data.zip\"  # Change to your actual zip file name\n",
        "extract_to = \"/content/data/\"  # Where to extract files\n",
        "\n",
        "# Create directory if it doesn't exist\n",
        "os.makedirs(extract_to, exist_ok=True)\n",
        "\n",
        "# Unzip the file\n",
        "with zipfile.ZipFile(zip_path, \"r\") as zip_ref:\n",
        "    zip_ref.extractall(extract_to)\n",
        "\n",
        "print(\"Extraction complete! Files are in:\", extract_to)\n",
        "!ls -lh /content/data/ml-25m"
      ],
      "metadata": {
        "colab": {
          "base_uri": "https://localhost:8080/"
        },
        "id": "lwv85jWDdS2x",
        "outputId": "04167e2e-0997-402f-d396-09523e810560"
      },
      "execution_count": 4,
      "outputs": [
        {
          "output_type": "stream",
          "name": "stdout",
          "text": [
            "Extraction complete! Files are in: /content/data/\n",
            "total 1.1G\n",
            "-rw-r--r-- 1 root root 416M May 19 16:52 genome-scores.csv\n",
            "-rw-r--r-- 1 root root  18K May 19 16:52 genome-tags.csv\n",
            "-rw-r--r-- 1 root root 1.4M May 19 16:52 links.csv\n",
            "-rw-r--r-- 1 root root 2.9M May 19 16:52 movies.csv\n",
            "-rw-r--r-- 1 root root 647M May 19 16:52 ratings.csv\n",
            "-rw-r--r-- 1 root root  11K May 19 16:51 README.txt\n",
            "-rw-r--r-- 1 root root  38M May 19 16:52 tags.csv\n"
          ]
        }
      ]
    },
    {
      "cell_type": "code",
      "source": [
        "genome_scores_CSV = \"/content/data/ml-25m/genome-scores.csv\"\n",
        "genome_tags_CSV = \"/content/data/ml-25m/genome-tags.csv\"\n",
        "links_CSV = \"/content/data/ml-25m/links.csv\"\n",
        "movies_CSV = \"/content/data/ml-25m/movies.csv\"\n",
        "ratings_CSV = \"/content/data/ml-25m/ratings.csv\"\n",
        "tags_CSV = \"/content/data/ml-25m/tags.csv\""
      ],
      "metadata": {
        "id": "mjxVguVKdZTB"
      },
      "execution_count": 5,
      "outputs": []
    },
    {
      "cell_type": "code",
      "source": [
        "# Load ratings data\n",
        "ratings_path = ratings_CSV\n",
        "ratings_df = pd.read_csv(ratings_path)\n",
        "\n",
        "# Count unique users and movies\n",
        "num_users = ratings_df[\"userId\"].nunique()\n",
        "num_movies = ratings_df[\"movieId\"].nunique()\n",
        "\n",
        "print(f\"Number of Unique Users: {num_users}\")\n",
        "print(f\"Number of Unique Movies: {num_movies}\")"
      ],
      "metadata": {
        "colab": {
          "base_uri": "https://localhost:8080/"
        },
        "id": "KuhhQSuudbqr",
        "outputId": "49801e40-fdbb-4512-d234-583a51755a69"
      },
      "execution_count": 6,
      "outputs": [
        {
          "output_type": "stream",
          "name": "stdout",
          "text": [
            "Number of Unique Users: 162541\n",
            "Number of Unique Movies: 59047\n"
          ]
        }
      ]
    },
    {
      "cell_type": "code",
      "source": [],
      "metadata": {
        "id": "oZBQruTBddqK"
      },
      "execution_count": null,
      "outputs": []
    }
  ]
}