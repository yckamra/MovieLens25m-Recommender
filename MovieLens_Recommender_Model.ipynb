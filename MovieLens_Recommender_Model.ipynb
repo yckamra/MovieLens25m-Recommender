{
  "nbformat": 4,
  "nbformat_minor": 0,
  "metadata": {
    "colab": {
      "provenance": [],
      "machine_shape": "hm",
      "gpuType": "A100",
      "authorship_tag": "ABX9TyOwWwuLZNhQ5ll+z5tQYzrk",
      "include_colab_link": true
    },
    "kernelspec": {
      "name": "python3",
      "display_name": "Python 3"
    },
    "language_info": {
      "name": "python"
    },
    "accelerator": "GPU"
  },
  "cells": [
    {
      "cell_type": "markdown",
      "metadata": {
        "id": "view-in-github",
        "colab_type": "text"
      },
      "source": [
        "<a href=\"https://colab.research.google.com/github/yckamra/MovieLens25m-Recommender/blob/main/MovieLens_Recommender_Model.ipynb\" target=\"_parent\"><img src=\"https://colab.research.google.com/assets/colab-badge.svg\" alt=\"Open In Colab\"/></a>"
      ]
    },
    {
      "cell_type": "code",
      "execution_count": 1,
      "metadata": {
        "id": "GbhcESHldBDk"
      },
      "outputs": [],
      "source": [
        "from google.colab import auth\n",
        "import zipfile\n",
        "import os\n",
        "import pandas as pd\n",
        "import numpy as np"
      ]
    },
    {
      "cell_type": "code",
      "source": [
        "auth.authenticate_user()\n",
        "\n",
        "!gcloud config set project movielens-recommender-451017\n",
        "\n",
        "!gsutil cp gs://movielens-data/movielens_data.zip /content/"
      ],
      "metadata": {
        "colab": {
          "base_uri": "https://localhost:8080/"
        },
        "id": "etCajMZSdIE6",
        "outputId": "7527aafb-5351-4409-f1a9-d2215aae0291"
      },
      "execution_count": 2,
      "outputs": [
        {
          "output_type": "stream",
          "name": "stdout",
          "text": [
            "Updated property [core/project].\n",
            "Copying gs://movielens-data/movielens_data.zip...\n",
            "==> NOTE: You are downloading one or more large file(s), which would\n",
            "run significantly faster if you enabled sliced object downloads. This\n",
            "feature is enabled by default but requires that compiled crcmod be\n",
            "installed (see \"gsutil help crcmod\").\n",
            "\n",
            "- [1 files][257.5 MiB/257.5 MiB]                                                \n",
            "Operation completed over 1 objects/257.5 MiB.                                    \n"
          ]
        }
      ]
    },
    {
      "cell_type": "markdown",
      "source": [
        "Dataset can be found at: https://www.kaggle.com/datasets/garymk/movielens-25m-dataset"
      ],
      "metadata": {
        "id": "IguZS0cTdR_j"
      }
    },
    {
      "cell_type": "code",
      "source": [
        "!ls -lh /content/"
      ],
      "metadata": {
        "colab": {
          "base_uri": "https://localhost:8080/"
        },
        "id": "LRjv3UhAdKU9",
        "outputId": "c6963d29-c797-4a02-b83c-8bd9bb036e7d"
      },
      "execution_count": 3,
      "outputs": [
        {
          "output_type": "stream",
          "name": "stdout",
          "text": [
            "total 258M\n",
            "-rw-r--r-- 1 root root 258M May 20 16:11 movielens_data.zip\n",
            "drwxr-xr-x 1 root root 4.0K May 14 13:38 sample_data\n"
          ]
        }
      ]
    },
    {
      "cell_type": "code",
      "source": [
        "zip_path = \"/content/movielens_data.zip\"  # Change to your actual zip file name\n",
        "extract_to = \"/content/data/\"  # Where to extract files\n",
        "\n",
        "# Create directory if it doesn't exist\n",
        "os.makedirs(extract_to, exist_ok=True)\n",
        "\n",
        "# Unzip the file\n",
        "with zipfile.ZipFile(zip_path, \"r\") as zip_ref:\n",
        "    zip_ref.extractall(extract_to)\n",
        "\n",
        "print(\"Extraction complete! Files are in:\", extract_to)\n",
        "!ls -lh /content/data/ml-25m"
      ],
      "metadata": {
        "colab": {
          "base_uri": "https://localhost:8080/"
        },
        "id": "lwv85jWDdS2x",
        "outputId": "1faacd91-85a7-4f30-e8b8-53d783639338"
      },
      "execution_count": 4,
      "outputs": [
        {
          "output_type": "stream",
          "name": "stdout",
          "text": [
            "Extraction complete! Files are in: /content/data/\n",
            "total 1.1G\n",
            "-rw-r--r-- 1 root root 416M May 20 16:11 genome-scores.csv\n",
            "-rw-r--r-- 1 root root  18K May 20 16:11 genome-tags.csv\n",
            "-rw-r--r-- 1 root root 1.4M May 20 16:11 links.csv\n",
            "-rw-r--r-- 1 root root 2.9M May 20 16:11 movies.csv\n",
            "-rw-r--r-- 1 root root 647M May 20 16:11 ratings.csv\n",
            "-rw-r--r-- 1 root root  11K May 20 16:11 README.txt\n",
            "-rw-r--r-- 1 root root  38M May 20 16:11 tags.csv\n"
          ]
        }
      ]
    },
    {
      "cell_type": "code",
      "source": [
        "genome_scores_CSV = \"/content/data/ml-25m/genome-scores.csv\"\n",
        "genome_tags_CSV = \"/content/data/ml-25m/genome-tags.csv\"\n",
        "links_CSV = \"/content/data/ml-25m/links.csv\"\n",
        "movies_CSV = \"/content/data/ml-25m/movies.csv\"\n",
        "ratings_CSV = \"/content/data/ml-25m/ratings.csv\"\n",
        "tags_CSV = \"/content/data/ml-25m/tags.csv\""
      ],
      "metadata": {
        "id": "mjxVguVKdZTB"
      },
      "execution_count": 5,
      "outputs": []
    },
    {
      "cell_type": "markdown",
      "source": [
        "ratings.csv provides us with the data needed for the context-based recommender"
      ],
      "metadata": {
        "id": "o32mQB5ne-Qy"
      }
    },
    {
      "cell_type": "code",
      "source": [
        "# Load ratings data\n",
        "ratings_path = ratings_CSV\n",
        "ratings_df = pd.read_csv(ratings_path)\n",
        "\n",
        "print(ratings_df.head())\n",
        "\n",
        "# Count unique users and movies\n",
        "num_users = ratings_df[\"userId\"].nunique()\n",
        "num_movies = ratings_df[\"movieId\"].nunique()\n",
        "\n",
        "print(f\"Number of Unique Users: {num_users}\")\n",
        "print(f\"Number of Unique Movies: {num_movies}\")"
      ],
      "metadata": {
        "colab": {
          "base_uri": "https://localhost:8080/"
        },
        "id": "KuhhQSuudbqr",
        "outputId": "9ab24147-a140-49f5-b326-155a718c90dc"
      },
      "execution_count": 6,
      "outputs": [
        {
          "output_type": "stream",
          "name": "stdout",
          "text": [
            "   userId  movieId  rating   timestamp\n",
            "0       1      296     5.0  1147880044\n",
            "1       1      306     3.5  1147868817\n",
            "2       1      307     5.0  1147868828\n",
            "3       1      665     5.0  1147878820\n",
            "4       1      899     3.5  1147868510\n",
            "Number of Unique Users: 162541\n",
            "Number of Unique Movies: 59047\n"
          ]
        }
      ]
    },
    {
      "cell_type": "markdown",
      "source": [
        "We will be using collaborative filtering for recommendations. A 2D matrix will be created for movie to user ratings with movies on x-axis and users on y-axis. For new users, we ask for a baseline amount of movies to get a starting vector, and then we use cosine similarity to find their similarity to existing users to recommend them movies. With more ratings, comes greater accuracy."
      ],
      "metadata": {
        "id": "fYfXiDXLsOpO"
      }
    },
    {
      "cell_type": "code",
      "source": [
        "numpy_matrix = np.zeros((num_users, num_movies))\n",
        "print(numpy_matrix)\n",
        "print(numpy_matrix.shape)"
      ],
      "metadata": {
        "colab": {
          "base_uri": "https://localhost:8080/"
        },
        "id": "oZBQruTBddqK",
        "outputId": "9b332ab5-3bac-4942-f5d0-6a5075e30381"
      },
      "execution_count": 7,
      "outputs": [
        {
          "output_type": "stream",
          "name": "stdout",
          "text": [
            "[[0. 0. 0. ... 0. 0. 0.]\n",
            " [0. 0. 0. ... 0. 0. 0.]\n",
            " [0. 0. 0. ... 0. 0. 0.]\n",
            " ...\n",
            " [0. 0. 0. ... 0. 0. 0.]\n",
            " [0. 0. 0. ... 0. 0. 0.]\n",
            " [0. 0. 0. ... 0. 0. 0.]]\n",
            "(162541, 59047)\n"
          ]
        }
      ]
    },
    {
      "cell_type": "markdown",
      "source": [
        "In order to map IDs of movies and users to the 2D matrix for collaborative filtering, we will use dictionaries to create key-value pairs between ID and index within the matrix."
      ],
      "metadata": {
        "id": "0NWMoOVuHJbU"
      }
    },
    {
      "cell_type": "code",
      "source": [
        "user_id_map = {}\n",
        "movie_id_map = {}\n",
        "user_index = 0\n",
        "movie_index = 0\n",
        "\n",
        "# Create user_id and movie_id to 2D matrix indices\n",
        "for user in ratings_df[\"userId\"]:\n",
        "  if user not in user_id_map:\n",
        "    user_id_map[user] = user_index\n",
        "    user_index += 1\n",
        "\n",
        "for movie in ratings_df[\"movieId\"]:\n",
        "  if movie not in movie_id_map:\n",
        "    movie_id_map[movie] = movie_index\n",
        "    movie_index += 1"
      ],
      "metadata": {
        "id": "Hkh0j1qPvVhT"
      },
      "execution_count": 39,
      "outputs": []
    },
    {
      "cell_type": "code",
      "source": [
        "from IPython.display import clear_output\n",
        "\n",
        "iter = 0\n",
        "percent_done = 0\n",
        "total_rows = len(ratings_df)\n",
        "# Iterate over the rows of the DataFrame\n",
        "for index, row in ratings_df.iterrows():\n",
        "    user_index = user_id_map[row[\"userId\"]]\n",
        "    movie_index = movie_id_map[row[\"movieId\"]]\n",
        "    numpy_matrix[user_index, movie_index] = row[\"rating\"]\n",
        "    if iter % int(total_rows / 100) == 0:\n",
        "      clear_output(wait=True)\n",
        "      print(f\"Percent of matrix populated with ratings: {percent_done}%\")\n",
        "      percent_done += 1\n",
        "    iter += 1"
      ],
      "metadata": {
        "colab": {
          "base_uri": "https://localhost:8080/"
        },
        "id": "zexX8aolyMeE",
        "outputId": "e342e5d9-19ab-4549-d424-83f93b652d7e"
      },
      "execution_count": 45,
      "outputs": [
        {
          "output_type": "stream",
          "name": "stdout",
          "text": [
            "Percent of matrix populated with ratings: 100%\n"
          ]
        }
      ]
    },
    {
      "cell_type": "code",
      "source": [
        "ratings_dataframe = pd.DataFrame(numpy_matrix)\n",
        "print(ratings_dataframe.head())"
      ],
      "metadata": {
        "colab": {
          "base_uri": "https://localhost:8080/"
        },
        "id": "KIgSo8-gLyAY",
        "outputId": "5ac517ec-a27c-4ebb-b25b-44c17a1b42dd"
      },
      "execution_count": 46,
      "outputs": [
        {
          "output_type": "stream",
          "name": "stdout",
          "text": [
            "   0      1      2      3      4      5      6      7      8      9      ...  \\\n",
            "0    5.0    3.5    5.0    5.0    3.5    4.0    3.5    3.5    5.0    4.0  ...   \n",
            "1    0.0    0.0    0.0    0.0    0.0    0.0    0.0    0.0    0.0    0.0  ...   \n",
            "2    5.0    0.0    0.0    0.0    0.0    0.0    0.0    5.0    0.0    0.0  ...   \n",
            "3    4.0    0.0    0.0    0.0    0.0    0.0    0.0    0.0    0.0    0.0  ...   \n",
            "4    4.0    0.0    0.0    0.0    0.0    0.0    0.0    0.0    0.0    0.0  ...   \n",
            "\n",
            "   59037  59038  59039  59040  59041  59042  59043  59044  59045  59046  \n",
            "0    0.0    0.0    0.0    0.0    0.0    0.0    0.0    0.0    0.0    0.0  \n",
            "1    0.0    0.0    0.0    0.0    0.0    0.0    0.0    0.0    0.0    0.0  \n",
            "2    0.0    0.0    0.0    0.0    0.0    0.0    0.0    0.0    0.0    0.0  \n",
            "3    0.0    0.0    0.0    0.0    0.0    0.0    0.0    0.0    0.0    0.0  \n",
            "4    0.0    0.0    0.0    0.0    0.0    0.0    0.0    0.0    0.0    0.0  \n",
            "\n",
            "[5 rows x 59047 columns]\n"
          ]
        }
      ]
    },
    {
      "cell_type": "code",
      "source": [
        "# Comparing the dataframe ratings to the original Kaggle dataset\n",
        "print(f\"Original Rating: 4.0 Found Rating: {ratings_dataframe.loc[user_id_map[1], movie_id_map[8786]]}\")\n",
        "print(f\"Original Rating: 2.0 Found Rating: {ratings_dataframe.loc[user_id_map[2], movie_id_map[480]]}\")\n",
        "print(f\"Original Rating: 3.5 Found Rating: {ratings_dataframe.loc[user_id_map[3], movie_id_map[1270]]}\")"
      ],
      "metadata": {
        "colab": {
          "base_uri": "https://localhost:8080/"
        },
        "id": "QhE8yl1AedIi",
        "outputId": "1ee9eea8-f33a-48a7-bf3f-1e12c3d545b9"
      },
      "execution_count": 51,
      "outputs": [
        {
          "output_type": "stream",
          "name": "stdout",
          "text": [
            "Original Rating: 3.5 Found Rating: 4.0\n",
            "Original Rating: 2.0 Found Rating: 2.0\n",
            "Original Rating: 3.5 Found Rating: 3.5\n"
          ]
        }
      ]
    },
    {
      "cell_type": "code",
      "source": [
        "print(ratings_dataframe.shape)"
      ],
      "metadata": {
        "colab": {
          "base_uri": "https://localhost:8080/"
        },
        "id": "U9Q3wmWtn9Bp",
        "outputId": "55eb92dd-a666-4d32-ad93-6d7a2cfff400"
      },
      "execution_count": 52,
      "outputs": [
        {
          "output_type": "stream",
          "name": "stdout",
          "text": [
            "(162541, 59047)\n"
          ]
        }
      ]
    },
    {
      "cell_type": "code",
      "source": [],
      "metadata": {
        "id": "lECsL1DKqOtD"
      },
      "execution_count": null,
      "outputs": []
    }
  ]
}