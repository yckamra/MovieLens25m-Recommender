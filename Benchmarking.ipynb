{
  "nbformat": 4,
  "nbformat_minor": 0,
  "metadata": {
    "colab": {
      "provenance": [],
      "authorship_tag": "ABX9TyNMLDdl8WaHbofxDdyREmr8",
      "include_colab_link": true
    },
    "kernelspec": {
      "name": "python3",
      "display_name": "Python 3"
    },
    "language_info": {
      "name": "python"
    }
  },
  "cells": [
    {
      "cell_type": "markdown",
      "metadata": {
        "id": "view-in-github",
        "colab_type": "text"
      },
      "source": [
        "<a href=\"https://colab.research.google.com/github/yckamra/MovieLens25m-Recommender/blob/main/Benchmarking.ipynb\" target=\"_parent\"><img src=\"https://colab.research.google.com/assets/colab-badge.svg\" alt=\"Open In Colab\"/></a>"
      ]
    },
    {
      "cell_type": "code",
      "execution_count": 8,
      "metadata": {
        "id": "acLG-ldL0UVM"
      },
      "outputs": [],
      "source": [
        "def precision_k(predictionList, actualList, k):\n",
        "\n",
        "  predictionDict = dict.fromkeys(predictionList) # Remove duplicates in predictionList without losing order\n",
        "  noDupesPredictionList = list(predictionDict.keys())[:k] # Create list minus the duplicates\n",
        "\n",
        "  actualDict = dict.fromkeys(actualList) # Remove duplicates in actualList without losing order\n",
        "  noDupesActualList = list(actualDict.keys()) # Create list minus the duplicates\n",
        "\n",
        "  # Resolves division by zero\n",
        "  if k <= 0:\n",
        "    return 0\n",
        "\n",
        "  collision_map = {}\n",
        "  similar_movies = 0\n",
        "\n",
        "  for movie in noDupesPredictionList: # Puts all movie predictions in a dictionary\n",
        "    if movie not in collision_map:\n",
        "      collision_map[movie] = movie\n",
        "\n",
        "  for movie in noDupesActualList:\n",
        "    if movie in collision_map:\n",
        "      similar_movies += 1 # Increments movies in both lists when there is a collision\n",
        "\n",
        "  precision_k = similar_movies / k\n",
        "\n",
        "  return precision_k"
      ]
    },
    {
      "cell_type": "code",
      "source": [
        "def recall_k(predictionList, actualList, k):\n",
        "\n",
        "  predictionDict = dict.fromkeys(predictionList) # Remove duplicates in predictionList without losing order\n",
        "  noDupesPredictionList = list(predictionDict.keys())[:k] # Create list minus the duplicates\n",
        "\n",
        "  actualDict = dict.fromkeys(actualList) # Remove duplicates in actualList without losing order\n",
        "  noDupesActualList = list(actualDict.keys()) # Create list minus the duplicates\n",
        "\n",
        "  # Resolves division by zero\n",
        "  if len(noDupesActualList) == 0:\n",
        "    return 0\n",
        "\n",
        "  collision_map = {}\n",
        "  similar_movies = 0\n",
        "\n",
        "  for movie in noDupesPredictionList: # Puts all movie predictions in a dictionary\n",
        "    if movie not in collision_map:\n",
        "      collision_map[movie] = movie\n",
        "\n",
        "  for movie in noDupesActualList:\n",
        "    if movie in collision_map:\n",
        "      similar_movies += 1 # Increments movies in both lists when there is a collision\n",
        "\n",
        "  recall_k = similar_movies / len(noDupesActualList)\n",
        "\n",
        "  return recall_k"
      ],
      "metadata": {
        "id": "8iWm7K-7E0kz"
      },
      "execution_count": null,
      "outputs": []
    },
    {
      "cell_type": "code",
      "source": [
        "def f1_k(predictionList, actualList, k):\n",
        "\n",
        "  precision = precision_k(predictionList, actualList, k)\n",
        "  recall = recall_k(predictionList, actualList, k)\n",
        "  f1_score = 2 * ((precision * recall) / (precision + recall))\n",
        "\n",
        "  return f1_score"
      ],
      "metadata": {
        "id": "v8r9XiprU32R"
      },
      "execution_count": null,
      "outputs": []
    },
    {
      "cell_type": "code",
      "source": [
        "def NDCG_k(predictionList, actualList, k): # Normalized Discounted Cumulative Gain\n",
        "\n",
        "  return"
      ],
      "metadata": {
        "id": "TU74cyHudgML"
      },
      "execution_count": null,
      "outputs": []
    },
    {
      "cell_type": "code",
      "source": [
        "def contains_relevant_item(predictionList, actualList, k):\n",
        "  predictionDict = dict.fromkeys(predictionList) # Remove duplicates in predictionList without losing order\n",
        "  noDupesPredictionList = list(predictionDict.keys())[:k] # Create list minus the duplicates\n",
        "\n",
        "  actualDict = dict.fromkeys(actualList) # Remove duplicates in actualList without losing order\n",
        "  noDupesActualList = list(actualDict.keys()) # Create list minus the duplicates\n",
        "\n",
        "  collision_map = {}\n",
        "\n",
        "  for movie in noDupesPredictionList: # Puts all movie predictions in a dictionary\n",
        "    if movie not in collision_map:\n",
        "      collision_map[movie] = movie\n",
        "\n",
        "  for movie in noDupesActualList:\n",
        "    if movie in collision_map:\n",
        "      return True\n",
        "\n",
        "  return False"
      ],
      "metadata": {
        "id": "YZmvnX9enyCh"
      },
      "execution_count": null,
      "outputs": []
    },
    {
      "cell_type": "code",
      "source": [
        "def mean_precision_k(allUsers, allPredictions, k): # allUsers is a dictionary with (userId, userObject) key-value pairs and allPredictions is a dictionary with (userId, predictionList)\n",
        "  total_users = 0\n",
        "  sum_of_precisions = 0\n",
        "\n",
        "  for user in allUsers: # user is a userID so we can use it for both allUsers and allPredictions\n",
        "    total_users += 1\n",
        "    sum_of_precisions += precision_k(allPredictions[user], allUsers[user].movies, k)\n",
        "\n",
        "  if total_users == 0:\n",
        "    return 0\n",
        "\n",
        "  mean_precision = sum_of_precisions / total_users\n",
        "\n",
        "  return mean_precision"
      ],
      "metadata": {
        "id": "6lLytxtUc8O5"
      },
      "execution_count": null,
      "outputs": []
    },
    {
      "cell_type": "code",
      "source": [
        "def mean_recall_k(allUsers, allPredictions, k): # allUsers is a dictionary with (userId, userObject) key-value pairs\n",
        "  total_users = 0\n",
        "  sum_of_recalls = 0\n",
        "\n",
        "  for user in allUsers:\n",
        "    total_users += 1\n",
        "    sum_of_recalls += recall_k(allPredictions[user], allUsers[user].movies, k)\n",
        "\n",
        "  if total_users == 0:\n",
        "    return 0\n",
        "\n",
        "  mean_recall = sum_of_recalls / total_users\n",
        "\n",
        "  return mean_recall"
      ],
      "metadata": {
        "id": "7lpEo1hvdAxK"
      },
      "execution_count": null,
      "outputs": []
    },
    {
      "cell_type": "code",
      "source": [
        "def mean_f1_k(allUsers, allPredictions, k): # allUsers is a dictionary with (userId, userObject) key-value pairs\n",
        "  total_users = 0\n",
        "  sum_of_f1 = 0\n",
        "\n",
        "  for user in allUsers:\n",
        "    total_users += 1\n",
        "    sum_of_f1 += f1_k(allPredictions[user], allUsers[user].movies, k)\n",
        "\n",
        "  if total_users == 0:\n",
        "    return 0\n",
        "\n",
        "  mean_f1 = sum_of_f1 / total_users\n",
        "\n",
        "  return mean_f1"
      ],
      "metadata": {
        "id": "a7DS27ZTdEJC"
      },
      "execution_count": null,
      "outputs": []
    },
    {
      "cell_type": "code",
      "source": [
        "def mean_NDCG_k(allUsers, allPredictions, k): # allUsers is a dictionary with (userId, userObject) key-value pairs\n",
        "  return"
      ],
      "metadata": {
        "id": "MAnMJg_XezNy"
      },
      "execution_count": null,
      "outputs": []
    },
    {
      "cell_type": "code",
      "source": [
        "def total_hit_rate(allUsers, allPredictions, k): # allUsers is a dictionary with (userId, userObject) key-value pairs\n",
        "  hit_rate = 0\n",
        "  num_users = 0\n",
        "\n",
        "  for user in allUsers:\n",
        "    if contains_relevant_item(allPredictions[user], allUsers[user].movies, k):\n",
        "      hit_rate += 1\n",
        "    num_users += 1\n",
        "\n",
        "  return hit_rate, num_users"
      ],
      "metadata": {
        "id": "lK4pVo4Ae4Hv"
      },
      "execution_count": null,
      "outputs": []
    },
    {
      "cell_type": "code",
      "source": [
        "def evaluate_model(allUsers, allPredictions, k): # allUsers is a dictionary with (userId, userObject) key-value pairs and predictions is a 2D matrix\n",
        "\n",
        "  precision = mean_precision_k(allUsers, allPredictions, k)\n",
        "  recall = mean_recall_k(allUsers, allPredictions, k)\n",
        "  f1 = mean_f1_k(allUsers, allPredictions, k)\n",
        "  NDCG = mean_NDCG_k(allUsers, allPredictions, k)\n",
        "  hit_rate, num_users = total_hit_rate(allUsers, allPredictions, k)\n",
        "\n",
        "  return precision, recall, f1, NDCG, hit_rate, num_users"
      ],
      "metadata": {
        "id": "xnQ8I88RZRnf"
      },
      "execution_count": null,
      "outputs": []
    }
  ]
}