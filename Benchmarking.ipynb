{
  "nbformat": 4,
  "nbformat_minor": 0,
  "metadata": {
    "colab": {
      "provenance": [],
      "authorship_tag": "ABX9TyN4KJLQDyGWw1uTGjvf9hZN",
      "include_colab_link": true
    },
    "kernelspec": {
      "name": "python3",
      "display_name": "Python 3"
    },
    "language_info": {
      "name": "python"
    }
  },
  "cells": [
    {
      "cell_type": "markdown",
      "metadata": {
        "id": "view-in-github",
        "colab_type": "text"
      },
      "source": [
        "<a href=\"https://colab.research.google.com/github/yckamra/MovieLens25m-Recommender/blob/main/Benchmarking.ipynb\" target=\"_parent\"><img src=\"https://colab.research.google.com/assets/colab-badge.svg\" alt=\"Open In Colab\"/></a>"
      ]
    },
    {
      "cell_type": "code",
      "source": [
        "print(\"Installing project dependencies...\")\n",
        "!pip install numpy pandas scipy scikit-learn # Basic libraries we want\n",
        "!pip install implicit # Installs implicit library for matrix factorization\n",
        "#!pip install torch\n",
        "print(\"Dependencies installed successfully.\")"
      ],
      "metadata": {
        "colab": {
          "base_uri": "https://localhost:8080/"
        },
        "id": "nlQ1ijn5RAsE",
        "outputId": "9dec9ba6-951b-4bbe-fc1a-35180a50f330"
      },
      "execution_count": 1,
      "outputs": [
        {
          "output_type": "stream",
          "name": "stdout",
          "text": [
            "Installing project dependencies...\n",
            "Requirement already satisfied: numpy in /usr/local/lib/python3.11/dist-packages (2.0.2)\n",
            "Requirement already satisfied: pandas in /usr/local/lib/python3.11/dist-packages (2.2.2)\n",
            "Requirement already satisfied: scipy in /usr/local/lib/python3.11/dist-packages (1.15.3)\n",
            "Requirement already satisfied: scikit-learn in /usr/local/lib/python3.11/dist-packages (1.6.1)\n",
            "Requirement already satisfied: python-dateutil>=2.8.2 in /usr/local/lib/python3.11/dist-packages (from pandas) (2.9.0.post0)\n",
            "Requirement already satisfied: pytz>=2020.1 in /usr/local/lib/python3.11/dist-packages (from pandas) (2025.2)\n",
            "Requirement already satisfied: tzdata>=2022.7 in /usr/local/lib/python3.11/dist-packages (from pandas) (2025.2)\n",
            "Requirement already satisfied: joblib>=1.2.0 in /usr/local/lib/python3.11/dist-packages (from scikit-learn) (1.5.1)\n",
            "Requirement already satisfied: threadpoolctl>=3.1.0 in /usr/local/lib/python3.11/dist-packages (from scikit-learn) (3.6.0)\n",
            "Requirement already satisfied: six>=1.5 in /usr/local/lib/python3.11/dist-packages (from python-dateutil>=2.8.2->pandas) (1.17.0)\n",
            "Collecting implicit\n",
            "  Downloading implicit-0.7.2-cp311-cp311-manylinux2014_x86_64.whl.metadata (6.1 kB)\n",
            "Requirement already satisfied: numpy>=1.17.0 in /usr/local/lib/python3.11/dist-packages (from implicit) (2.0.2)\n",
            "Requirement already satisfied: scipy>=0.16 in /usr/local/lib/python3.11/dist-packages (from implicit) (1.15.3)\n",
            "Requirement already satisfied: tqdm>=4.27 in /usr/local/lib/python3.11/dist-packages (from implicit) (4.67.1)\n",
            "Requirement already satisfied: threadpoolctl in /usr/local/lib/python3.11/dist-packages (from implicit) (3.6.0)\n",
            "Downloading implicit-0.7.2-cp311-cp311-manylinux2014_x86_64.whl (8.9 MB)\n",
            "\u001b[2K   \u001b[90m━━━━━━━━━━━━━━━━━━━━━━━━━━━━━━━━━━━━━━━━\u001b[0m \u001b[32m8.9/8.9 MB\u001b[0m \u001b[31m52.3 MB/s\u001b[0m eta \u001b[36m0:00:00\u001b[0m\n",
            "\u001b[?25hInstalling collected packages: implicit\n",
            "Successfully installed implicit-0.7.2\n",
            "Dependencies installed successfully.\n"
          ]
        }
      ]
    },
    {
      "cell_type": "code",
      "source": [
        "import math\n",
        "from google.colab import auth\n",
        "from google.cloud import storage\n",
        "import zipfile\n",
        "import os\n",
        "import pickle\n",
        "import pandas as pd\n",
        "import numpy as np\n",
        "import implicit\n",
        "import json"
      ],
      "metadata": {
        "id": "-stzoukYrlH2"
      },
      "execution_count": 2,
      "outputs": []
    },
    {
      "cell_type": "code",
      "execution_count": 3,
      "metadata": {
        "id": "acLG-ldL0UVM"
      },
      "outputs": [],
      "source": [
        "def precision_k(predictionList, actualList, k): # predictionList and actualList is List of movieIds\n",
        "\n",
        "  predictionDict = dict.fromkeys(predictionList) # Remove duplicates in predictionList without losing order\n",
        "  noDupesPredictionList = list(predictionDict.keys())[:k] # Create list minus the duplicates\n",
        "\n",
        "  actualDict = dict.fromkeys(actualList) # Remove duplicates in actualList without losing order\n",
        "  noDupesActualList = list(actualDict.keys()) # Create list minus the duplicates\n",
        "\n",
        "  # Resolves division by zero\n",
        "  if k <= 0:\n",
        "    return 0\n",
        "\n",
        "  collision_map = {}\n",
        "  similar_movies = 0\n",
        "\n",
        "  for movie in noDupesPredictionList: # Puts all movie predictions in a dictionary\n",
        "    if movie not in collision_map:\n",
        "      collision_map[movie] = movie\n",
        "\n",
        "  for movie in noDupesActualList:\n",
        "    if movie in collision_map:\n",
        "      similar_movies += 1 # Increments movies in both lists when there is a collision\n",
        "\n",
        "  precision_k = similar_movies / k\n",
        "\n",
        "  return precision_k"
      ]
    },
    {
      "cell_type": "code",
      "source": [
        "def recall_k(predictionList, actualList, k):\n",
        "\n",
        "  predictionDict = dict.fromkeys(predictionList) # Remove duplicates in predictionList without losing order\n",
        "  noDupesPredictionList = list(predictionDict.keys())[:k] # Create list minus the duplicates\n",
        "\n",
        "  actualDict = dict.fromkeys(actualList) # Remove duplicates in actualList without losing order\n",
        "  noDupesActualList = list(actualDict.keys()) # Create list minus the duplicates\n",
        "\n",
        "  # Resolves division by zero\n",
        "  if len(noDupesActualList) == 0:\n",
        "    return 0\n",
        "\n",
        "  collision_map = {}\n",
        "  similar_movies = 0\n",
        "\n",
        "  for movie in noDupesPredictionList: # Puts all movie predictions in a dictionary\n",
        "    if movie not in collision_map:\n",
        "      collision_map[movie] = movie\n",
        "\n",
        "  for movie in noDupesActualList:\n",
        "    if movie in collision_map:\n",
        "      similar_movies += 1 # Increments movies in both lists when there is a collision\n",
        "\n",
        "  recall_k = similar_movies / len(noDupesActualList)\n",
        "\n",
        "  return recall_k"
      ],
      "metadata": {
        "id": "8iWm7K-7E0kz"
      },
      "execution_count": 4,
      "outputs": []
    },
    {
      "cell_type": "code",
      "source": [
        "def f1_k(predictionList, actualList, k):\n",
        "\n",
        "  precision = precision_k(predictionList, actualList, k)\n",
        "  recall = recall_k(predictionList, actualList, k)\n",
        "  f1_score = 2 * ((precision * recall) / (precision + recall))\n",
        "\n",
        "  return f1_score"
      ],
      "metadata": {
        "id": "v8r9XiprU32R"
      },
      "execution_count": 5,
      "outputs": []
    },
    {
      "cell_type": "code",
      "source": [
        "def DCG_k(predictionList, actualList, k): # This form of DCG uses binary relevance (1 if rated and 0 if not), and could use ratings for improved rankings\n",
        "  predictionDict = dict.fromkeys(predictionList) # Remove duplicates in predictionList without losing order\n",
        "  noDupesPredictionList = list(predictionDict.keys())[:k] # Create list minus the duplicates\n",
        "\n",
        "  actualDict = dict.fromkeys(actualList) # Remove duplicates in actualList without losing order\n",
        "  noDupesActualList = list(actualDict.keys()) # Create list minus the duplicates\n",
        "\n",
        "  sum_of_DCG = 0\n",
        "\n",
        "  if k > len(noDupesPredictionList):\n",
        "    k = len(noDupesPredictionList)\n",
        "\n",
        "  for i in range(1,k+1): # If k = 5, then i = 1, 2, 3, 4, 5\n",
        "    index_in_list = i - 1\n",
        "    curr_movie = noDupesPredictionList[index_in_list]\n",
        "    relevance = 0\n",
        "    if curr_movie in noDupesActualList:\n",
        "      relevance = 1\n",
        "    else:\n",
        "      relevance = 0\n",
        "    DCG = relevance / (math.log2(i+1))\n",
        "    sum_of_DCG += DCG\n",
        "\n",
        "  return sum_of_DCG"
      ],
      "metadata": {
        "id": "iHjpBI1tpFcc"
      },
      "execution_count": 6,
      "outputs": []
    },
    {
      "cell_type": "code",
      "source": [
        "def IDCG_k(predictionList, actualList, k):\n",
        "\n",
        "  actualDict = dict.fromkeys(actualList) # Remove duplicates in actualList without losing order\n",
        "  noDupesActualList = list(actualDict.keys()) # Create list minus the duplicates\n",
        "\n",
        "  sum_of_IDCG = 0\n",
        "\n",
        "  if k > len(noDupesActualList):\n",
        "    k = len(noDupesActualList)\n",
        "\n",
        "  for i in range(1,k+1): # If k = 5, then i = 1, 2, 3, 4, 5\n",
        "    index_in_list = i - 1\n",
        "    relevance = 1\n",
        "    IDCG = relevance / (math.log2(i+1))\n",
        "    sum_of_IDCG += IDCG\n",
        "\n",
        "  return sum_of_IDCG"
      ],
      "metadata": {
        "id": "2xlja3E1vF9R"
      },
      "execution_count": 7,
      "outputs": []
    },
    {
      "cell_type": "code",
      "source": [
        "def NDCG_k(predictionList, actualList, k): # Normalized Discounted Cumulative Gain\n",
        "\n",
        "  DCG = DCG_k(predictionList, actualList, k)\n",
        "  IDCG = IDCG_k(predictionList, actualList, k)\n",
        "\n",
        "  if IDCG == 0:\n",
        "    return 0\n",
        "\n",
        "  NDCG = DCG / IDCG\n",
        "\n",
        "  return NDCG"
      ],
      "metadata": {
        "id": "TU74cyHudgML"
      },
      "execution_count": 8,
      "outputs": []
    },
    {
      "cell_type": "code",
      "source": [
        "def contains_relevant_item(predictionList, actualList, k):\n",
        "  predictionDict = dict.fromkeys(predictionList) # Remove duplicates in predictionList without losing order\n",
        "  noDupesPredictionList = list(predictionDict.keys())[:k] # Create list minus the duplicates\n",
        "\n",
        "  actualDict = dict.fromkeys(actualList) # Remove duplicates in actualList without losing order\n",
        "  noDupesActualList = list(actualDict.keys()) # Create list minus the duplicates\n",
        "\n",
        "  collision_map = {}\n",
        "\n",
        "  for movie in noDupesPredictionList: # Puts all movie predictions in a dictionary\n",
        "    if movie not in collision_map:\n",
        "      collision_map[movie] = movie\n",
        "\n",
        "  for movie in noDupesActualList:\n",
        "    if movie in collision_map:\n",
        "      return True\n",
        "\n",
        "  return False"
      ],
      "metadata": {
        "id": "YZmvnX9enyCh"
      },
      "execution_count": 9,
      "outputs": []
    },
    {
      "cell_type": "code",
      "source": [
        "def mean_precision_k(allUsers, allPredictions, k): # allUsers is a dictionary with (userId, userObject) key-value pairs and allPredictions is a dictionary with (userId, predictionList)\n",
        "  total_users = 0\n",
        "  sum_of_precisions = 0\n",
        "\n",
        "  for user in allUsers: # user is a userID so we can use it for both allUsers and allPredictions\n",
        "    total_users += 1\n",
        "    sum_of_precisions += precision_k(allPredictions[user], allUsers[user].movies, k)\n",
        "\n",
        "  if total_users == 0:\n",
        "    return 0\n",
        "\n",
        "  mean_precision = sum_of_precisions / total_users\n",
        "\n",
        "  return mean_precision"
      ],
      "metadata": {
        "id": "6lLytxtUc8O5"
      },
      "execution_count": 10,
      "outputs": []
    },
    {
      "cell_type": "code",
      "source": [
        "def mean_recall_k(allUsers, allPredictions, k): # allUsers is a dictionary with (userId, userObject) key-value pairs\n",
        "  total_users = 0\n",
        "  sum_of_recalls = 0\n",
        "\n",
        "  for user in allUsers:\n",
        "    total_users += 1\n",
        "    sum_of_recalls += recall_k(allPredictions[user], allUsers[user].movies, k)\n",
        "\n",
        "  if total_users == 0:\n",
        "    return 0\n",
        "\n",
        "  mean_recall = sum_of_recalls / total_users\n",
        "\n",
        "  return mean_recall"
      ],
      "metadata": {
        "id": "7lpEo1hvdAxK"
      },
      "execution_count": 11,
      "outputs": []
    },
    {
      "cell_type": "code",
      "source": [
        "def mean_f1_k(allUsers, allPredictions, k): # allUsers is a dictionary with (userId, userObject) key-value pairs\n",
        "  total_users = 0\n",
        "  sum_of_f1 = 0\n",
        "\n",
        "  for user in allUsers:\n",
        "    total_users += 1\n",
        "    sum_of_f1 += f1_k(allPredictions[user], allUsers[user].movies, k)\n",
        "\n",
        "  if total_users == 0:\n",
        "    return 0\n",
        "\n",
        "  mean_f1 = sum_of_f1 / total_users\n",
        "\n",
        "  return mean_f1"
      ],
      "metadata": {
        "id": "a7DS27ZTdEJC"
      },
      "execution_count": 12,
      "outputs": []
    },
    {
      "cell_type": "code",
      "source": [
        "def mean_NDCG_k(allUsers, allPredictions, k): # allUsers is a dictionary with (userId, userObject) key-value pairs\n",
        "  total_users = 0\n",
        "  sum_of_NDCG = 0\n",
        "\n",
        "  for user in allUsers:\n",
        "    total_users += 1\n",
        "    sum_of_NDCG += NDCG_k(allPredictions[user], allUsers[user].movies, k)\n",
        "\n",
        "  if total_users == 0:\n",
        "    return 0\n",
        "\n",
        "  mean_NDCG = sum_of_NDCG / total_users\n",
        "\n",
        "  return mean_NDCG"
      ],
      "metadata": {
        "id": "MAnMJg_XezNy"
      },
      "execution_count": 13,
      "outputs": []
    },
    {
      "cell_type": "code",
      "source": [
        "def total_hit_rate(allUsers, allPredictions, k): # allUsers is a dictionary with (userId, userObject) key-value pairs\n",
        "  hit_rate = 0\n",
        "  num_users = 0\n",
        "\n",
        "  for user in allUsers:\n",
        "    if contains_relevant_item(allPredictions[user], allUsers[user].movies, k):\n",
        "      hit_rate += 1\n",
        "    num_users += 1\n",
        "\n",
        "  return hit_rate, num_users"
      ],
      "metadata": {
        "id": "lK4pVo4Ae4Hv"
      },
      "execution_count": 14,
      "outputs": []
    },
    {
      "cell_type": "code",
      "source": [
        "def evaluate_model(allUsers, allPredictions, k): # allUsers is a dictionary with (userId, userObject) key-value pairs and predictions is a 2D matrix\n",
        "\n",
        "  precision = mean_precision_k(allUsers, allPredictions, k)\n",
        "  recall = mean_recall_k(allUsers, allPredictions, k)\n",
        "  f1 = mean_f1_k(allUsers, allPredictions, k)\n",
        "  NDCG = mean_NDCG_k(allUsers, allPredictions, k)\n",
        "  hit_rate, num_users = total_hit_rate(allUsers, allPredictions, k)\n",
        "\n",
        "  return precision, recall, f1, NDCG, hit_rate, num_users"
      ],
      "metadata": {
        "id": "xnQ8I88RZRnf"
      },
      "execution_count": 15,
      "outputs": []
    },
    {
      "cell_type": "code",
      "source": [
        "auth.authenticate_user()\n",
        "\n",
        "!gcloud config set project movielens-recommender-451017\n",
        "\n",
        "!gsutil cp gs://movielens-data/allMovies_data.pkl /content/\n",
        "!gsutil cp gs://movielens-data/allUsers_data.pkl /content/"
      ],
      "metadata": {
        "colab": {
          "base_uri": "https://localhost:8080/"
        },
        "id": "fyA4kxdA4eh6",
        "outputId": "03ef2799-7376-40d4-d0df-a10f92d9e2bb"
      },
      "execution_count": 16,
      "outputs": [
        {
          "output_type": "stream",
          "name": "stdout",
          "text": [
            "Updated property [core/project].\n",
            "Copying gs://movielens-data/allMovies_data.pkl...\n",
            "/ [1 files][ 19.0 MiB/ 19.0 MiB]                                                \n",
            "Operation completed over 1 objects/19.0 MiB.                                     \n",
            "Copying gs://movielens-data/allUsers_data.pkl...\n",
            "==> NOTE: You are downloading one or more large file(s), which would\n",
            "run significantly faster if you enabled sliced object downloads. This\n",
            "feature is enabled by default but requires that compiled crcmod be\n",
            "installed (see \"gsutil help crcmod\").\n",
            "\n",
            "/ [1 files][995.9 MiB/995.9 MiB]   40.1 MiB/s                                   \n",
            "Operation completed over 1 objects/995.9 MiB.                                    \n"
          ]
        }
      ]
    },
    {
      "cell_type": "code",
      "source": [
        "!ls -lh /content/"
      ],
      "metadata": {
        "colab": {
          "base_uri": "https://localhost:8080/"
        },
        "id": "GlYNhUqrSFbA",
        "outputId": "cb48b0df-b79b-429e-e2b7-2c375b953d8e"
      },
      "execution_count": 17,
      "outputs": [
        {
          "output_type": "stream",
          "name": "stdout",
          "text": [
            "total 1015M\n",
            "-rw-r--r-- 1 root root  19M Jun 17 16:55 allMovies_data.pkl\n",
            "-rw-r--r-- 1 root root 996M Jun 17 16:55 allUsers_data.pkl\n",
            "drwxr-xr-x 1 root root 4.0K Jun 16 13:32 sample_data\n"
          ]
        }
      ]
    },
    {
      "cell_type": "code",
      "source": [
        "class Movie:\n",
        "  # Items in self:\n",
        "  #     ID\n",
        "  #     name\n",
        "  #     genre_list\n",
        "  #     tag_list\n",
        "  #     number_of_ratings -- total amount this movies has been rated\n",
        "  #     sum_of_ratings -- summation of all the ratings from all users for this movie\n",
        "  #     year\n",
        "  #     imdbId\n",
        "  #     tmdbId\n",
        "  #     actors_list\n",
        "  #     tmdb_tag_list\n",
        "\n",
        "  def __init__(self):\n",
        "    self.ID = None\n",
        "    self.title = None\n",
        "    self.genre_list = []\n",
        "    self.tag_list = []\n",
        "    self.number_of_ratings = 0\n",
        "    self.sum_of_ratings = 0\n",
        "    self.year = None\n",
        "    self.imdbId = None\n",
        "    self.tmdbId = None\n",
        "    self.actors_list = []\n",
        "    self.tmdb_tag_list = []\n",
        "\n",
        "  def set_tmdb_tag_list(self, tags):\n",
        "    self.tmdb_tag_list = tags\n",
        "\n",
        "  def add_to_tmdb_tag_list(self, tags):\n",
        "    self.tmdb_tag_list = self.tmdb_tag_list + tags\n",
        "\n",
        "  def get_tmdb_tag_list(self):\n",
        "    return self.tmdb_tag_list\n",
        "\n",
        "  def set_actors_list(self, actors_list):\n",
        "    self.actors_list = actors_list\n",
        "\n",
        "  def add_actor_to_actors_list(self, actor):\n",
        "    self.actors_list.append(actor)\n",
        "\n",
        "  def get_actors_list(self):\n",
        "    return self.actors_list\n",
        "\n",
        "  def set_imdbId(self, imbdId):\n",
        "    self.imbdId = imbdId\n",
        "\n",
        "  def get_imdbId(self):\n",
        "    return self.imdbId\n",
        "\n",
        "  def set_tmdbId(self, tmdbId):\n",
        "    self.tmdbId = tmdbId\n",
        "\n",
        "  def get_tmdbId(self):\n",
        "    return self.tmdbId\n",
        "\n",
        "  def set_year(self, year):\n",
        "    self.year = year\n",
        "\n",
        "  def get_year(self):\n",
        "    return self.year\n",
        "\n",
        "  def get_tag_list(self):\n",
        "    return self.tag_list\n",
        "\n",
        "  def add_tag_to_tag_list(self, tag):\n",
        "    self.tag_list.append(tag)\n",
        "\n",
        "  def get_ID(self):\n",
        "    return self.ID\n",
        "\n",
        "  def set_ID(self, ID):\n",
        "    self.ID = ID\n",
        "\n",
        "  def set_title(self, title):\n",
        "    self.title = title\n",
        "\n",
        "  def get_title(self):\n",
        "    return self.title\n",
        "\n",
        "  def set_genre_list(self, genre_list):\n",
        "    self.genre_list = genre_list\n",
        "\n",
        "  def add_genre_to_genre_list(self, genre):\n",
        "    self.genre_list.append(genre)\n",
        "\n",
        "  def get_genre_list(self):\n",
        "    return self.genre_list\n",
        "\n",
        "  def get_number_of_ratings(self):\n",
        "    return self.number_of_ratings\n",
        "\n",
        "  def set_number_of_ratings(self, number):\n",
        "    self.number_of_ratings = number\n",
        "\n",
        "  def add_to_number_of_ratings(self):\n",
        "    self.number_of_ratings += 1\n",
        "\n",
        "  def get_sum_of_ratings(self):\n",
        "    return self.sum_of_ratings\n",
        "\n",
        "  def set_sum_of_ratings(self, number):\n",
        "    self.sum_of_ratings = number\n",
        "\n",
        "  def add_rating_to_sum_of_ratings(self, rating):\n",
        "    self.sum_of_ratings += rating\n",
        "\n",
        "  def calculate_average_rating(self):\n",
        "    if self.number_of_ratings == 0:\n",
        "      return 0\n",
        "    else:\n",
        "      return self.sum_of_ratings / self.number_of_ratings"
      ],
      "metadata": {
        "id": "Ko99HVM4SrlH"
      },
      "execution_count": 18,
      "outputs": []
    },
    {
      "cell_type": "code",
      "source": [
        "class User:\n",
        "  # ---Items in self---\n",
        "  # userId : ID in MovieLens 25m dataset\n",
        "  # ratings_df : pandas dataframe containing the users rows within the MovieLens 25m ratings.csv\n",
        "\n",
        "  def __init__(self, userID=None, ratings_df=None):\n",
        "    self.userID = userID\n",
        "    self.ratings_df = ratings_df if ratings_df is not None else pd.DataFrame()\n",
        "\n",
        "  def get_userID(self):\n",
        "    return self.userID\n",
        "\n",
        "  def set_userID(self, ID : int):\n",
        "    assert isinstance(ID, int), \"ID must be an integer\"\n",
        "    self.userID = int(ID)\n",
        "\n",
        "  def add_row_to_ratings_df(self, row):\n",
        "\n",
        "    if row[\"movieId\"] in self.ratings_df[\"movieId\"].values:\n",
        "      return False\n",
        "    else:\n",
        "      self.ratings_df = pd.concat([self.ratings_df, pd.DataFrame([row])], ignore_index=True)\n",
        "\n",
        "    return"
      ],
      "metadata": {
        "id": "2DsbF9b10Whi"
      },
      "execution_count": 19,
      "outputs": []
    },
    {
      "cell_type": "code",
      "source": [
        "# Loading pickle file\n",
        "file_path = '/content/allMovies_data.pkl'\n",
        "with open(file_path, 'rb') as f: # 'rb' means read in binary mode\n",
        "    allMovies = pickle.load(f)\n",
        "print(f\"\\nMovie dictionary loaded from {file_path}\")"
      ],
      "metadata": {
        "colab": {
          "base_uri": "https://localhost:8080/"
        },
        "id": "tiGCte13SVZ4",
        "outputId": "2d164f30-34ec-44ea-a0e4-93b0deda3275"
      },
      "execution_count": 20,
      "outputs": [
        {
          "output_type": "stream",
          "name": "stdout",
          "text": [
            "\n",
            "Movie dictionary loaded from /content/allMovies_data.pkl\n"
          ]
        }
      ]
    },
    {
      "cell_type": "code",
      "source": [
        "# Verify loaded data\n",
        "print(f\"Loaded movie '1' title: {allMovies[1].get_title()}\")\n",
        "print(f\"Loaded movie '1' genre list: {allMovies[1].get_genre_list()}\")\n",
        "print(f\"Loaded movie '1' tags: {allMovies[1].get_tag_list()}\")"
      ],
      "metadata": {
        "colab": {
          "base_uri": "https://localhost:8080/"
        },
        "id": "nhq-BK-KSxQ4",
        "outputId": "4347452b-bffc-4b02-e6e9-564c63d52eea"
      },
      "execution_count": 21,
      "outputs": [
        {
          "output_type": "stream",
          "name": "stdout",
          "text": [
            "Loaded movie '1' title: Toy Story (1995)\n",
            "Loaded movie '1' genre list: ['Adventure', 'Animation', 'Children', 'Comedy', 'Fantasy']\n",
            "Loaded movie '1' tags: ['Owned', 'imdb top 250', 'Pixar', 'Pixar', 'time travel', 'children', 'comedy', 'funny', 'witty', 'rated-G', 'animation', 'Pixar', 'computer animation', 'good cartoon chindren', 'pixar', 'friendship', 'bright', 'DARING RESCUES', 'fanciful', 'HEROIC MISSION', 'humorous', 'light', 'rousing', 'TOYS COME TO LIFE', 'UNLIKELY FRIENDSHIPS', 'warm', 'witty', 'animation', 'Disney', 'friendship', 'pixar', 'boy', 'boy next door', 'bullying', 'friends', 'friendship', 'jealousy', 'martial arts', 'mission', 'neighborhood', 'new toy', 'pixar', 'rescue', 'resourcefulness', 'rivalry', 'toy', 'toy comes to life', 'walkie talkie', 'clever', 'animation', 'clever', 'friendship', 'funny', 'Tom Hanks', 'witty', 'pixar', 'Pixar', 'toys', 'animation', 'fun', 'children', 'pixar', 'Tom Hanks', 'dolls', 'National Film Registry', 'adventure', 'animated', 'animation', 'cgi', 'comedy', 'Disney', 'family', 'fantasy', 'friendship', 'imdb top 250', 'Pixar', 'Tom Hanks', 'witty', 'classic', 'pixar', 'witty', 'Pixar', 'funny', 'animated', 'comedy', 'Disney', 'fun', 'funny', 'pixar', 'animated', 'animation', 'children', 'comedy', 'fantasy', 'funny', 'humorous', 'Pixar', 'time travel', 'Pixar', 'Pixar', 'Tom Hanks', 'animation', 'fun', 'animation', 'cgi', 'family', 'animation', 'Pixar', 'Watched', 'Pixar', 'witty', 'animation', 'animation', 'classic', 'clever', 'comedy', 'computer animation', 'Disney', 'friendship', 'funny', 'pixar', 'witty', 'action figure', 'action figures', 'Buzz Lightyear', 'CG animation', 'toy', 'toys', 'Woody', 'Disney', 'animation', 'Disney', 'Pixar', 'animation', 'family', 'Tom Hanks', 'Pixar', 'Disney', 'friendship', 'nostalgic', 'computer animation', 'Disney', 'fantasy', 'Pixar', 'toys', 'witty', 'Tim Allen', 'time travel', 'children', 'Disney', 'pixar', 'childish', 'animation', 'Disney', 'friendship', 'imdb top 250', 'Pixar', 'witty', 'animation', 'Pixar', 'animation', 'friendship', 'toys', 'pixar', 'buddy movie', 'Tom Hanks', 'witty', 'animation', 'children', 'toys', 'animation', 'comedy', 'funny', 'imdb top 250', 'Pixar', 'adventure', 'children', 'family', 'funny', '3D', 'adventure', 'children', 'classic', 'computer animation', 'Disney', 'funny', 'Pixar', 'Tim Allen', 'Tom Hanks', 'computer animation', 'ya boy', 'clever', 'pixar', 'animation', 'Pixar', 'adventure', 'buddy movie', 'computer animation', 'friendship', 'Tom Hanks', 'adventure', 'animation', 'computer animation', 'funny', 'witty', 'animation', 'Pixar', 'animated', 'cgi', 'comedy', 'cute', 'funny', 'story', 'voice acting', 'witty', 'Pixar', 'funny', 'Pixar', 'CGI', 'classic', 'disney', 'pixar', 'toys played', 'adventure', 'animation', 'buddy movie', 'clever', 'comedy', 'cowboy', 'dinosaur', 'dolls', 'friendship', 'funny', 'pixar', 'Tim Allen', 'Tom Hanks', 'toys', 'UNLIKELY FRIENDSHIPS', 'witty', 'animation', 'imdb top 250', 'pixar', 'computer animation', 'funny', 'humorous', 'Pixar', 'Tom Hanks', 'witty', 'animation', 'humorous', 'Pixar', 'time travel', 'animation', 'clever', 'comedy', 'funny', 'humorous', 'Pixar', 'witty', 'animation', 'Disney', 'pixar', 'computer animation', 'Pixar', 'animated', 'animation', 'buddy movie', 'computer animation', 'funny', 'Pixar', 'Tom Hanks', 'adventure', 'computer animation', 'Pixar', 'Pixar', 'animation', 'Pixar', 'friendship', 'pixar', 'toys', 'animated', 'fun family movie', 'pixar', 'clever', 'witty', 'Best of Rotten Tomatoes: All Time', 'John Lasseter', 'the boys', 'pixar', 'soothing', 'animated', 'buddy movie', 'Cartoon', 'cgi', 'comedy', 'computer animation', 'family', 'friendship', 'kids', 'toy', 'toys', 'computer animation', 'Disney animated feature', 'Pixar animation', 'TÃ©a Leoni does not star in this movie', 'Disney', 'Pixar', 'Pixar', 'Pixar animation', 'exciting plot', 'funny lines', 'touching story', 'children', 'computer animation', 'family', 'humorous', 'time travel', 'Tom Hanks', 'witty', '2009 reissue in Stereoscopic 3-D', '55 movies every kid should see--Entertainment Weekly', 'BD-Video', 'CLV', 'DVD-Video', 'Cartoon', 'Disney', 'CGI classic', 'animation', 'Disney', 'family', 'funny', 'rainy day watchlist', 'villian hurts toys', 'Disney', 'Pixar', 'animation', 'Pixar', 'animation', 'disney', 'Pixar', 'family', '3D', 'children', 'animation', 'comedy', 'Disney', 'Pixar', 'Pixar', 'animated', 'animation', 'buddy movie', 'children', 'clever', 'time travel', 'witty', 'animation', 'Cartoon', 'children', 'computer animation', 'kids', 'pixar', 'Tom Hanks', 'animation', 'classic', 'comedy', 'computer animation', 'Disney', 'funny', 'humorous', 'Pixar', 'time travel', 'Tom Hanks', 'witty', 'animation', 'children', 'computer animation', 'kids', 'pixar', 'itaege', 'humorous', 'pixar', 'family film', 'friendship', 'toys', 'computer animation', 'funny', 'Pixar', 'children', 'computer animation', 'family', 'funny', 'Pixar', 'Tom Hanks', 'toys', 'funny', 'Pixar', 'witty', 'animation', 'pixar', 'children', 'Pixar', 'Tom Hanks', 'Tim Allen', 'Tom Hanks', 'Pixar', 'animation', 'children', 'computer animation', 'Disney', 'imdb top 250', 'John Lasseter', 'Pixar', 'Tom Hanks', 'animation', 'cgi', 'comedy', 'computer animation', 'imdb top 250', 'pixar', '3D', 'animated', 'children', 'comedy', 'computer animation', 'Disney', 'family', 'humorous', 'Pixar', 'time travel', 'Tom Hanks', 'animation', 'Pixar', 'animation', 'Disney', 'Pixar', 'toys', 'animation', 'children', 'Disney', 'Pixar', 'animmation', 'friendship', 'funny', 'toy', 'Disney', 'Pixar', 'Tim Allen', 'Tom Hanks', 'cgi', 'children', 'toys', 'animation', 'pixar', 'Tim Allen', 'Tom Hanks', 'animation', 'children', 'comedy', 'classic', 'Tom Hanks', 'animation', 'pixar', 'children', 'adventure', 'animation', 'Disney', 'funny', 'pixar', 'classic', 'Disney', 'friendship', 'pixar', 'animation', 'Disney', 'funny', 'pixar', 'time travel', 'fantasy', 'pixar', 'animation', 'children', 'Disney', 'adventure', 'animated', 'animation', 'classic', 'Disney', 'fantasy', 'Pixar', 'Tom Hanks', 'toys', 'Pixar', 'children', 'computer animation', 'Disney', 'family', 'Pixar', 'avi', 'buy', 'Pixar', 'witty', 'Cartoon', 'animation', 'comedy', 'funny', 'Pixar', 'kids', 'light hearted', 'whimsica', 'great movie', 'kids and family', 'action', 'disney', 'kids', 'Pixar', 'witty', 'animation', 'kids movie', 'computer animation', 'Pixar', 'Pixar', 'Disney', 'favorite', 'Pixar', \"Tumey's To See Again\", \"Tumey's VHS\", 'adventure', 'animation', 'buddy movie', 'Disney', 'friendship', 'pixar', 'Tom Hanks', 'pixar', 'friendship', 'funny', 'pixar', 'Tom Hanks', 'pixar', 'tim allen', 'tom hanks', 'adventure', 'animated', 'animation', 'Cartoon', 'Disney', 'family', 'friendship', 'imdb top 250', 'pixar', 'toy', 'toys', 'toys', 'animation', 'pixar', 'animation', 'family', 'sci-fi', 'Animation', 'Cartoon', 'Pixar', 'adventure', 'animation', 'children', 'comedy', 'want to see again', 'innovative', 'animation', 'family', 'good time', 'Pixar', 'Pixar', 'family', 'friendship', 'pixar', 'unlikely friendships', 'animated', 'imdb top 250', 'Pixar', 'Tom Hanks', 'toys', 'Pixar', 'witty', 'classic', 'Disney', 'animation', 'animation', 'Pixar', 'Tom Hanks', 'Disney', 'funny', 'Pixar', 'time travel', 'toy', 'toys', 'Engaging', 'computer animation', 'Disney', 'humorous', 'Pixar', 'pixar', 'Tom Hanks', 'animation', 'children', 'clever', 'Disney', 'family', 'funny', 'humorous', 'imdb top 250', 'Pixar', 'Pixar animation', 'Tom Hanks', 'animation', 'Disney', 'Want', 'cgi', 'computer animation', 'Tom Hanks', 'é˜®ä¸€é¸£', 'fun', 'adventure', 'animated', 'animation', 'children', 'clever', 'computer animation', 'family', 'friendship', 'funny', 'humorous', 'toys', 'witty', 'animation', 'computer animation', 'pixar', 'toys', 'animation', 'Disney', 'Pixar', 'jealousy', 'pixar', 'first cgi film', 'joss whedon', 'animation', 'Tom Hanks', 'very good', 'pixar', 'animation', 'animated', 'animation', 'children', 'classic', 'clever', 'comedy', 'computer animation', 'Disney', 'friendship', 'funny', 'humorous', 'pixar', 'toys', 'witty', 'imdb top 250', 'witty', 'animation', 'cartoon', 'friendship', 'pixar', 'unny', 'animated', 'animation', 'comedy', 'Disney', 'Pixar', 'adventure', 'animation', 'comedy', 'family', 'fantasy', 'John Lasseter', 'USA', 'classic', 'pixar', 'lots of heart', 'children', 'Disney', 'animation', 'cgi', 'Disney', 'family', 'toys', 'American Animation', 'computer animation', 'pixar', 'Pixar', 'animation']\n"
          ]
        }
      ]
    },
    {
      "cell_type": "code",
      "source": [
        "# Loading pickle file\n",
        "file_path = '/content/allUsers_data.pkl'\n",
        "with open(file_path, 'rb') as f: # 'rb' means read in binary mode\n",
        "    allUsers = pickle.load(f)\n",
        "print(f\"\\nUser dictionary loaded from {file_path}\")"
      ],
      "metadata": {
        "colab": {
          "base_uri": "https://localhost:8080/"
        },
        "id": "aFBOONmd0l6o",
        "outputId": "2ae370ad-b733-4851-8a92-db5cf5f61e88"
      },
      "execution_count": 25,
      "outputs": [
        {
          "output_type": "stream",
          "name": "stdout",
          "text": [
            "\n",
            "User dictionary loaded from /content/allUsers_data.pkl\n"
          ]
        }
      ]
    },
    {
      "cell_type": "code",
      "source": [
        "# Verify loaded data\n",
        "print(f\"Loaded user '1' ratings_df: {allUsers[1].ratings_df.head()}\")"
      ],
      "metadata": {
        "colab": {
          "base_uri": "https://localhost:8080/"
        },
        "id": "3d3m_YP70oGu",
        "outputId": "e8a821ce-9c55-4887-9337-de23808dc4ec"
      },
      "execution_count": 26,
      "outputs": [
        {
          "output_type": "stream",
          "name": "stdout",
          "text": [
            "Loaded movie '1' ratings_df:    userId  movieId  rating   timestamp\n",
            "0       1      296     5.0  1147880044\n",
            "1       1      306     3.5  1147868817\n",
            "2       1      307     5.0  1147868828\n",
            "3       1      665     5.0  1147878820\n",
            "4       1      899     3.5  1147868510\n"
          ]
        }
      ]
    },
    {
      "cell_type": "code",
      "source": [
        "def popularity_based_recommendation(movie_dictionary):\n",
        "  list_of_movies = []\n",
        "  list_of_popularity = []\n",
        "  for key in movie_dictionary:\n",
        "    list_of_movies.append(movie_dictionary[key].get_ID())\n",
        "    list_of_popularity.append(movie_dictionary[key].calculate_average_rating())\n",
        "  combined = zip(list_of_popularity, list_of_movies)\n",
        "  sorted_pairs = sorted(combined, reverse=True)\n",
        "  sorted_popularity, sorted_movies = zip(*sorted_pairs)\n",
        "  return sorted_movies # Returns the movie IDs in descending order (most popular first)\n",
        "\n",
        "def weighted_rating_popularity_based_recommendation(movie_dictionary, threshold): # Weighted Rating: WR = (v/(v+m))R + (m/(v+m))C, threshold should be ratings_df.groupby('movieId').size().quantile(0.80) so higher threshold is typically advised (ie. 20)\n",
        "  number_of_ratings = 0\n",
        "  sum_of_ratings = 0\n",
        "  for key in movie_dictionary:\n",
        "    if movie_dictionary[key].get_number_of_ratings() != 0:\n",
        "      number_of_ratings += movie_dictionary[key].get_number_of_ratings()\n",
        "      sum_of_ratings += movie_dictionary[key].get_sum_of_ratings()\n",
        "\n",
        "  global_mean_rating = sum_of_ratings / number_of_ratings\n",
        "  list_of_movies = []\n",
        "  list_of_weighted_popularity = []\n",
        "\n",
        "  for key in movie_dictionary:\n",
        "    list_of_movies.append(movie_dictionary[key].get_ID()) # Add movie ID to list in order to return back to user\n",
        "    curr_movie_num_ratings = movie_dictionary[key].get_number_of_ratings() # Get the current movie's number of ratings\n",
        "    min_num_of_votes_threshold = threshold # The number of ratings a movie needs to be considered and not just averaged out\n",
        "    curr_movie_average_rating = movie_dictionary[key].calculate_average_rating()\n",
        "    weighted_rating = ((curr_movie_num_ratings / (curr_movie_num_ratings + min_num_of_votes_threshold)) * curr_movie_average_rating) + ((min_num_of_votes_threshold / (curr_movie_num_ratings + min_num_of_votes_threshold)) * global_mean_rating)\n",
        "    list_of_weighted_popularity.append(weighted_rating)\n",
        "\n",
        "  combined = zip(list_of_weighted_popularity, list_of_movies)\n",
        "  sorted_pairs = sorted(combined, reverse=True)\n",
        "  sorted_weighted_popularity, sorted_movies = zip(*sorted_pairs)\n",
        "\n",
        "  return sorted_movies # Returns the movie IDs in descending order (most popular first)"
      ],
      "metadata": {
        "id": "YvRMKpWDohoS"
      },
      "execution_count": null,
      "outputs": []
    },
    {
      "cell_type": "code",
      "source": [
        "print(\"-----Popularity Model-----\")\n",
        "movies_recommended = popularity_based_recommendation(allMovies)\n",
        "sneak_peak_popularity = movies_recommended[:10]\n",
        "for ID in sneak_peak_popularity:\n",
        "  print(f\"title: {allMovies[ID].get_title()}\")\n",
        "  print(f\"number of ratings: {allMovies[ID].get_number_of_ratings()}\")\n",
        "  print(f\"average rating: {allMovies[ID].calculate_average_rating()}\\n\")\n",
        "\n",
        "print(\"-----Weighted Popularity Model-----\")\n",
        "movies_recommended_weighted = weighted_rating_popularity_based_recommendation(allMovies, 20)\n",
        "sneak_peak_weighted_popularity = movies_recommended_weighted[:10]\n",
        "for ID in sneak_peak_weighted_popularity:\n",
        "  print(f\"title: {allMovies[ID].get_title()}\")\n",
        "  print(f\"number of ratings: {allMovies[ID].get_number_of_ratings()}\")\n",
        "  print(f\"average rating: {allMovies[ID].calculate_average_rating()}\\n\")"
      ],
      "metadata": {
        "colab": {
          "base_uri": "https://localhost:8080/"
        },
        "id": "paZ2XOGdoltG",
        "outputId": "3654cf58-afb0-4512-ea25-dbd3e9d33aa9"
      },
      "execution_count": null,
      "outputs": [
        {
          "output_type": "stream",
          "name": "stdout",
          "text": [
            "-----Popularity Model-----\n",
            "title: Santosh Subramaniam (2008)\n",
            "number of ratings: 1\n",
            "average rating: 5.0\n",
            "\n",
            "title: Screen Play (1992)\n",
            "number of ratings: 1\n",
            "average rating: 5.0\n",
            "\n",
            "title: Zana (2019)\n",
            "number of ratings: 1\n",
            "average rating: 5.0\n",
            "\n",
            "title: Punk the Capital: Building a Sound Movement\n",
            "number of ratings: 1\n",
            "average rating: 5.0\n",
            "\n",
            "title: Kaithi (2019)\n",
            "number of ratings: 2\n",
            "average rating: 5.0\n",
            "\n",
            "title: War (2019)\n",
            "number of ratings: 1\n",
            "average rating: 5.0\n",
            "\n",
            "title: Rolli and the Golden Key (2013)\n",
            "number of ratings: 1\n",
            "average rating: 5.0\n",
            "\n",
            "title: The Head (2004)\n",
            "number of ratings: 1\n",
            "average rating: 5.0\n",
            "\n",
            "title: Everything Is Terrible! Presents: The Great Satan (2017)\n",
            "number of ratings: 1\n",
            "average rating: 5.0\n",
            "\n",
            "title: The Fallen of World War II (2015)\n",
            "number of ratings: 1\n",
            "average rating: 5.0\n",
            "\n",
            "-----Weighted Popularity Model-----\n",
            "title: Planet Earth II (2016)\n",
            "number of ratings: 1124\n",
            "average rating: 4.483096085409253\n",
            "\n",
            "title: Planet Earth (2006)\n",
            "number of ratings: 1747\n",
            "average rating: 4.464796794504865\n",
            "\n",
            "title: Shawshank Redemption, The (1994)\n",
            "number of ratings: 81482\n",
            "average rating: 4.413576004516335\n",
            "\n",
            "title: Band of Brothers (2001)\n",
            "number of ratings: 1356\n",
            "average rating: 4.398598820058997\n",
            "\n",
            "title: Godfather, The (1972)\n",
            "number of ratings: 52498\n",
            "average rating: 4.324336165187245\n",
            "\n",
            "title: Usual Suspects, The (1995)\n",
            "number of ratings: 55366\n",
            "average rating: 4.284353213163313\n",
            "\n",
            "title: Cosmos\n",
            "number of ratings: 277\n",
            "average rating: 4.3267148014440435\n",
            "\n",
            "title: Blue Planet II (2017)\n",
            "number of ratings: 659\n",
            "average rating: 4.289833080424886\n",
            "\n",
            "title: Godfather: Part II, The (1974)\n",
            "number of ratings: 34188\n",
            "average rating: 4.2617585117585115\n",
            "\n",
            "title: Seven Samurai (Shichinin no samurai) (1954)\n",
            "number of ratings: 13367\n",
            "average rating: 4.25476920775043\n",
            "\n"
          ]
        }
      ]
    },
    {
      "cell_type": "code",
      "source": [],
      "metadata": {
        "id": "Pp-ytDE7TWHt"
      },
      "execution_count": null,
      "outputs": []
    }
  ]
}