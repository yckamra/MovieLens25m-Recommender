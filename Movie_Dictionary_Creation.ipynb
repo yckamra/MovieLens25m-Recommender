{
  "nbformat": 4,
  "nbformat_minor": 0,
  "metadata": {
    "colab": {
      "provenance": [],
      "authorship_tag": "ABX9TyN5dWCUn5fnfPGRDv2cNMJs",
      "include_colab_link": true
    },
    "kernelspec": {
      "name": "python3",
      "display_name": "Python 3"
    },
    "language_info": {
      "name": "python"
    }
  },
  "cells": [
    {
      "cell_type": "markdown",
      "metadata": {
        "id": "view-in-github",
        "colab_type": "text"
      },
      "source": [
        "<a href=\"https://colab.research.google.com/github/yckamra/MovieLens25m-Recommender/blob/main/Movie_Dictionary_Creation.ipynb\" target=\"_parent\"><img src=\"https://colab.research.google.com/assets/colab-badge.svg\" alt=\"Open In Colab\"/></a>"
      ]
    },
    {
      "cell_type": "code",
      "execution_count": null,
      "metadata": {
        "id": "Ciqj5JsNa6_W"
      },
      "outputs": [],
      "source": [
        "print(\"Installing project dependencies...\")\n",
        "!pip install numpy pandas scipy scikit-learn # Basic libraries we want\n",
        "!pip install implicit # Installs implicit library for matrix factorization\n",
        "#!pip install torch\n",
        "print(\"Dependencies installed successfully.\")"
      ]
    },
    {
      "cell_type": "code",
      "source": [
        "from google.colab import auth\n",
        "import zipfile\n",
        "import os\n",
        "import pandas as pd\n",
        "import numpy as np\n",
        "import implicit"
      ],
      "metadata": {
        "id": "nmxju1u7bEfI"
      },
      "execution_count": null,
      "outputs": []
    },
    {
      "cell_type": "code",
      "source": [
        "auth.authenticate_user()\n",
        "\n",
        "!gcloud config set project movielens-recommender-451017\n",
        "\n",
        "!gsutil cp gs://movielens-data/movielens_data.zip /content/"
      ],
      "metadata": {
        "id": "R9IChx6ZbIXB"
      },
      "execution_count": null,
      "outputs": []
    },
    {
      "cell_type": "markdown",
      "source": [
        "TMDb dataset: https://www.kaggle.com/datasets/tmdb/tmdb-movie-metadata?select=tmdb_5000_movies.csv\n",
        "\n",
        "MovieLens dataset: https://www.kaggle.com/datasets/garymk/movielens-25m-dataset"
      ],
      "metadata": {
        "id": "BNIMqCN0clcU"
      }
    },
    {
      "cell_type": "code",
      "source": [
        "!ls -lh /content/"
      ],
      "metadata": {
        "id": "vHAK2WCbbLCF"
      },
      "execution_count": null,
      "outputs": []
    },
    {
      "cell_type": "code",
      "source": [
        "zip_path = \"/content/movielens_data.zip\"  # Change to your actual zip file name\n",
        "extract_to = \"/content/data/\"  # Where to extract files\n",
        "\n",
        "# Create directory if it doesn't exist\n",
        "os.makedirs(extract_to, exist_ok=True)\n",
        "\n",
        "# Unzip the file\n",
        "with zipfile.ZipFile(zip_path, \"r\") as zip_ref:\n",
        "    zip_ref.extractall(extract_to)\n",
        "\n",
        "print(\"Extraction complete! Files are in:\", extract_to)\n",
        "!ls -lh /content/data/ml-25m"
      ],
      "metadata": {
        "id": "z3tsP4dpbNsp"
      },
      "execution_count": null,
      "outputs": []
    },
    {
      "cell_type": "code",
      "source": [
        "genome_scores_CSV = \"/content/data/ml-25m/genome-scores.csv\"\n",
        "genome_tags_CSV = \"/content/data/ml-25m/genome-tags.csv\"\n",
        "links_CSV = \"/content/data/ml-25m/links.csv\"\n",
        "movies_CSV = \"/content/data/ml-25m/movies.csv\"\n",
        "ratings_CSV = \"/content/data/ml-25m/ratings.csv\"\n",
        "tags_CSV = \"/content/data/ml-25m/tags.csv\""
      ],
      "metadata": {
        "id": "Ox-l1-D3bSRX"
      },
      "execution_count": null,
      "outputs": []
    },
    {
      "cell_type": "code",
      "source": [
        "class Movie:\n",
        "  # Items in self:\n",
        "  #     ID\n",
        "  #     name\n",
        "  #     genre_list\n",
        "  #     number_of_ratings -- total amount this movies has been rated\n",
        "  #     sum_of_ratings -- summation of all the ratings from all users for this movie\n",
        "\n",
        "  def __init__(self):\n",
        "    self.ID = 0\n",
        "    self.title = \"\"\n",
        "    self.genre_list = []\n",
        "    self.tag_list = []\n",
        "    self.number_of_ratings = 0\n",
        "    self.sum_of_ratings = 0\n",
        "\n",
        "  def get_tag_list(self):\n",
        "    return self.tag_list\n",
        "\n",
        "  def add_tag_to_tag_list(self, tag):\n",
        "    self.tag_list.append(tag)\n",
        "\n",
        "  def get_ID(self):\n",
        "    return self.ID\n",
        "\n",
        "  def set_ID(self, ID):\n",
        "    self.ID = ID\n",
        "\n",
        "  def set_title(self, title):\n",
        "    self.title = title\n",
        "\n",
        "  def get_title(self):\n",
        "    return self.title\n",
        "\n",
        "  def set_genre_list(self, genre_list):\n",
        "    self.genre_list = genre_list\n",
        "\n",
        "  def add_genre_to_genre_list(self, genre):\n",
        "    self.genre_list.append(genre)\n",
        "\n",
        "  def get_genre_list(self):\n",
        "    return self.genre_list\n",
        "\n",
        "  def get_number_of_ratings(self):\n",
        "    return self.number_of_ratings\n",
        "\n",
        "  def set_number_of_ratings(self, number):\n",
        "    self.number_of_ratings = number\n",
        "\n",
        "  def add_to_number_of_ratings(self):\n",
        "    self.number_of_ratings += 1\n",
        "\n",
        "  def get_sum_of_ratings(self):\n",
        "    return self.sum_of_ratings\n",
        "\n",
        "  def set_sum_of_ratings(self, number):\n",
        "    self.sum_of_ratings = number\n",
        "\n",
        "  def add_rating_to_sum_of_ratings(self, rating):\n",
        "    self.sum_of_ratings += rating\n",
        "\n",
        "  def calculate_average_rating(self):\n",
        "    return self.sum_of_ratings / self.number_of_ratings"
      ],
      "metadata": {
        "id": "nIOyFe8ebTil"
      },
      "execution_count": null,
      "outputs": []
    },
    {
      "cell_type": "code",
      "source": [
        "# Load ratings data\n",
        "ratings_path = ratings_CSV\n",
        "ratings_df = pd.read_csv(ratings_path)\n",
        "\n",
        "print(ratings_df)\n",
        "\n",
        "# Load movies data\n",
        "movies_path = movies_CSV\n",
        "movies_df = pd.read_csv(movies_path)\n",
        "\n",
        "print(movies_df)\n",
        "\n",
        "# Load tags data\n",
        "tags_path = tags_CSV\n",
        "tags_df = pd.read_csv(tags_path)\n",
        "\n",
        "print(tags_df)"
      ],
      "metadata": {
        "id": "mMsERZR-bXDn"
      },
      "execution_count": null,
      "outputs": []
    },
    {
      "cell_type": "code",
      "source": [
        "def parse_genres(genre_string):\n",
        "  genre_list = genre_string.split('|')\n",
        "  return genre_list\n",
        "\n",
        "def create_all_movies_dictionary(movies_df, ratings_df):\n",
        "  all_movies_dictionary = {}\n",
        "  for index, row in movies_df.iterrows():\n",
        "    if row[\"movieId\"] not in all_movies_dictionary:\n",
        "      all_movies_dictionary[row[\"movieId\"]] = Movie()\n",
        "      all_movies_dictionary[row[\"movieId\"]].set_title(row[\"title\"])\n",
        "      all_movies_dictionary[row[\"movieId\"]].set_ID(row[\"movieId\"])\n",
        "      all_movies_dictionary[row[\"movieId\"]].set_genre_list(parse_genres(row[\"genres\"]))\n",
        "  for index, row in tags_df.iterrows():\n",
        "    if row[\"movieId\"] not in all_movies_dictionary:\n",
        "      all_movies_dictionary[row[\"movieId\"]] = Movie()\n",
        "    all_movies_dictionary[row[\"movieId\"]].add_tag_to_tag_list(row[\"tag\"])\n",
        "  for index, row in ratings_df.iterrows():\n",
        "    if row[\"movieId\"] not in all_movies_dictionary:\n",
        "      all_movies_dictionary[row[\"movieId\"]] = Movie()\n",
        "    all_movies_dictionary[row[\"movieId\"]].add_to_number_of_ratings()\n",
        "    all_movies_dictionary[row[\"movieId\"]].add_rating_to_sum_of_ratings(row[\"rating\"])\n",
        "\n",
        "  return all_movies_dictionary\n",
        "\n",
        "allMovies = create_all_movies_dictionary(movies_df, ratings_df)"
      ],
      "metadata": {
        "id": "MrEkxjVrbaDY"
      },
      "execution_count": null,
      "outputs": []
    },
    {
      "cell_type": "code",
      "source": [
        "the_ID = 2\n",
        "print(allMovies[the_ID].get_ID())\n",
        "print(allMovies[the_ID].get_title())\n",
        "print(allMovies[the_ID].get_genre_list())\n",
        "print(allMovies[the_ID].calculate_average_rating())\n",
        "print(allMovies[the_ID].get_number_of_ratings())\n",
        "print(allMovies[the_ID].get_tag_list())"
      ],
      "metadata": {
        "id": "4vuefl1Ybcq8"
      },
      "execution_count": null,
      "outputs": []
    }
  ]
}